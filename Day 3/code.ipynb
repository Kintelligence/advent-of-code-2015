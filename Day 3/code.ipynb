{
 "cells": [
  {
   "cell_type": "code",
   "execution_count": null,
   "metadata": {
    "dotnet_interactive": {
     "language": "csharp"
    }
   },
   "outputs": [],
   "source": [
    "using System;\n",
    "using System.IO;\n",
    "using System.Collections.Generic;\n",
    "using System.Collections;\n"
   ]
  },
  {
   "cell_type": "code",
   "execution_count": null,
   "metadata": {
    "dotnet_interactive": {
     "language": "csharp"
    }
   },
   "outputs": [],
   "source": [
    "var input = await File.ReadAllLinesAsync(\"input.txt\");"
   ]
  },
  {
   "cell_type": "code",
   "execution_count": null,
   "metadata": {
    "dotnet_interactive": {
     "language": "csharp"
    }
   },
   "outputs": [
    {
     "data": {
      "text/html": [
       "<div class=\"dni-plaintext\">2360</div>"
      ]
     },
     "metadata": {},
     "output_type": "display_data"
    }
   ],
   "source": [
    "var dict = new Dictionary<(int, int), bool>();\n",
    "\n",
    "var x = 0;\n",
    "var y = 0;\n",
    "var rx = 0;\n",
    "var ry = 0;\n",
    "bool a = true;\n",
    "\n",
    "dict[(x,y)] = true;\n",
    "\n",
    "foreach(var line in input)\n",
    "{\n",
    "    foreach(var c in line)\n",
    "    {\n",
    "        switch(c)\n",
    "        {\n",
    "            case '<':\n",
    "            if(a)\n",
    "                rx--;\n",
    "            else\n",
    "                x--;\n",
    "            break;\n",
    "            case '>':\n",
    "            if(a)\n",
    "                rx++;\n",
    "            else\n",
    "                x++;\n",
    "            break;\n",
    "            case '^':\n",
    "            if(a)\n",
    "                ry++;\n",
    "            else\n",
    "                y++;\n",
    "            break;\n",
    "            case 'v':\n",
    "            if(a)\n",
    "                ry--;\n",
    "            else\n",
    "                y--;\n",
    "            break;\n",
    "            default:\n",
    "            break;            \n",
    "        }\n",
    "        dict[(x,y)] = true;\n",
    "        dict[(rx,ry)] = true;\n",
    "        a = !a;\n",
    "    }\n",
    "}\n",
    "\n",
    "dict.Count()"
   ]
  }
 ],
 "metadata": {
  "kernelspec": {
   "display_name": ".NET (C#)",
   "language": "C#",
   "name": ".net-csharp"
  },
  "language_info": {
   "file_extension": ".cs",
   "mimetype": "text/x-csharp",
   "name": "C#",
   "pygments_lexer": "csharp",
   "version": "9.0"
  },
  "orig_nbformat": 4
 },
 "nbformat": 4,
 "nbformat_minor": 2
}
