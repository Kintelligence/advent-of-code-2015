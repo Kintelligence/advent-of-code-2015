{
 "cells": [
  {
   "cell_type": "code",
   "execution_count": null,
   "metadata": {
    "dotnet_interactive": {
     "language": "csharp"
    }
   },
   "outputs": [],
   "source": [
    "using System;\n",
    "using System.IO;\n",
    "using System.Collections.Generic;\n",
    "using System.Collections;\n",
    "using System.Threading;"
   ]
  },
  {
   "cell_type": "code",
   "execution_count": null,
   "metadata": {
    "dotnet_interactive": {
     "language": "csharp"
    }
   },
   "outputs": [],
   "source": [
    "var input = await File.ReadAllLinesAsync(\"input.txt\");"
   ]
  },
  {
   "cell_type": "code",
   "execution_count": null,
   "metadata": {
    "dotnet_interactive": {
     "language": "csharp"
    }
   },
   "outputs": [
    {
     "data": {
      "text/html": [
       "<div class=\"dni-plaintext\">1342</div>"
      ]
     },
     "metadata": {},
     "output_type": "display_data"
    }
   ],
   "source": [
    "var total = 0;\n",
    "\n",
    "foreach(var line in input)\n",
    "{\n",
    "    var sum = line.Length;    \n",
    "    var trim = line.Trim('\"');\n",
    "    var sub = trim.Length;\n",
    "    for(int i = 1; i < trim.Length; i++)\n",
    "    {\n",
    "        if(trim[i - 1] == '\\\\')\n",
    "        {\n",
    "            if(trim[i] == 'x')\n",
    "            {\n",
    "                i += 3;\n",
    "                sub -= 3;\n",
    "            }\n",
    "            else{\n",
    "                i++;\n",
    "                sub--;\n",
    "            }\n",
    "        }\n",
    "    }\n",
    "    total += sum - sub;\n",
    "}\n",
    "\n",
    "total"
   ]
  },
  {
   "cell_type": "code",
   "execution_count": null,
   "metadata": {
    "dotnet_interactive": {
     "language": "csharp"
    }
   },
   "outputs": [
    {
     "data": {
      "text/html": [
       "<div class=\"dni-plaintext\">2074</div>"
      ]
     },
     "metadata": {},
     "output_type": "display_data"
    }
   ],
   "source": [
    "var total = 0;\n",
    "\n",
    "foreach(var line in input)\n",
    "{\n",
    "    var sum = line.Length;    \n",
    "    var sub = line.Length + 2;\n",
    "    for(int i = 0; i < line.Length; i++)\n",
    "    {\n",
    "        if(line[i] == '\\\\' || line[i] == '\"')\n",
    "        {\n",
    "            sub++;\n",
    "        }\n",
    "    }\n",
    "    total += sub - sum;\n",
    "}\n",
    "\n",
    "total"
   ]
  }
 ],
 "metadata": {
  "kernelspec": {
   "display_name": ".NET (C#)",
   "language": "C#",
   "name": ".net-csharp"
  },
  "language_info": {
   "file_extension": ".cs",
   "mimetype": "text/x-csharp",
   "name": "C#",
   "pygments_lexer": "csharp",
   "version": "9.0"
  },
  "orig_nbformat": 4
 },
 "nbformat": 4,
 "nbformat_minor": 2
}
