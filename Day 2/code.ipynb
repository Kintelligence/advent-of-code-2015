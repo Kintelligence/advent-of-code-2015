{
 "cells": [
  {
   "cell_type": "code",
   "execution_count": null,
   "metadata": {
    "dotnet_interactive": {
     "language": "csharp"
    }
   },
   "outputs": [],
   "source": [
    "using System;\n",
    "using System.IO;"
   ]
  },
  {
   "cell_type": "code",
   "execution_count": null,
   "metadata": {
    "dotnet_interactive": {
     "language": "csharp"
    }
   },
   "outputs": [],
   "source": [
    "var input = await File.ReadAllLinesAsync(\"input.txt\");"
   ]
  },
  {
   "cell_type": "code",
   "execution_count": null,
   "metadata": {
    "dotnet_interactive": {
     "language": "csharp"
    }
   },
   "outputs": [
    {
     "data": {
      "text/html": [
       "<div class=\"dni-plaintext\">1588178</div>"
      ]
     },
     "metadata": {},
     "output_type": "display_data"
    }
   ],
   "source": [
    "var sum = 0;\n",
    "\n",
    "foreach(var line in input)\n",
    "{\n",
    "    var dimensions = line.Split('x');\n",
    "    var l = int.Parse(dimensions[0]);\n",
    "    var w = int.Parse(dimensions[1]);\n",
    "    var h = int.Parse(dimensions[2]);\n",
    "\n",
    "    var a = l * w;\n",
    "    var b = w * h;\n",
    "    var c = h * l;\n",
    "\n",
    "    var min = Math.Min(a, Math.Min(b, c));\n",
    "\n",
    "    sum += 2 * (a + b + c) + min;\n",
    "}\n",
    "\n",
    "sum"
   ]
  },
  {
   "cell_type": "code",
   "execution_count": null,
   "metadata": {
    "dotnet_interactive": {
     "language": "csharp"
    }
   },
   "outputs": [
    {
     "data": {
      "text/html": [
       "<div class=\"dni-plaintext\">3783758</div>"
      ]
     },
     "metadata": {},
     "output_type": "display_data"
    }
   ],
   "source": [
    "var sum = 0;\n",
    "\n",
    "foreach(var line in input)\n",
    "{\n",
    "    var dimensions = line.Split('x');\n",
    "    var l = int.Parse(dimensions[0]);\n",
    "    var w = int.Parse(dimensions[1]);\n",
    "    var h = int.Parse(dimensions[2]);\n",
    "\n",
    "    var a = l + w;\n",
    "    var b = w + h;\n",
    "    var c = h + l;\n",
    "\n",
    "    var min = Math.Min(a, Math.Min(b, c));\n",
    "\n",
    "    sum += l*w*h + min*2;\n",
    "}\n",
    "\n",
    "sum"
   ]
  }
 ],
 "metadata": {
  "kernelspec": {
   "display_name": ".NET (C#)",
   "language": "C#",
   "name": ".net-csharp"
  },
  "language_info": {
   "file_extension": ".cs",
   "mimetype": "text/x-csharp",
   "name": "C#",
   "pygments_lexer": "csharp",
   "version": "9.0"
  },
  "orig_nbformat": 4
 },
 "nbformat": 4,
 "nbformat_minor": 2
}
