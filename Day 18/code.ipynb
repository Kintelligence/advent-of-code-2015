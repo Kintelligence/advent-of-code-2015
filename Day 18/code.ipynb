{
 "cells": [
  {
   "cell_type": "code",
   "execution_count": null,
   "metadata": {
    "dotnet_interactive": {
     "language": "csharp"
    },
    "vscode": {
     "languageId": "dotnet-interactive.csharp"
    }
   },
   "outputs": [],
   "source": [
    "using System;\n",
    "using System.IO;\n",
    "using System.Collections.Generic;\n",
    "using System.Collections;\n",
    "using System.Threading;\n",
    "using System.Text.Json;"
   ]
  },
  {
   "cell_type": "code",
   "execution_count": null,
   "metadata": {
    "dotnet_interactive": {
     "language": "csharp"
    },
    "vscode": {
     "languageId": "dotnet-interactive.csharp"
    }
   },
   "outputs": [],
   "source": [
    "public class Debug : IDisposable\n",
    "{\n",
    "    public static bool IsEnabled {get; private set;} = false;\n",
    "\n",
    "    public static void Print(string input)\n",
    "    {\n",
    "        if(IsEnabled)\n",
    "        {\n",
    "            Console.WriteLine(input);\n",
    "        }\n",
    "    }\n",
    "\n",
    "    public Debug(bool enable = true)\n",
    "    {\n",
    "        IsEnabled = enable;\n",
    "    }\n",
    "\n",
    "    public void Dispose()\n",
    "    {\n",
    "        IsEnabled = false;\n",
    "    }\n",
    "}"
   ]
  },
  {
   "cell_type": "code",
   "execution_count": null,
   "metadata": {
    "dotnet_interactive": {
     "language": "csharp"
    },
    "vscode": {
     "languageId": "dotnet-interactive.csharp"
    }
   },
   "outputs": [
    {
     "ename": "Error",
     "evalue": "(43,16): error CS0161: 'Light.LitNeighbours(int, int)': not all code paths return a value\r\n(48,40): error CS0161: 'Light.GetNeighbours(int, int)': not all code paths return a value",
     "output_type": "error",
     "traceback": [
      "(43,16): error CS0161: 'Light.LitNeighbours(int, int)': not all code paths return a value\r\n",
      "(48,40): error CS0161: 'Light.GetNeighbours(int, int)': not all code paths return a value"
     ]
    }
   ],
   "source": [
    "public class Light{\n",
    "    public bool[,] Map {get; private set;}\n",
    "    public int Width {get; init;}\n",
    "    public int Height {get; init;}\n",
    "\n",
    "    public Light(string fileName)\n",
    "    {\n",
    "        var input = File.ReadAllLines(fileName).ToArray();\n",
    "        Height = input.Length;\n",
    "        Width = input.First().Length;\n",
    "\n",
    "        Map = new bool[Width, Height];\n",
    "\n",
    "        for(int y = 0; y < Height; y++)\n",
    "        {\n",
    "            var line = input[y];\n",
    "            for(int x = 0; x < Width; x++)\n",
    "            {\n",
    "                Map[x,y] = line[x] == '#' ? true : false;\n",
    "            }\n",
    "        }\n",
    "    }\n",
    "\n",
    "    public void Step()\n",
    "    {\n",
    "        var copy = (bool[,]) Map.Clone();\n",
    "\n",
    "        for (var y = 0; y < Height; y++)\n",
    "        {\n",
    "            for (var x = 0; x < Width; x++)\n",
    "            {\n",
    "                if(copy[x, y])\n",
    "                {\n",
    "                    \n",
    "                }\n",
    "                else{\n",
    "\n",
    "                }\n",
    "            }\n",
    "        }\n",
    "    }\n",
    "\n",
    "    public int LitNeighbours(int x, int y)\n",
    "    {\n",
    "\n",
    "    }\n",
    "\n",
    "    public IEnumerable<(int x, int y)> GetNeighbours(int x, int y)\n",
    "    {\n",
    "        if(x > 0)\n",
    "        {\n",
    "            if(y > 0)\n",
    "            {\n",
    "                yield return (x - 1, y - 1);\n",
    "            }\n",
    "\n",
    "            if(y < Height - 1)\n",
    "            {\n",
    "                yield return (x - 1, y + 1);\n",
    "            }\n",
    "\n",
    "            yield return (x - 1, y);\n",
    "        }\n",
    "\n",
    "        if(y > 0)\n",
    "        {\n",
    "            yield return (x, y - 1);\n",
    "        }\n",
    "\n",
    "        if(y < Height - 1)\n",
    "        {\n",
    "            yield return (x, y + 1);\n",
    "        }\n",
    "\n",
    "        if(x < Width - 1)\n",
    "        {\n",
    "            if(y > 0)\n",
    "            {\n",
    "                yield return (x + 1, y - 1);\n",
    "            }\n",
    "\n",
    "            if(y < Height - 1)\n",
    "            {\n",
    "                yield return (x + 1, y + 1);\n",
    "            }\n",
    "\n",
    "            yield return (x + 1, y);\n",
    "        }\n",
    "    }\n",
    "\n",
    "    public int Count()\n",
    "    {\n",
    "        var sum = 0;\n",
    "\n",
    "        for (var i = 0; i < Map.GetLength(0); i++)\n",
    "        {\n",
    "            for (var j = 0; j < Map.GetLength(1); j++)\n",
    "            {\n",
    "                if(Map[j, i])\n",
    "                {\n",
    "                    sum++;\n",
    "                }\n",
    "            }\n",
    "        }\n",
    "\n",
    "        return sum;\n",
    "    }\n",
    "\n",
    "    public override string ToString()\n",
    "    {        \n",
    "        var s = new StringBuilder();\n",
    "\n",
    "        s.AppendLine($\"Dimensions: {Width} x {Height}, Sum: {Count()}\");\n",
    "\n",
    "        for (var i = 0; i < Map.GetLength(0); i++)\n",
    "        {\n",
    "            for (var j = 0; j < Map.GetLength(1); j++)\n",
    "            {\n",
    "                s.Append(Map[j, i] ? '#' : '.');\n",
    "            }\n",
    "\n",
    "            s.AppendLine();\n",
    "        }\n",
    "\n",
    "        return s.ToString();\n",
    "    }\n",
    "}"
   ]
  },
  {
   "cell_type": "code",
   "execution_count": null,
   "metadata": {
    "dotnet_interactive": {
     "language": "csharp"
    },
    "vscode": {
     "languageId": "dotnet-interactive.csharp"
    }
   },
   "outputs": [
    {
     "data": {
      "text/plain": [
       "Dimensions: 6 x 6, Sum: 15\r\n",
       ".#.#.#\r\n",
       "...##.\r\n",
       "#....#\r\n",
       "..#...\r\n",
       "#.#..#\r\n",
       "####..\r\n"
      ]
     },
     "metadata": {},
     "output_type": "display_data"
    }
   ],
   "source": [
    "var n = new Light(\"sample.txt\");\n",
    "n.ToString()"
   ]
  }
 ],
 "metadata": {
  "kernelspec": {
   "display_name": ".NET (C#)",
   "language": "C#",
   "name": ".net-csharp"
  },
  "language_info": {
   "file_extension": ".cs",
   "mimetype": "text/x-csharp",
   "name": "C#",
   "pygments_lexer": "csharp",
   "version": "9.0"
  },
  "orig_nbformat": 4
 },
 "nbformat": 4,
 "nbformat_minor": 2
}
