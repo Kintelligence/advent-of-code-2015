{
 "cells": [
  {
   "cell_type": "code",
   "execution_count": null,
   "metadata": {
    "dotnet_interactive": {
     "language": "csharp"
    }
   },
   "outputs": [],
   "source": [
    "using System;\n",
    "using System.IO;\n",
    "using System.Collections.Generic;\n",
    "using System.Collections;\n",
    "using System.Threading;\n",
    "using System.Text.Json;"
   ]
  },
  {
   "cell_type": "code",
   "execution_count": null,
   "metadata": {
    "dotnet_interactive": {
     "language": "csharp"
    }
   },
   "outputs": [],
   "source": [
    "var input = File.ReadAllLines(\"input.txt\");"
   ]
  },
  {
   "cell_type": "code",
   "execution_count": null,
   "metadata": {
    "dotnet_interactive": {
     "language": "csharp"
    }
   },
   "outputs": [],
   "source": [
    "public class Debug : IDisposable\n",
    "{\n",
    "    public static bool IsEnabled {get; private set;} = false;\n",
    "\n",
    "    public static void Print(string input)\n",
    "    {\n",
    "        if(IsEnabled)\n",
    "        {\n",
    "            Console.WriteLine(input);\n",
    "        }\n",
    "    }\n",
    "\n",
    "    public Debug(bool enable = true)\n",
    "    {\n",
    "        IsEnabled = enable;\n",
    "    }\n",
    "\n",
    "    public void Dispose()\n",
    "    {\n",
    "        IsEnabled = false;\n",
    "    }\n",
    "}"
   ]
  },
  {
   "cell_type": "code",
   "execution_count": null,
   "metadata": {
    "dotnet_interactive": {
     "language": "csharp"
    }
   },
   "outputs": [],
   "source": [
    "public interface State\n",
    "{\n",
    "    bool IsGoal {get;}\n",
    "    string Id {get;}\n",
    "    IEnumerable<(State state, long cost)> Neighbours();\n",
    "}"
   ]
  },
  {
   "cell_type": "code",
   "execution_count": null,
   "metadata": {
    "dotnet_interactive": {
     "language": "csharp"
    }
   },
   "outputs": [],
   "source": [
    "public class Dijkstra\n",
    "{\n",
    "    public Dictionary<string, long> Cost = new Dictionary<string, long>();\n",
    "    public PriorityQueue<State, long> Queue = new PriorityQueue<State, long>();\n",
    "\n",
    "    public int Count = 0;\n",
    "    \n",
    "    public long Run(State start)\n",
    "    {\n",
    "        Queue.Enqueue(start, 0);\n",
    "\n",
    "        State node;\n",
    "        long cost;\n",
    "        while(Queue.TryDequeue(out node, out cost))\n",
    "        {            \n",
    "            Count++;\n",
    "\n",
    "            if(Count % 100000 == 0)\n",
    "            {\n",
    "                Debug.Print($\"Visited {Count} nodes. {Queue.Count} left\");\n",
    "            }\n",
    "            \n",
    "            if(node.IsGoal)\n",
    "            {\n",
    "                break;\n",
    "            }\n",
    "            \n",
    "            foreach(var n in node.Neighbours())\n",
    "            {\n",
    "                long total = n.cost + cost;\n",
    "\n",
    "                if(Cost.TryGetValue(n.state.Id, out var c))\n",
    "                {\n",
    "                    if(c <= total)\n",
    "                    {\n",
    "                        continue;\n",
    "                    }\n",
    "                }\n",
    "                Cost[n.state.Id] = total;\n",
    "                Queue.Enqueue(n.state, total);\n",
    "            }\n",
    "        }\n",
    "        Debug.Print(\"Done?\");\n",
    "\n",
    "        if(node?.IsGoal == true)\n",
    "        {\n",
    "            Debug.Print(\"YES!\");\n",
    "            return cost;\n",
    "        }\n",
    "        else{\n",
    "            Debug.Print(\"NO!\");\n",
    "            return -1;\n",
    "        }\n",
    "    }\n",
    "}"
   ]
  },
  {
   "cell_type": "code",
   "execution_count": null,
   "metadata": {
    "dotnet_interactive": {
     "language": "csharp"
    }
   },
   "outputs": [],
   "source": [
    "public static class Graph\n",
    "{\n",
    "    public static List<string> N {get; set;} = new List<string>();\n",
    "    public static Dictionary<(string from, string to),long> H {get; set;} = new Dictionary<(string, string), long>();\n",
    "    public static void Load(IEnumerable<string> input)\n",
    "    {\n",
    "        foreach(var line in input)\n",
    "        {\n",
    "            var seg = line.Split(new []{' ', '.'}, 11, StringSplitOptions.RemoveEmptyEntries | StringSplitOptions.TrimEntries);\n",
    "            H[(seg[0], seg[10].Trim('.'))] = long.Parse(seg[3]) * (seg[2] == \"gain\" ? 1 : -1);\n",
    "\n",
    "            if(!N.Contains(seg[0]))\n",
    "            {\n",
    "                N.Add(seg[0]);\n",
    "            }\n",
    "        }\n",
    "    }\n",
    "}"
   ]
  },
  {
   "cell_type": "code",
   "execution_count": null,
   "metadata": {
    "dotnet_interactive": {
     "language": "csharp"
    }
   },
   "outputs": [],
   "source": [
    "public class TablePlan : State\n",
    "{\n",
    "    public List<string> Plan {get; init;}\n",
    "    public bool IsGoal => Plan?.Count() == Graph.N.Count();\n",
    "    public string Id => Plan == null ? \"empty\" : string.Join(';', Plan);\n",
    "    public IEnumerable<(State state, long cost)> Neighbours()\n",
    "    {\n",
    "        if(Plan == null)\n",
    "        {\n",
    "            yield return (new TablePlan{Plan = new List<string>{Graph.N.First()}}, 0);\n",
    "            yield break;\n",
    "        }\n",
    "\n",
    "        foreach(var to in Graph.N.Except(Plan))\n",
    "        {\n",
    "            var from = Plan.Last();\n",
    "\n",
    "            if(Plan.Count() == Graph.N.Count() - 1)\n",
    "            {\n",
    "                var first = Plan.First();\n",
    "                yield return (new TablePlan{Plan = Plan.Append(to).ToList()}, -(Graph.H[(from, to)] + Graph.H[(to, from)] + Graph.H[(first, to)] + Graph.H[(to, first)]));\n",
    "            }\n",
    "            else{\n",
    "                yield return (new TablePlan{Plan = Plan.Append(to).ToList()}, -(Graph.H[(from, to)] + Graph.H[(to, from)]));\n",
    "            }\n",
    "        }\n",
    "    }\n",
    "}"
   ]
  },
  {
   "cell_type": "code",
   "execution_count": null,
   "metadata": {
    "dotnet_interactive": {
     "language": "csharp"
    }
   },
   "outputs": [],
   "source": [
    "Graph.Load(input);"
   ]
  },
  {
   "cell_type": "code",
   "execution_count": null,
   "metadata": {
    "dotnet_interactive": {
     "language": "csharp"
    }
   },
   "outputs": [],
   "source": [
    "// Graph.H.Display();\n",
    "// Graph.N"
   ]
  },
  {
   "cell_type": "code",
   "execution_count": null,
   "metadata": {
    "dotnet_interactive": {
     "language": "csharp"
    }
   },
   "outputs": [
    {
     "name": "stdout",
     "output_type": "stream",
     "text": [
      "Start\r\n",
      "First\r\n",
      "Alice\r\n",
      "Start\r\n",
      "Continue\r\n",
      "Bob\r\n",
      "Continue\r\n",
      "Carol\r\n",
      "Continue\r\n",
      "David\r\n",
      "Start\r\n",
      "Continue\r\n",
      "Carol\r\n",
      "Continue\r\n",
      "David\r\n",
      "Start\r\n",
      "Continue\r\n",
      "David\r\n",
      "Done?\r\n",
      "YES!\r\n"
     ]
    },
    {
     "data": {
      "text/html": [
       "<div class=\"dni-plaintext\">-330</div>"
      ]
     },
     "metadata": {},
     "output_type": "display_data"
    }
   ],
   "source": [
    "var d = new Dijkstra();\n",
    "using(new Debug())\n",
    "{\n",
    "    d.Run(new TablePlan()).Display();\n",
    "}"
   ]
  }
 ],
 "metadata": {
  "kernelspec": {
   "display_name": ".NET (C#)",
   "language": "C#",
   "name": ".net-csharp"
  },
  "language_info": {
   "file_extension": ".cs",
   "mimetype": "text/x-csharp",
   "name": "C#",
   "pygments_lexer": "csharp",
   "version": "9.0"
  },
  "orig_nbformat": 4
 },
 "nbformat": 4,
 "nbformat_minor": 2
}
