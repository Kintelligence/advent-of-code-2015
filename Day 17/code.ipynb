{
 "cells": [
  {
   "cell_type": "code",
   "execution_count": null,
   "metadata": {
    "dotnet_interactive": {
     "language": "csharp"
    },
    "vscode": {
     "languageId": "dotnet-interactive.csharp"
    }
   },
   "outputs": [],
   "source": [
    "using System;\n",
    "using System.IO;\n",
    "using System.Collections.Generic;\n",
    "using System.Collections;\n",
    "using System.Threading;\n",
    "using System.Text.Json;"
   ]
  },
  {
   "cell_type": "code",
   "execution_count": null,
   "metadata": {
    "dotnet_interactive": {
     "language": "csharp"
    },
    "vscode": {
     "languageId": "dotnet-interactive.csharp"
    }
   },
   "outputs": [],
   "source": [
    "public class Debug : IDisposable\n",
    "{\n",
    "    public static bool IsEnabled {get; private set;} = false;\n",
    "\n",
    "    public static void Print(string input)\n",
    "    {\n",
    "        if(IsEnabled)\n",
    "        {\n",
    "            Console.WriteLine(input);\n",
    "        }\n",
    "    }\n",
    "\n",
    "    public Debug(bool enable = true)\n",
    "    {\n",
    "        IsEnabled = enable;\n",
    "    }\n",
    "\n",
    "    public void Dispose()\n",
    "    {\n",
    "        IsEnabled = false;\n",
    "    }\n",
    "}"
   ]
  },
  {
   "cell_type": "code",
   "execution_count": null,
   "metadata": {
    "dotnet_interactive": {
     "language": "csharp"
    },
    "vscode": {
     "languageId": "dotnet-interactive.csharp"
    }
   },
   "outputs": [],
   "source": [
    "var input = File.ReadAllLines(\"input.txt\");"
   ]
  }
 ],
 "metadata": {
  "kernelspec": {
   "display_name": ".NET (C#)",
   "language": "C#",
   "name": ".net-csharp"
  },
  "language_info": {
   "file_extension": ".cs",
   "mimetype": "text/x-csharp",
   "name": "C#",
   "pygments_lexer": "csharp",
   "version": "9.0"
  },
  "orig_nbformat": 4
 },
 "nbformat": 4,
 "nbformat_minor": 2
}
