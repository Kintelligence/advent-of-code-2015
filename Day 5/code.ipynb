{
 "cells": [
  {
   "cell_type": "code",
   "execution_count": null,
   "metadata": {
    "dotnet_interactive": {
     "language": "csharp"
    }
   },
   "outputs": [],
   "source": [
    "using System;\n",
    "using System.IO;\n",
    "using System.Collections.Generic;\n",
    "using System.Collections;"
   ]
  },
  {
   "cell_type": "code",
   "execution_count": null,
   "metadata": {
    "dotnet_interactive": {
     "language": "csharp"
    }
   },
   "outputs": [],
   "source": [
    "var input = await File.ReadAllLinesAsync(\"input.txt\");"
   ]
  },
  {
   "cell_type": "code",
   "execution_count": null,
   "metadata": {
    "dotnet_interactive": {
     "language": "csharp"
    }
   },
   "outputs": [],
   "source": [
    "static long count = 0;"
   ]
  },
  {
   "cell_type": "code",
   "execution_count": null,
   "metadata": {
    "dotnet_interactive": {
     "language": "csharp"
    }
   },
   "outputs": [],
   "source": [
    "static char[] vowels = new []{'a', 'e', 'i', 'o', 'u'};\n",
    "static string[] blacklist = new []{\"ad\",\"cd\",\"pq\",\"xy\"};\n",
    "\n",
    "public bool EvaluateString(string input)\n",
    "{    \n",
    "    if(input.Where(c => vowels.Contains(c)).Distinct().Count() < 3)\n",
    "    {\n",
    "        return false;\n",
    "    }\n",
    "\n",
    "    bool duplicate = false;\n",
    "\n",
    "    for(int i = 1; i < input.Length; i++)\n",
    "    {\n",
    "        if(input[i] == input[i-1])\n",
    "        {\n",
    "            duplicate = true;\n",
    "            break;\n",
    "        }\n",
    "    }\n",
    "\n",
    "    if(!duplicate)\n",
    "    {\n",
    "        return false;\n",
    "    }\n",
    "\n",
    "    if(blacklist.Any(c => input.Contains(c)))\n",
    "    {\n",
    "        return false;\n",
    "    }\n",
    "\n",
    "    return true;\n",
    "}"
   ]
  },
  {
   "cell_type": "code",
   "execution_count": null,
   "metadata": {
    "dotnet_interactive": {
     "language": "csharp"
    }
   },
   "outputs": [],
   "source": [
    "Parallel.ForEach(input, line => EvaluateString(line));"
   ]
  }
 ],
 "metadata": {
  "kernelspec": {
   "display_name": ".NET (C#)",
   "language": "C#",
   "name": ".net-csharp"
  },
  "language_info": {
   "file_extension": ".cs",
   "mimetype": "text/x-csharp",
   "name": "C#",
   "pygments_lexer": "csharp",
   "version": "9.0"
  },
  "orig_nbformat": 4
 },
 "nbformat": 4,
 "nbformat_minor": 2
}
