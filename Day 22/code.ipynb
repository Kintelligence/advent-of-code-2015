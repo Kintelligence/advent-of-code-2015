{
 "cells": [
  {
   "cell_type": "code",
   "execution_count": 1,
   "metadata": {
    "dotnet_interactive": {
     "language": "csharp"
    },
    "vscode": {
     "languageId": "dotnet-interactive.csharp"
    }
   },
   "outputs": [],
   "source": [
    "using System;\n",
    "using System.IO;\n",
    "using System.Collections.Generic;\n",
    "using System.Collections.Concurrent;\n",
    "using System.Collections;\n",
    "using System.Threading;\n",
    "using System.Text.Json;"
   ]
  },
  {
   "cell_type": "code",
   "execution_count": 2,
   "metadata": {
    "dotnet_interactive": {
     "language": "csharp"
    },
    "vscode": {
     "languageId": "dotnet-interactive.csharp"
    }
   },
   "outputs": [],
   "source": [
    "public class Debug : IDisposable\n",
    "{\n",
    "    public static bool IsEnabled {get; private set;} = false;\n",
    "\n",
    "    public static void Print(string input)\n",
    "    {\n",
    "        if(IsEnabled)\n",
    "        {\n",
    "            Console.WriteLine(input);\n",
    "        }\n",
    "    }\n",
    "\n",
    "    public Debug(bool enable = true)\n",
    "    {\n",
    "        IsEnabled = enable;\n",
    "    }\n",
    "\n",
    "    public void Dispose()\n",
    "    {\n",
    "        IsEnabled = false;\n",
    "    }\n",
    "}"
   ]
  },
  {
   "cell_type": "code",
   "execution_count": 3,
   "metadata": {
    "dotnet_interactive": {
     "language": "csharp"
    },
    "vscode": {
     "languageId": "dotnet-interactive.csharp"
    }
   },
   "outputs": [],
   "source": [
    "var input = File.ReadAllLines(\"input.txt\");"
   ]
  },
  {
   "cell_type": "code",
   "execution_count": 4,
   "metadata": {
    "dotnet_interactive": {
     "language": "csharp"
    },
    "vscode": {
     "languageId": "dotnet-interactive.csharp"
    }
   },
   "outputs": [],
   "source": [
    "public record Unit\n",
    "{\n",
    "    public int Health {get; set;}\n",
    "    public int Damage {get; set;}\n",
    "    public int Armor {get; set;}\n",
    "}"
   ]
  },
  {
   "cell_type": "code",
   "execution_count": 5,
   "metadata": {
    "dotnet_interactive": {
     "language": "csharp"
    },
    "vscode": {
     "languageId": "dotnet-interactive.csharp"
    }
   },
   "outputs": [
    {
     "data": {
      "text/html": [
       "<table><thead><tr><th>Health</th><th>Damage</th><th>Armor</th></tr></thead><tbody><tr><td><div class=\"dni-plaintext\">58</div></td><td><div class=\"dni-plaintext\">9</div></td><td><div class=\"dni-plaintext\">0</div></td></tr></tbody></table>"
      ]
     },
     "metadata": {},
     "output_type": "display_data"
    }
   ],
   "source": [
    "var boss = new Unit();\n",
    "\n",
    "foreach(var line in input)\n",
    "{\n",
    "    var x = int.Parse(line.Split(':').Last());\n",
    "\n",
    "    if(line.Contains(\"Hit\"))\n",
    "    {\n",
    "        boss.Health = x;\n",
    "    }\n",
    "    else if(line.Contains(\"Damage\"))\n",
    "    {\n",
    "        boss.Damage = x;\n",
    "    }\n",
    "    else if(line.Contains(\"Armor\"))\n",
    "    {\n",
    "        boss.Armor = x;\n",
    "    }\n",
    "}\n",
    "\n",
    "boss.Display();"
   ]
  },
  {
   "cell_type": "code",
   "execution_count": 6,
   "metadata": {
    "dotnet_interactive": {
     "language": "csharp"
    },
    "vscode": {
     "languageId": "dotnet-interactive.csharp"
    }
   },
   "outputs": [],
   "source": [
    "#nullable enable\n",
    "\n",
    "public static class Pathfinder\n",
    "{\n",
    "    public static PathfinderResult Dijkstra(\n",
    "        BaseNode start)\n",
    "    {\n",
    "        long visited = 0;\n",
    "\n",
    "        var costs = new Dictionary<ulong, int>();\n",
    "        costs[start.Id] = start.Cost;\n",
    "       \n",
    "        var q = new PriorityQueue<BaseNode, int>();\n",
    "        q.Enqueue(start, 0);\n",
    "\n",
    "        while (q.TryDequeue(out var u, out var c))\n",
    "        {\n",
    "            visited++;\n",
    "\n",
    "            if(visited % 10000 == 0)\n",
    "            {\n",
    "                Debug.Print($\"Visited {visited} nodes\");\n",
    "            }\n",
    "            \n",
    "            if (u.IsGoal)\n",
    "            {\n",
    "                return new PathfinderResult\n",
    "                {\n",
    "                    Success = true,\n",
    "                    GoalNode = u,\n",
    "                    Visited = visited,\n",
    "                    Total = c\n",
    "                };\n",
    "            }\n",
    "\n",
    "            foreach (var v in u.Neighbours())\n",
    "            {\n",
    "                var t = c + v.Cost;\n",
    "\n",
    "                var h = v.Id;\n",
    "                if (costs.TryGetValue(h, out var cachedCost))\n",
    "                {\n",
    "                    if (cachedCost <= t)\n",
    "                    {\n",
    "                        continue;\n",
    "                    }\n",
    "                }\n",
    "\n",
    "                costs[h] = t;\n",
    "                \n",
    "                v.Previous = u;\n",
    "                q.Enqueue(v, t);\n",
    "            }\n",
    "        }\n",
    "\n",
    "        return new PathfinderResult\n",
    "        {\n",
    "            Success = false,\n",
    "            Visited = visited\n",
    "        };\n",
    "    }\n",
    "\n",
    "    public static List<BaseNode> ReconstructPath<T>(BaseNode node)\n",
    "    {\n",
    "        var path = new List<BaseNode>();\n",
    "        BaseNode? current = node;\n",
    "        while (current is not null)\n",
    "        {\n",
    "            path.Insert(0, current);\n",
    "            current = current.Previous;\n",
    "        }\n",
    "\n",
    "        return path;\n",
    "    }\n",
    "}\n",
    "\n",
    "public interface BaseNode\n",
    "{\n",
    "    int Cost { get; init; }\n",
    "    BaseNode? Previous { get; set; }\n",
    "    IEnumerable<BaseNode> Neighbours();\n",
    "    bool IsGoal { get; }\n",
    "    ulong Id { get; }\n",
    "}\n",
    "\n",
    "public record PathfinderResult\n",
    "{\n",
    "    public bool Success { get; init; }\n",
    "    public BaseNode? GoalNode { get; init; }\n",
    "    public long Visited { get; set; }\n",
    "    public long Total {get; set;}\n",
    "}"
   ]
  },
  {
   "cell_type": "code",
   "execution_count": 12,
   "metadata": {
    "dotnet_interactive": {
     "language": "csharp"
    },
    "vscode": {
     "languageId": "dotnet-interactive.csharp"
    }
   },
   "outputs": [],
   "source": [
    "public record GameState\n",
    "{\n",
    "    public ulong Id => ArmorDuration | (PoisonDuration << 4) | (RechargeDuration << 8) | (PlayerHealth << 12) | (BossHealth << 19) | (Mana << 27);\n",
    "    public ulong BossHealth { get; set; }\n",
    "    public ulong PlayerHealth { get; set; }\n",
    "    public ulong Mana { get; set; }\n",
    "    public ulong BossDamage { get; set; }\n",
    "    public ulong ArmorDuration { get; set; }\n",
    "    public ulong PoisonDuration { get; set; }\n",
    "    public ulong RechargeDuration { get; set; }\n",
    "\n",
    "    public GameState Next => this with {\n",
    "        PlayerHealth = PlayerHealth - (BossDamage - (ulong) (ArmorDuration > 1 ? 7 : 0)),\n",
    "        BossHealth = BossHealth - (ulong) (PoisonDuration > 0 ? 3 : 0) - (ulong) (PoisonDuration > 1 ? 3 : 0),\n",
    "        Mana = Mana + (ulong) (RechargeDuration > 1 ? 101 : 0)\n",
    "    };\n",
    "} "
   ]
  },
  {
   "cell_type": "code",
   "execution_count": 11,
   "metadata": {
    "dotnet_interactive": {
     "language": "csharp"
    },
    "vscode": {
     "languageId": "dotnet-interactive.csharp"
    }
   },
   "outputs": [],
   "source": [
    "#nullable enable\n",
    "\n",
    "public record GameNode : BaseNode\n",
    "{\n",
    "    public ulong Id => PreState.Id;\n",
    "    \n",
    "    public int Cost { get; init; }\n",
    "    public BaseNode? Previous { get; set; }\n",
    "    public ulong BossDamage { get; init; }\n",
    "    public GameState PreState {get; init;}\n",
    "    public GameState PostState {\n",
    "        get\n",
    "        {\n",
    "            if(_postState is null)\n",
    "            {\n",
    "                _postState = PreState with {\n",
    "                    \n",
    "                };\n",
    "            }\n",
    "\n",
    "            return _postState;\n",
    "        }\n",
    "    }\n",
    "\n",
    "    private GameState? _postState;\n",
    "    \n",
    "\n",
    "    public bool IsGoal {\n",
    "        get {\n",
    "            return false;\n",
    "        }\n",
    "    }\n",
    "\n",
    "    public IEnumerable<BaseNode> Neighbours() {\n",
    "        var neighbours = new List<BaseNode>();\n",
    "\n",
    "        return neighbours;\n",
    "    }\n",
    "\n",
    "    public string Items {get; init;} = \"\";\n",
    "    \n",
    "}"
   ]
  },
  {
   "cell_type": "code",
   "execution_count": 9,
   "metadata": {
    "dotnet_interactive": {
     "language": "csharp"
    },
    "vscode": {
     "languageId": "dotnet-interactive.csharp"
    }
   },
   "outputs": [
    {
     "name": "stdout",
     "output_type": "stream",
     "text": [
      "1111010000100100000100000001000000100010001000\r\n",
      "46\r\n"
     ]
    }
   ],
   "source": [
    "var id = new GameState{\n",
    "    InitialBossHealth = 128,\n",
    "    InitialPlayerHealth = 64,\n",
    "    InitialMana = 500000,\n",
    "    ArmorDuration = 8,\n",
    "    RechargeDuration = 8,\n",
    "    PoisonDuration = 8\n",
    "}.Id;\n",
    "\n",
    "Console.WriteLine(Convert.ToString((long) id, 2));\n",
    "Console.WriteLine(Convert.ToString((long) id, 2).Length);"
   ]
  }
 ],
 "metadata": {
  "kernelspec": {
   "display_name": ".NET (C#)",
   "language": "C#",
   "name": ".net-csharp"
  },
  "language_info": {
   "file_extension": ".cs",
   "mimetype": "text/x-csharp",
   "name": "C#",
   "pygments_lexer": "csharp",
   "version": "9.0"
  },
  "orig_nbformat": 4
 },
 "nbformat": 4,
 "nbformat_minor": 2
}
