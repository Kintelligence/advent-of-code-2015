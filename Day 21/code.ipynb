{
 "cells": [
  {
   "cell_type": "code",
   "execution_count": null,
   "metadata": {
    "dotnet_interactive": {
     "language": "csharp"
    }
   },
   "outputs": [],
   "source": [
    "using System;\n",
    "using System.IO;\n",
    "using System.Collections.Generic;\n",
    "using System.Collections.Concurrent;\n",
    "using System.Collections;\n",
    "using System.Threading;\n",
    "using System.Text.Json;"
   ]
  },
  {
   "cell_type": "code",
   "execution_count": null,
   "metadata": {
    "dotnet_interactive": {
     "language": "csharp"
    }
   },
   "outputs": [],
   "source": [
    "public class Debug : IDisposable\n",
    "{\n",
    "    public static bool IsEnabled {get; private set;} = false;\n",
    "\n",
    "    public static void Print(string input)\n",
    "    {\n",
    "        if(IsEnabled)\n",
    "        {\n",
    "            Console.WriteLine(input);\n",
    "        }\n",
    "    }\n",
    "\n",
    "    public Debug(bool enable = true)\n",
    "    {\n",
    "        IsEnabled = enable;\n",
    "    }\n",
    "\n",
    "    public void Dispose()\n",
    "    {\n",
    "        IsEnabled = false;\n",
    "    }\n",
    "}"
   ]
  },
  {
   "cell_type": "code",
   "execution_count": null,
   "metadata": {
    "dotnet_interactive": {
     "language": "csharp"
    }
   },
   "outputs": [],
   "source": [
    "var input = File.ReadAllLines(\"input.txt\");"
   ]
  },
  {
   "cell_type": "code",
   "execution_count": null,
   "metadata": {
    "dotnet_interactive": {
     "language": "csharp"
    }
   },
   "outputs": [],
   "source": [
    "public record Unit\n",
    "{\n",
    "    public int Health {get; set;}\n",
    "    public int Damage {get; set;}\n",
    "    public int Armor {get; set;}\n",
    "}"
   ]
  },
  {
   "cell_type": "code",
   "execution_count": null,
   "metadata": {
    "dotnet_interactive": {
     "language": "csharp"
    }
   },
   "outputs": [],
   "source": [
    "var boss = new Unit();\n",
    "\n",
    "foreach(var line in input)\n",
    "{\n",
    "    var x = int.Parse(line.Split(':').Last());\n",
    "\n",
    "    if(line.Contains(\"Hit\"))\n",
    "    {\n",
    "        boss.Health = x;\n",
    "    }\n",
    "    else if(line.Contains(\"Damage\"))\n",
    "    {\n",
    "        boss.Damage = x;\n",
    "    }\n",
    "    else if(line.Contains(\"Armor\"))\n",
    "    {\n",
    "        boss.Armor = x;\n",
    "    }\n",
    "}"
   ]
  },
  {
   "cell_type": "code",
   "execution_count": null,
   "metadata": {
    "dotnet_interactive": {
     "language": "csharp"
    }
   },
   "outputs": [],
   "source": [
    "var player = new Unit\n",
    "{\n",
    "    Health = 100,\n",
    "    Damage = 0,\n",
    "    Armor = 0\n",
    "};"
   ]
  },
  {
   "cell_type": "code",
   "execution_count": null,
   "metadata": {
    "dotnet_interactive": {
     "language": "csharp"
    }
   },
   "outputs": [],
   "source": [
    "public static bool PlayerWins(Unit boss, Unit player)\n",
    "{\n",
    "    var give = Math.Max(player.Damage - boss.Armor, 1);\n",
    "    var take = Math.Max(boss.Damage - player.Armor, 1);\n",
    "    var tWin = boss.Health / give + (boss.Health % give != 0 ? 1 : 0);\n",
    "    var tLos = player.Health / take + (player.Health % take != 0 ? 1 : 0);\n",
    "\n",
    "    Debug.Print($\"tWin {tWin}, tLoss {tLos}\");\n",
    "    \n",
    "    return tLos >= tWin;\n",
    "}"
   ]
  },
  {
   "cell_type": "code",
   "execution_count": null,
   "metadata": {
    "dotnet_interactive": {
     "language": "csharp"
    }
   },
   "outputs": [],
   "source": [
    "#nullable enable\n",
    "\n",
    "public static class Pathfinder\n",
    "{\n",
    "    public static PathfinderResult Dijkstra(\n",
    "        BaseNode start)\n",
    "    {\n",
    "        long visited = 0;\n",
    "\n",
    "        var costs = new Dictionary<int, int>();\n",
    "        costs[start.Id] = start.Cost;\n",
    "       \n",
    "        var q = new PriorityQueue<BaseNode, int>();\n",
    "        q.Enqueue(start, 0);\n",
    "\n",
    "        while (q.TryDequeue(out var u, out var c))\n",
    "        {\n",
    "            visited++;\n",
    "\n",
    "            if(visited % 10000 == 0)\n",
    "            {\n",
    "                Debug.Print($\"Visited {visited} nodes\");\n",
    "            }\n",
    "            \n",
    "            if (u.IsGoal)\n",
    "            {\n",
    "                return new PathfinderResult\n",
    "                {\n",
    "                    Success = true,\n",
    "                    GoalNode = u,\n",
    "                    Visited = visited,\n",
    "                    Total = c\n",
    "                };\n",
    "            }\n",
    "\n",
    "            foreach (var v in u.Neighbours())\n",
    "            {\n",
    "                var t = c + v.Cost;\n",
    "\n",
    "                var h = v.Id;\n",
    "                if (costs.TryGetValue(h, out var cachedCost))\n",
    "                {\n",
    "                    if (cachedCost <= t)\n",
    "                    {\n",
    "                        continue;\n",
    "                    }\n",
    "                }\n",
    "\n",
    "                costs[h] = t;\n",
    "                \n",
    "                v.Previous = u;\n",
    "                q.Enqueue(v, t);\n",
    "            }\n",
    "        }\n",
    "\n",
    "        return new PathfinderResult\n",
    "        {\n",
    "            Success = false,\n",
    "            Visited = visited\n",
    "        };\n",
    "    }\n",
    "\n",
    "    public static Dictionary<int, (int cost, BaseNode node)> ExhaustivePathfinder(\n",
    "        BaseNode start)\n",
    "    {\n",
    "        long visited = 0;\n",
    "\n",
    "        var costs = new Dictionary<int, (int cost, BaseNode node)>();\n",
    "        costs[start.Id] = (start.Cost, start);\n",
    "       \n",
    "        var q = new PriorityQueue<BaseNode, int>();\n",
    "        q.Enqueue(start, 0);\n",
    "\n",
    "        while (q.TryDequeue(out var u, out var c))\n",
    "        {\n",
    "            visited++;\n",
    "\n",
    "            if(visited % 10000 == 0)\n",
    "            {\n",
    "                Debug.Print($\"Visited {visited} nodes\");\n",
    "            }\n",
    "            \n",
    "            foreach (var v in u.Neighbours())\n",
    "            {\n",
    "                var t = c + v.Cost;\n",
    "\n",
    "                var h = v.Id;\n",
    "                if (costs.TryGetValue(h, out var cache))\n",
    "                {\n",
    "                    if (cache.cost <= t)\n",
    "                    {\n",
    "                        continue;\n",
    "                    }\n",
    "                }\n",
    "\n",
    "                costs[h] = (t, u);\n",
    "                \n",
    "                v.Previous = u;\n",
    "                q.Enqueue(v, t);\n",
    "            }\n",
    "        }\n",
    "\n",
    "        return costs;\n",
    "    }\n",
    "\n",
    "    public static List<BaseNode> ReconstructPath<T>(BaseNode node)\n",
    "    {\n",
    "        var path = new List<BaseNode>();\n",
    "        BaseNode? current = node;\n",
    "        while (current is not null)\n",
    "        {\n",
    "            path.Insert(0, current);\n",
    "            current = current.Previous;\n",
    "        }\n",
    "\n",
    "        return path;\n",
    "    }\n",
    "}\n",
    "\n",
    "public interface BaseNode\n",
    "{\n",
    "    int Cost { get; init; }\n",
    "    BaseNode? Previous { get; set; }\n",
    "    IEnumerable<BaseNode> Neighbours();\n",
    "    bool IsGoal { get; }\n",
    "    int Id { get; init; }\n",
    "}\n",
    "\n",
    "public record PathfinderResult\n",
    "{\n",
    "    public bool Success { get; init; }\n",
    "    public BaseNode? GoalNode { get; init; }\n",
    "    public long Visited { get; set; }\n",
    "    public long Total {get; set;}\n",
    "}"
   ]
  },
  {
   "cell_type": "code",
   "execution_count": null,
   "metadata": {
    "dotnet_interactive": {
     "language": "csharp"
    }
   },
   "outputs": [],
   "source": [
    "public record struct Item\n",
    "{\n",
    "    public int Cost {get; init;}\n",
    "    public int Damage {get; init;}\n",
    "    public int Armor {get; init;}\n",
    "    public string Name {get;init;}\n",
    "}"
   ]
  },
  {
   "cell_type": "code",
   "execution_count": null,
   "metadata": {
    "dotnet_interactive": {
     "language": "csharp"
    }
   },
   "outputs": [],
   "source": [
    "static var shop = new Dictionary<int,Item>();\n",
    "\n",
    "var input = File.ReadAllLines(\"items.txt\");\n",
    "\n",
    "int i = 0;\n",
    "\n",
    "foreach(var line in input)\n",
    "{\n",
    "    i++;\n",
    "    var data = line.Split(\"  \", StringSplitOptions.RemoveEmptyEntries | StringSplitOptions.TrimEntries);\n",
    "    shop.Add(i, new Item{\n",
    "        Name = data[0],\n",
    "        Cost = int.Parse(data[1]),\n",
    "        Damage = int.Parse(data[2]),\n",
    "        Armor = int.Parse(data[3])\n",
    "    });\n",
    "}"
   ]
  },
  {
   "cell_type": "code",
   "execution_count": null,
   "metadata": {
    "dotnet_interactive": {
     "language": "csharp"
    }
   },
   "outputs": [],
   "source": [
    "shop.Display();"
   ]
  },
  {
   "cell_type": "code",
   "execution_count": null,
   "metadata": {
    "dotnet_interactive": {
     "language": "csharp"
    }
   },
   "outputs": [],
   "source": [
    "static int BitCount(int n)\n",
    "{\n",
    "   int ret=0;\n",
    "   while (n!=0)\n",
    "   {\n",
    "       n&=(n-1);\n",
    "       ret++;\n",
    "   }\n",
    "   return ret;\n",
    "}"
   ]
  },
  {
   "cell_type": "code",
   "execution_count": null,
   "metadata": {
    "dotnet_interactive": {
     "language": "csharp"
    }
   },
   "outputs": [],
   "source": [
    "0b0000000000011111"
   ]
  },
  {
   "cell_type": "code",
   "execution_count": null,
   "metadata": {
    "dotnet_interactive": {
     "language": "csharp"
    }
   },
   "outputs": [],
   "source": [
    "#nullable enable\n",
    "\n",
    "public record GameState : BaseNode\n",
    "{\n",
    "    public Unit Player { get; init; }\n",
    "    public Unit Boss { get; init; }\n",
    "    public int Id { get; init; }\n",
    "    public int Cost { get; init; }\n",
    "    public BaseNode? Previous { get; set; }\n",
    "    public bool IsGoal {\n",
    "        get {\n",
    "            if((Id & 0b0000000000011111 ) == 0){\n",
    "                return false;\n",
    "            }\n",
    "\n",
    "            return PlayerWins(Boss, Player);\n",
    "        }\n",
    "    }\n",
    "\n",
    "    public IEnumerable<BaseNode> Neighbours() {\n",
    "        var neighbours = new List<BaseNode>();\n",
    "\n",
    "        if((Id & 0b0000000000011111 ) == 0)\n",
    "        {\n",
    "            for(int i = 1; i < 6; i++){\n",
    "                neighbours.Add(WithItem(i));\n",
    "            }\n",
    "        }\n",
    "\n",
    "        if((Id & 0b0000001111100000 ) == 0)\n",
    "        {\n",
    "            for(int i = 6; i < 11; i++){\n",
    "                neighbours.Add(WithItem(i));\n",
    "            }\n",
    "        }\n",
    "\n",
    "        if(BitCount(Id & 0b1111110000000000) < 2)\n",
    "        {\n",
    "            for(int i = 11; i < 17; i++){\n",
    "                if((Id & 0b1 << (i - 1)) == 0)\n",
    "                    neighbours.Add(WithItem(i));\n",
    "            }\n",
    "        }\n",
    "\n",
    "        return neighbours;\n",
    "    }\n",
    "\n",
    "    public string Items {get; init;} = \"\";\n",
    "\n",
    "    public BaseNode WithItem(int item) => this with{\n",
    "        Id = Id + (0b1 << (item - 1)),\n",
    "        Player = Player with {\n",
    "            Armor = Player.Armor + shop[item].Armor,\n",
    "            Damage = Player.Damage + shop[item].Damage\n",
    "        },\n",
    "        Cost = shop[item].Cost,\n",
    "        Items = Items + shop[item].Name + \" \"\n",
    "    };\n",
    "    \n",
    "}"
   ]
  },
  {
   "cell_type": "code",
   "execution_count": null,
   "metadata": {
    "dotnet_interactive": {
     "language": "csharp"
    }
   },
   "outputs": [],
   "source": [
    "var goal = Pathfinder.Dijkstra(new GameState{\n",
    "    Boss = boss,\n",
    "    Player = player\n",
    "}).Display();\n"
   ]
  },
  {
   "cell_type": "code",
   "execution_count": null,
   "metadata": {
    "dotnet_interactive": {
     "language": "csharp"
    }
   },
   "outputs": [],
   "source": [
    "using(new Debug())\n",
    "{\n",
    "    PlayerWins(new Unit{Health= 109, Armor = 2, Damage = 8}, new Unit{Health= 100, Armor = 3, Damage = 7}).Display();\n",
    "}"
   ]
  },
  {
   "cell_type": "code",
   "execution_count": null,
   "metadata": {
    "dotnet_interactive": {
     "language": "csharp"
    }
   },
   "outputs": [],
   "source": [
    "var goal = Pathfinder.ExhaustivePathfinder(new GameState{\n",
    "    Boss = boss,\n",
    "    Player = player\n",
    "}).Where(c => !c.Value.node.IsGoal).OrderByDescending(c => c.Value.cost).Select(c => (c.Value.node as GameState).Items).Display();"
   ]
  }
 ],
 "metadata": {
  "kernelspec": {
   "display_name": ".NET (C#)",
   "language": "C#",
   "name": ".net-csharp"
  },
  "polyglot_notebook": {
   "kernelInfo": {
    "defaultKernelName": "csharp",
    "items": [
     {
      "aliases": [
       "c#",
       "C#"
      ],
      "languageName": "C#",
      "name": "csharp"
     },
     {
      "aliases": [],
      "name": ".NET"
     },
     {
      "aliases": [
       "f#",
       "F#"
      ],
      "languageName": "F#",
      "name": "fsharp"
     },
     {
      "aliases": [],
      "languageName": "HTML",
      "name": "html"
     },
     {
      "aliases": [],
      "languageName": "KQL",
      "name": "kql"
     },
     {
      "aliases": [],
      "languageName": "Mermaid",
      "name": "mermaid"
     },
     {
      "aliases": [
       "powershell"
      ],
      "languageName": "PowerShell",
      "name": "pwsh"
     },
     {
      "aliases": [],
      "languageName": "SQL",
      "name": "sql"
     },
     {
      "aliases": [],
      "name": "value"
     },
     {
      "aliases": [
       "frontend"
      ],
      "languageName": null,
      "name": "vscode"
     }
    ]
   }
  }
 },
 "nbformat": 4,
 "nbformat_minor": 2
}
