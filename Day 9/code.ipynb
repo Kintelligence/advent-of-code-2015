{
 "cells": [
  {
   "cell_type": "code",
   "execution_count": null,
   "metadata": {
    "dotnet_interactive": {
     "language": "csharp"
    }
   },
   "outputs": [],
   "source": [
    "using System;\n",
    "using System.IO;\n",
    "using System.Collections.Generic;\n",
    "using System.Collections;\n",
    "using System.Threading;"
   ]
  },
  {
   "cell_type": "code",
   "execution_count": null,
   "metadata": {
    "dotnet_interactive": {
     "language": "csharp"
    }
   },
   "outputs": [],
   "source": [
    "public class Debug : IDisposable\n",
    "{\n",
    "    public static bool IsEnabled {get; private set;} = false;\n",
    "\n",
    "    public static void Print(string input)\n",
    "    {\n",
    "        if(IsEnabled)\n",
    "        {\n",
    "            Console.WriteLine(input);\n",
    "        }\n",
    "    }\n",
    "\n",
    "    public Debug(bool enable = true)\n",
    "    {\n",
    "        IsEnabled = enable;\n",
    "    }\n",
    "\n",
    "    public void Dispose()\n",
    "    {\n",
    "        IsEnabled = false;\n",
    "    }\n",
    "}"
   ]
  },
  {
   "cell_type": "code",
   "execution_count": null,
   "metadata": {
    "dotnet_interactive": {
     "language": "csharp"
    }
   },
   "outputs": [],
   "source": [
    "var input = await File.ReadAllLinesAsync(\"input.txt\");"
   ]
  },
  {
   "cell_type": "code",
   "execution_count": null,
   "metadata": {
    "dotnet_interactive": {
     "language": "csharp"
    }
   },
   "outputs": [],
   "source": [
    "public interface State\n",
    "{\n",
    "    bool IsGoal {get;}\n",
    "    string Id {get;}\n",
    "    IEnumerable<(State state, long cost)> Neighbours();\n",
    "}"
   ]
  },
  {
   "cell_type": "code",
   "execution_count": null,
   "metadata": {
    "dotnet_interactive": {
     "language": "csharp"
    }
   },
   "outputs": [],
   "source": [
    "public class Dijkstra\n",
    "{\n",
    "    public Dictionary<string, long> Cost = new Dictionary<string, long>();\n",
    "    public PriorityQueue<State, long> Queue = new PriorityQueue<State, long>();\n",
    "\n",
    "    public int Count = 0;\n",
    "    \n",
    "    public long Run(State start)\n",
    "    {\n",
    "        Queue.Enqueue(start, 0);\n",
    "\n",
    "        State node;\n",
    "        long cost;\n",
    "        while(Queue.TryDequeue(out node, out cost))\n",
    "        {            \n",
    "            Count++;\n",
    "\n",
    "            if(Count % 100000 == 0)\n",
    "            {\n",
    "                Debug.Print($\"Visited {Count} nodes. {Queue.Count} left\");\n",
    "            }\n",
    "            \n",
    "            if(node.IsGoal)\n",
    "            {\n",
    "                break;\n",
    "            }\n",
    "            \n",
    "            foreach(var n in node.Neighbours())\n",
    "            {\n",
    "                long total = n.cost + cost;\n",
    "\n",
    "                if(Cost.TryGetValue(n.state.Id, out var c))\n",
    "                {\n",
    "                    if(c <= total)\n",
    "                    {\n",
    "                        continue;\n",
    "                    }\n",
    "                }\n",
    "                Cost[n.state.Id] = total;\n",
    "                Queue.Enqueue(n.state, total);\n",
    "            }\n",
    "        }\n",
    "        Debug.Print(\"Done?\");\n",
    "\n",
    "        if(node?.IsGoal == true)\n",
    "        {\n",
    "            Debug.Print(\"YES!\");\n",
    "            return cost;\n",
    "        }\n",
    "        else{\n",
    "            Debug.Print(\"NO!\");\n",
    "            return -1;\n",
    "        }\n",
    "    }\n",
    "}"
   ]
  },
  {
   "cell_type": "code",
   "execution_count": null,
   "metadata": {
    "dotnet_interactive": {
     "language": "csharp"
    }
   },
   "outputs": [],
   "source": [
    "public class Node\n",
    "{\n",
    "    public string Name {get; set;}\n",
    "    public List<(string destination, int cost)> Destinations {get; set;} = new List<(string, int)>();    \n",
    "}"
   ]
  },
  {
   "cell_type": "code",
   "execution_count": null,
   "metadata": {
    "dotnet_interactive": {
     "language": "csharp"
    }
   },
   "outputs": [],
   "source": [
    "public static class Graph\n",
    "{\n",
    "    public static Dictionary<string, Node> Nodes {get; set;} = new Dictionary<string, Node>();\n",
    "\n",
    "    public static void Load(IEnumerable<string> input)\n",
    "    {\n",
    "        foreach(var line in input)\n",
    "        {\n",
    "            var segments = line.Split(new [] {\"to\", \"=\"}, 3, StringSplitOptions.RemoveEmptyEntries | StringSplitOptions.TrimEntries );\n",
    "\n",
    "            if(!Nodes.ContainsKey(segments[0]))\n",
    "            {\n",
    "                Nodes[segments[0]] = new Node{Name = segments[0]};\n",
    "            }\n",
    "\n",
    "            if(!Nodes.ContainsKey(segments[1]))\n",
    "            {\n",
    "                Nodes[segments[1]] = new Node{Name = segments[1]};\n",
    "            }\n",
    "\n",
    "            Nodes[segments[1]].Destinations.Add((segments[0], int.Parse(segments[2])));\n",
    "            Nodes[segments[0]].Destinations.Add((segments[1], int.Parse(segments[2])));\n",
    "        }\n",
    "    }\n",
    "}"
   ]
  },
  {
   "cell_type": "code",
   "execution_count": null,
   "metadata": {
    "dotnet_interactive": {
     "language": "csharp"
    }
   },
   "outputs": [],
   "source": [
    "public class Path : State\n",
    "{\n",
    "    public List<String> Nodes {get; set;}\n",
    "    public bool IsGoal => false;\n",
    "    public string Id => (Nodes.Count == Graph.Nodes.Count ? \"+\" : \"\") + string.Join(',', Nodes);\n",
    "\n",
    "    public IEnumerable<(State state, long cost)> Neighbours()\n",
    "    {\n",
    "        if(!Nodes.Any())\n",
    "        {\n",
    "            foreach(var node in Graph.Nodes.Values)\n",
    "            {\n",
    "                var path = new Path\n",
    "                {\n",
    "                    Nodes = new List<string>(){ node.Name }\n",
    "                };\n",
    "\n",
    "                yield return (path, 0);\n",
    "            }\n",
    "\n",
    "            yield break;\n",
    "        }\n",
    "\n",
    "        foreach(var (destination, cost) in Graph.Nodes[Nodes.Last()].Destinations)\n",
    "        {\n",
    "            if(!Nodes.Contains(destination))\n",
    "            {\n",
    "                var path = new Path\n",
    "                {\n",
    "                    Nodes = Nodes.Concat(new [] {destination}).ToList()\n",
    "                };\n",
    "\n",
    "                yield return (path, cost);\n",
    "            }\n",
    "        }\n",
    "    }\n",
    "}"
   ]
  },
  {
   "cell_type": "code",
   "execution_count": null,
   "metadata": {
    "dotnet_interactive": {
     "language": "csharp"
    }
   },
   "outputs": [],
   "source": [
    "Graph.Load(input);"
   ]
  },
  {
   "cell_type": "code",
   "execution_count": null,
   "metadata": {
    "dotnet_interactive": {
     "language": "csharp"
    }
   },
   "outputs": [
    {
     "name": "stdout",
     "output_type": "stream",
     "text": [
      "Visited 100000 nodes. 7683 left\r\n",
      "Done?\r\n",
      "NO!\r\n"
     ]
    },
    {
     "data": {
      "text/html": [
       "<div class=\"dni-plaintext\">-1</div>"
      ]
     },
     "metadata": {},
     "output_type": "display_data"
    }
   ],
   "source": [
    "var start = new Path\n",
    "{\n",
    "    Nodes = new List<string>()\n",
    "};\n",
    "\n",
    "var d = new Dijkstra();\n",
    "using(new Debug())\n",
    "{\n",
    "    d.Run(start).Display();\n",
    "}"
   ]
  },
  {
   "cell_type": "code",
   "execution_count": null,
   "metadata": {
    "dotnet_interactive": {
     "language": "csharp"
    }
   },
   "outputs": [
    {
     "data": {
      "text/html": [
       "<div class=\"dni-plaintext\">909</div>"
      ]
     },
     "metadata": {},
     "output_type": "display_data"
    }
   ],
   "source": [
    "d.Cost.Where(c => c.Key.Contains('+')).Max(c => c.Value)"
   ]
  }
 ],
 "metadata": {
  "kernelspec": {
   "display_name": ".NET (C#)",
   "language": "C#",
   "name": ".net-csharp"
  },
  "language_info": {
   "file_extension": ".cs",
   "mimetype": "text/x-csharp",
   "name": "C#",
   "pygments_lexer": "csharp",
   "version": "9.0"
  },
  "orig_nbformat": 4
 },
 "nbformat": 4,
 "nbformat_minor": 2
}
