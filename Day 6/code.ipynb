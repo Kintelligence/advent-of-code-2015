{
 "cells": [
  {
   "cell_type": "code",
   "execution_count": null,
   "metadata": {
    "dotnet_interactive": {
     "language": "csharp"
    }
   },
   "outputs": [
    {
     "data": {
      "text/html": [
       "<div><div></div><div></div><div><strong>Installed Packages</strong><ul><li><span>Microsoft.DotNet.Interactive.ExtensionLab, 1.0.0-beta.21606.1</span></li></ul></div></div>"
      ]
     },
     "metadata": {},
     "output_type": "display_data"
    }
   ],
   "source": [
    "#r \"nuget:Microsoft.DotNet.Interactive.ExtensionLab, *-*\""
   ]
  },
  {
   "cell_type": "code",
   "execution_count": null,
   "metadata": {
    "dotnet_interactive": {
     "language": "csharp"
    }
   },
   "outputs": [],
   "source": [
    "using System;\n",
    "using System.IO;\n",
    "using System.Collections.Generic;\n",
    "using System.Collections;\n",
    "using System.Threading;"
   ]
  },
  {
   "cell_type": "code",
   "execution_count": null,
   "metadata": {
    "dotnet_interactive": {
     "language": "csharp"
    }
   },
   "outputs": [],
   "source": [
    "var input = await File.ReadAllLinesAsync(\"input.txt\");"
   ]
  },
  {
   "cell_type": "code",
   "execution_count": null,
   "metadata": {
    "dotnet_interactive": {
     "language": "csharp"
    }
   },
   "outputs": [],
   "source": [
    "#nullable enable\n",
    "\n",
    "public record Range{\n",
    "    public long Min {get; init;}\n",
    "    public long Max {get; init;}\n",
    "\n",
    "    public Range? Overlap(Range other)\n",
    "    {\n",
    "        if(Max >= other.Min && Min <= other.Max)\n",
    "        {\n",
    "            return new Range{\n",
    "                Min = Math.Max(Min, other.Min),\n",
    "                Max = Math.Min(Max, other.Max)\n",
    "            };\n",
    "        }\n",
    "\n",
    "        return null;\n",
    "    }\n",
    "\n",
    "    public long Count()\n",
    "    {\n",
    "        return Max - Min + 1;\n",
    "    }\n",
    "\n",
    "    public IEnumerable<int> Explode()\n",
    "    {\n",
    "        return Enumerable.Range((int) Min, (int) Count());\n",
    "    }\n",
    "}"
   ]
  },
  {
   "cell_type": "code",
   "execution_count": null,
   "metadata": {
    "dotnet_interactive": {
     "language": "csharp"
    }
   },
   "outputs": [],
   "source": [
    "#nullable enable\n",
    "\n",
    "public record Box\n",
    "{\n",
    "    public Range X {get; init;}\n",
    "    public Range Y {get; init;}\n",
    "    public int Light {get; set;} = 1;\n",
    "\n",
    "    public Box(){}\n",
    "\n",
    "    public Box(IEnumerable<string> input)\n",
    "    {\n",
    "        var numbers = input.Select(c => int.Parse(c)).ToArray();\n",
    "        X = new Range{Min = numbers[0], Max = numbers[2]};\n",
    "        Y = new Range{Min = numbers[1], Max = numbers[3]};\n",
    "    }\n",
    "\n",
    "    public bool Overlaps(Box other)\n",
    "    {\n",
    "        if(X.Overlap(other.X) == null)\n",
    "        {\n",
    "            return false;\n",
    "        }\n",
    "\n",
    "        if(Y.Overlap(other.Y) == null)\n",
    "        {\n",
    "            return false;\n",
    "        }\n",
    "\n",
    "        return true;\n",
    "    }\n",
    "\n",
    "    public Box? Overlap(Box other, int lightDiff = 0)\n",
    "    {\n",
    "        var x = X.Overlap(other.X);\n",
    "        var y = Y.Overlap(other.Y);\n",
    "\n",
    "        if(x is not null && y is not null)\n",
    "        {\n",
    "            return new Box{\n",
    "                X = x,\n",
    "                Y = y,\n",
    "                Light = Light + lightDiff\n",
    "            };\n",
    "        }\n",
    "\n",
    "        return null;\n",
    "    }\n",
    "\n",
    "    public long Count()\n",
    "    {\n",
    "        return X.Count() * Y.Count() * Light;\n",
    "    }\n",
    "\n",
    "    private static int Color = 0;\n",
    "\n",
    "    public static int GetColor()\n",
    "    {\n",
    "        return Color++;\n",
    "    }\n",
    "\n",
    "    public IEnumerable<(int x, int y, int size, int color)> Explode()\n",
    "    {\n",
    "        var color = GetColor();\n",
    "\n",
    "        foreach(var x in X.Explode())\n",
    "        {\n",
    "            foreach(var y in Y.Explode())\n",
    "            {\n",
    "                yield return (x, y, 3, color);                \n",
    "            }\n",
    "        }\n",
    "    }\n",
    "\n",
    "    public IEnumerable<Box> Subtract(Box other, int lightDiff = 0)\n",
    "    {\n",
    "        var overlap = Overlap(other);\n",
    "\n",
    "        if(overlap is null)\n",
    "        {\n",
    "            yield break;\n",
    "        }\n",
    "\n",
    "        if(X.Min < overlap.X.Min)\n",
    "        {\n",
    "            yield return this with\n",
    "            {\n",
    "                X = X with {Max = overlap.X.Min - 1},\n",
    "                Light = Light + lightDiff\n",
    "            };\n",
    "        }\n",
    "\n",
    "        if(X.Max > overlap.X.Max)\n",
    "        {\n",
    "            yield return this with\n",
    "            {\n",
    "                X = X with {Min = overlap.X.Max + 1},\n",
    "                Light = Light + lightDiff\n",
    "            };\n",
    "        }\n",
    "\n",
    "        if(Y.Min < overlap.Y.Min)\n",
    "        {\n",
    "            yield return this with\n",
    "            {\n",
    "                X = overlap.X,\n",
    "                Y = Y with {Max = overlap.Y.Min - 1},\n",
    "                Light = Light + lightDiff\n",
    "            };\n",
    "        }\n",
    "\n",
    "        if(Y.Max > overlap.Y.Max)\n",
    "        {\n",
    "            yield return this with\n",
    "            {\n",
    "                X = overlap.X,\n",
    "                Y = Y with {Min = overlap.Y.Max + 1},\n",
    "                Light = Light + lightDiff\n",
    "            };\n",
    "        }\n",
    "    }\n",
    "}"
   ]
  },
  {
   "cell_type": "code",
   "execution_count": null,
   "metadata": {
    "dotnet_interactive": {
     "language": "csharp"
    }
   },
   "outputs": [],
   "source": [
    "public static void Subtract(List<Box> boxes, Box right)\n",
    "{    \n",
    "    var overlaps = boxes.Where(c => c.Overlaps(right)).ToArray();\n",
    "\n",
    "    if(!overlaps.Any())\n",
    "    {                \n",
    "        return;\n",
    "    }\n",
    "\n",
    "    foreach(var overlap in overlaps)\n",
    "    {\n",
    "        boxes.Remove(overlap);\n",
    "        boxes.AddRange(overlap.Subtract(right));\n",
    "    }\n",
    "}"
   ]
  },
  {
   "cell_type": "code",
   "execution_count": null,
   "metadata": {
    "dotnet_interactive": {
     "language": "csharp"
    }
   },
   "outputs": [],
   "source": [
    "public static void Add(List<Box> boxes, Box right)\n",
    "{\n",
    "    var overlaps = boxes.Where(c => c.Overlaps(right)).ToArray();\n",
    "\n",
    "    if(!overlaps.Any())\n",
    "    {\n",
    "        boxes.Add(right);\n",
    "        return;\n",
    "    }\n",
    "\n",
    "    var total = new List<Box>() {right};\n",
    "\n",
    "    foreach(var overlap in overlaps)\n",
    "    {\n",
    "        if(!total.Any())\n",
    "        {\n",
    "            break;\n",
    "        }\n",
    "        \n",
    "        var subtotal = new List<Box>();\n",
    "        foreach(var remaining in total)\n",
    "        {\n",
    "            if(remaining.Overlaps(overlap))\n",
    "            {                \n",
    "                subtotal.AddRange(remaining.Subtract(overlap));\n",
    "            }\n",
    "            else\n",
    "            {                    \n",
    "                subtotal.Add(remaining);\n",
    "            }                    \n",
    "        }\n",
    "\n",
    "        total = subtotal;\n",
    "    }\n",
    "\n",
    "    boxes.AddRange(total);\n",
    "}"
   ]
  },
  {
   "cell_type": "code",
   "execution_count": null,
   "metadata": {
    "dotnet_interactive": {
     "language": "csharp"
    }
   },
   "outputs": [],
   "source": [
    "public static void Toggle(List<Box> boxes, Box right)\n",
    "{\n",
    "    var overlaps = boxes.Where(c => c.Overlaps(right)).ToArray();\n",
    "\n",
    "    if(!overlaps.Any())\n",
    "    {\n",
    "        boxes.Add(right);\n",
    "        return;\n",
    "    }\n",
    "\n",
    "    var total = new List<Box>() {right};\n",
    "\n",
    "    foreach(var overlap in overlaps)\n",
    "    {\n",
    "        boxes.AddRange(overlap.Subtract(right));\n",
    "        boxes.Remove(overlap);\n",
    "\n",
    "        if(!total.Any())\n",
    "        {\n",
    "            break;\n",
    "        }\n",
    "        \n",
    "        var subtotal = new List<Box>();\n",
    "        foreach(var remaining in total)\n",
    "        {\n",
    "            if(remaining.Overlaps(overlap))\n",
    "            {\n",
    "                subtotal.AddRange(remaining.Subtract(overlap));                \n",
    "            }\n",
    "            else\n",
    "            {\n",
    "                subtotal.Add(remaining);\n",
    "            }                    \n",
    "        }\n",
    "\n",
    "        total = subtotal;\n",
    "    }\n",
    "\n",
    "    boxes.AddRange(total);\n",
    "}"
   ]
  },
  {
   "cell_type": "code",
   "execution_count": null,
   "metadata": {
    "dotnet_interactive": {
     "language": "csharp"
    }
   },
   "outputs": [],
   "source": [
    "public class ChristmasLights\n",
    "{\n",
    "    List<Box> Boxes {get;} = new List<Box>();\n",
    "\n",
    "    public ChristmasLights(IEnumerable<string> input)\n",
    "    {\n",
    "        foreach(var line in input)\n",
    "        {\n",
    "            var segments = line.Split(new [] {\"through\", \",\", \" \"}, 6, StringSplitOptions.RemoveEmptyEntries | StringSplitOptions.TrimEntries);\n",
    "            if(segments[0] == \"toggle\")\n",
    "            {\n",
    "                Toggle(Boxes, new Box(segments.Skip(1)));\n",
    "                continue;\n",
    "            }\n",
    "\n",
    "            if(segments[1] == \"on\")\n",
    "            {\n",
    "                Add(Boxes, new Box(segments.Skip(2)));\n",
    "                continue;\n",
    "            }\n",
    "\n",
    "            Subtract(Boxes, new Box(segments.Skip(2)));\n",
    "        }\n",
    "    }\n",
    "\n",
    "    public long Count()\n",
    "    {\n",
    "        if(!Boxes.Any())\n",
    "        {\n",
    "            return 0;\n",
    "        }\n",
    "\n",
    "        return Boxes.Select(c => c.Count()).Aggregate((a, b) => a + b);\n",
    "    }\n",
    "}"
   ]
  },
  {
   "cell_type": "code",
   "execution_count": null,
   "metadata": {
    "dotnet_interactive": {
     "language": "csharp"
    }
   },
   "outputs": [],
   "source": [
    "// var lights = new ChristmasLights(input);\n",
    "// lights.Count()"
   ]
  },
  {
   "cell_type": "code",
   "execution_count": null,
   "metadata": {
    "dotnet_interactive": {
     "language": "csharp"
    }
   },
   "outputs": [
    {
     "ename": "Error",
     "evalue": "(38,9): error CS0103: The name 'X' does not exist in the current context\r\n(39,9): error CS0103: The name 'Y' does not exist in the current context\r\n(45,9): error CS0103: The name 'X' does not exist in the current context\r\n(46,9): error CS0103: The name 'Y' does not exist in the current context",
     "output_type": "error",
     "traceback": [
      "(38,9): error CS0103: The name 'X' does not exist in the current context\r\n",
      "(39,9): error CS0103: The name 'Y' does not exist in the current context\r\n",
      "(45,9): error CS0103: The name 'X' does not exist in the current context\r\n",
      "(46,9): error CS0103: The name 'Y' does not exist in the current context"
     ]
    }
   ],
   "source": [
    "public class ShitLight\n",
    "{\n",
    "    public int[,] Map = new int[1000,1000];\n",
    "\n",
    "    public ShitLight(IEnumerable<string> input)\n",
    "    {\n",
    "        foreach(var line in input)\n",
    "        {\n",
    "            var segments = line.Split(new [] {\"through\", \",\", \" \"}, 6, StringSplitOptions.RemoveEmptyEntries | StringSplitOptions.TrimEntries);\n",
    "            \n",
    "            \n",
    "            if(segments[0] == \"toggle\")\n",
    "            {\n",
    "                var (x, y) = Parse(segments.Skip(1));\n",
    "                A(x, y, 2);\n",
    "                continue;\n",
    "            }\n",
    "\n",
    "            var (x, y) = Parse(segments.Skip(2));\n",
    "            if(segments[1] == \"on\")\n",
    "            {\n",
    "                A(x, y);\n",
    "                continue;\n",
    "            }\n",
    "\n",
    "            S(x, y);\n",
    "        }\n",
    "    }\n",
    "\n",
    "    public (Range x, Range x) Parse(IEnumerable<string> input)\n",
    "    {\n",
    "        var numbers = input.Select(c => int.Parse(c)).ToArray();\n",
    "        return (\n",
    "            new Range{Min = numbers[0], Max = numbers[2]},\n",
    "            new Range{Min = numbers[1], Max = numbers[3]}\n",
    "            );\n",
    "    }\n",
    "\n",
    "    public void A(Range x, Range y, int diff = 1)\n",
    "    {\n",
    "        var numbers = input.Select(c => int.Parse(c)).ToArray();\n",
    "        X = new Range{Min = numbers[0], Max = numbers[2]};\n",
    "        Y = new Range{Min = numbers[1], Max = numbers[3]};\n",
    "    }\n",
    "\n",
    "    public void S(Range x, Range y)\n",
    "    {\n",
    "        var numbers = input.Select(c => int.Parse(c)).ToArray();\n",
    "        X = new Range{Min = numbers[0], Max = numbers[2]};\n",
    "        Y = new Range{Min = numbers[1], Max = numbers[3]};\n",
    "    }\n",
    "}"
   ]
  }
 ],
 "metadata": {
  "kernelspec": {
   "display_name": ".NET (C#)",
   "language": "C#",
   "name": ".net-csharp"
  },
  "language_info": {
   "file_extension": ".cs",
   "mimetype": "text/x-csharp",
   "name": "C#",
   "pygments_lexer": "csharp",
   "version": "9.0"
  },
  "orig_nbformat": 4
 },
 "nbformat": 4,
 "nbformat_minor": 2
}
