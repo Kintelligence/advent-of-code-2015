{
 "cells": [
  {
   "cell_type": "code",
   "execution_count": null,
   "metadata": {
    "dotnet_interactive": {
     "language": "csharp"
    }
   },
   "outputs": [],
   "source": [
    "using System;\n",
    "using System.IO;\n",
    "using System.Collections.Generic;\n",
    "using System.Collections;\n",
    "using System.Threading;"
   ]
  },
  {
   "cell_type": "code",
   "execution_count": null,
   "metadata": {
    "dotnet_interactive": {
     "language": "csharp"
    }
   },
   "outputs": [],
   "source": [
    "var input = await File.ReadAllLinesAsync(\"input.txt\");"
   ]
  },
  {
   "cell_type": "code",
   "execution_count": null,
   "metadata": {
    "dotnet_interactive": {
     "language": "csharp"
    }
   },
   "outputs": [],
   "source": [
    "// public record Operation\n",
    "// {\n",
    "//     public string Out {get; init;}\n",
    "//     public string Left {get; init;}\n",
    "//     public string Right {get; init;}\n",
    "//     public string Action {get; init;}\n",
    "// }\n",
    "\n",
    "// public Operation Parse(string input)\n",
    "// {\n",
    "//     var s = input.Split(\"->\");\n",
    "//     var p = s.First().Split(' ').ToArray();\n",
    "//     if(p[])\n",
    "// }\n"
   ]
  },
  {
   "cell_type": "code",
   "execution_count": null,
   "metadata": {
    "dotnet_interactive": {
     "language": "csharp"
    }
   },
   "outputs": [],
   "source": [
    "public IEnumerable<string> Parse(string input)\n",
    "{\n",
    "    var lefts = input.Split(\"->\").First().Split(new []{\" \", \"AND\", \"LSHIFT\", \"RSHIFT\", \"NOT\", \"OR\"}, 2, StringSplitOptions.RemoveEmptyEntries | StringSplitOptions.TrimEntries);\n",
    "    return lefts.Where(c => !int.TryParse(c, out var _));\n",
    "}\n"
   ]
  },
  {
   "cell_type": "code",
   "execution_count": null,
   "metadata": {
    "dotnet_interactive": {
     "language": "csharp"
    }
   },
   "outputs": [],
   "source": [
    "var actionsReversed = new List<string>();\n",
    "\n",
    "var d = input.ToDictionary(c => c.Split(\"-> \").Last());\n",
    "\n",
    "var targets = new Queue<string>();\n",
    "var solved = new List<string>();\n",
    "\n",
    "targets.Enqueue(\"a\");\n",
    "\n",
    "while(targets.TryDequeue(out var target))\n",
    "{\n",
    "    // Console.WriteLine(target);\n",
    "\n",
    "    if(targets.Contains(target))\n",
    "    {\n",
    "        continue;\n",
    "    }\n",
    "    \n",
    "    var node = d[target];\n",
    "    // Console.WriteLine(node);\n",
    "\n",
    "    foreach(var t in Parse(node))\n",
    "    {\n",
    "        targets.Enqueue(t);\n",
    "    }\n",
    "    \n",
    "    solved.Add(target);\n",
    "\n",
    "    actionsReversed.Add(node);\n",
    "}\n",
    "\n",
    "actionsReversed.Reverse();"
   ]
  },
  {
   "cell_type": "code",
   "execution_count": null,
   "metadata": {
    "dotnet_interactive": {
     "language": "csharp"
    }
   },
   "outputs": [
    {
     "name": "stdout",
     "output_type": "stream",
     "text": [
      "1674 -> b\r\n",
      "b RSHIFT 5 -> f\r\n",
      "b RSHIFT 3 -> e\r\n",
      "1674 -> b\r\n",
      "e AND f -> h\r\n",
      "b RSHIFT 5 -> f\r\n",
      "b RSHIFT 3 -> e\r\n",
      "1674 -> b\r\n",
      "NOT h -> i\r\n",
      "e OR f -> g\r\n"
     ]
    }
   ],
   "source": [
    "foreach(var l in actionsReversed.Take(10))\n",
    "{    \n",
    "    Console.WriteLine(l);\n",
    "}"
   ]
  },
  {
   "cell_type": "code",
   "execution_count": null,
   "metadata": {
    "dotnet_interactive": {
     "language": "csharp"
    }
   },
   "outputs": [],
   "source": []
  },
  {
   "cell_type": "code",
   "execution_count": null,
   "metadata": {
    "dotnet_interactive": {
     "language": "csharp"
    }
   },
   "outputs": [
    {
     "data": {
      "text/html": [
       "<div class=\"dni-plaintext\">1000</div>"
      ]
     },
     "metadata": {},
     "output_type": "display_data"
    },
    {
     "data": {
      "text/html": [
       "<div class=\"dni-plaintext\">2000</div>"
      ]
     },
     "metadata": {},
     "output_type": "display_data"
    },
    {
     "data": {
      "text/html": [
       "<div class=\"dni-plaintext\">3000</div>"
      ]
     },
     "metadata": {},
     "output_type": "display_data"
    },
    {
     "data": {
      "text/html": [
       "<div class=\"dni-plaintext\">4000</div>"
      ]
     },
     "metadata": {},
     "output_type": "display_data"
    },
    {
     "data": {
      "text/html": [
       "<div class=\"dni-plaintext\">5000</div>"
      ]
     },
     "metadata": {},
     "output_type": "display_data"
    },
    {
     "data": {
      "text/html": [
       "<div class=\"dni-plaintext\">6000</div>"
      ]
     },
     "metadata": {},
     "output_type": "display_data"
    },
    {
     "data": {
      "text/html": [
       "<div class=\"dni-plaintext\">7000</div>"
      ]
     },
     "metadata": {},
     "output_type": "display_data"
    },
    {
     "data": {
      "text/html": [
       "<div class=\"dni-plaintext\">8000</div>"
      ]
     },
     "metadata": {},
     "output_type": "display_data"
    },
    {
     "data": {
      "text/html": [
       "<div class=\"dni-plaintext\">9000</div>"
      ]
     },
     "metadata": {},
     "output_type": "display_data"
    },
    {
     "data": {
      "text/html": [
       "<div class=\"dni-plaintext\">10000</div>"
      ]
     },
     "metadata": {},
     "output_type": "display_data"
    }
   ],
   "source": [
    "var d = new Dictionary<string, ushort>();\n",
    "\n",
    "int count = 0;\n",
    "\n",
    "foreach(var line in actionsReversed)\n",
    "{\n",
    "    count++;\n",
    "\n",
    "    if(count % 1000 == 0)\n",
    "    {\n",
    "        count.Display();\n",
    "    }\n",
    "    \n",
    "    var segments = line.Split(' ');\n",
    "    ushort left, right;\n",
    "    string target = segments.Last();\n",
    "\n",
    "    if(segments[0] == \"NOT\")\n",
    "    {\n",
    "        if(ushort.TryParse(segments[1], out var s))\n",
    "        {\n",
    "            left = s;\n",
    "            right = s;\n",
    "        }\n",
    "        else{\n",
    "            left = d[segments[1]];\n",
    "            right = d[segments[1]];\n",
    "        }\n",
    "    }\n",
    "    else if(segments.Count() == 3)\n",
    "    {\n",
    "        if(ushort.TryParse(segments[0], out var s))\n",
    "        {\n",
    "            left = s;\n",
    "            right = s;\n",
    "        }\n",
    "        else{\n",
    "            left = d[segments[0]];\n",
    "            right = d[segments[0]];\n",
    "        }\n",
    "    }\n",
    "    else{\n",
    "        if(ushort.TryParse(segments[0], out var s))\n",
    "        {\n",
    "            left = s;\n",
    "        }\n",
    "        else{\n",
    "            left = d[segments[0]];\n",
    "        }\n",
    "\n",
    "        if(ushort.TryParse(segments[2], out var r))\n",
    "        {\n",
    "            right = r;\n",
    "        }\n",
    "        else{\n",
    "            right = d[segments[2]];\n",
    "        }\n",
    "    }\n",
    "\n",
    "    if(line.Contains(\"AND\"))\n",
    "    {\n",
    "        d[target] = (ushort) (left & right);\n",
    "    }\n",
    "    else if(line.Contains(\"OR\"))\n",
    "    {\n",
    "        d[target] = (ushort) (left | right);\n",
    "    }\n",
    "    else if(line.Contains(\"LSHIFT\"))\n",
    "    {\n",
    "        d[target] = (ushort) (left << right);\n",
    "    }\n",
    "    else if(line.Contains(\"RSHIFT\"))\n",
    "    {\n",
    "        d[target] = (ushort) (left >> right);\n",
    "    }\n",
    "    else if(line.Contains(\"NOT\"))\n",
    "    {\n",
    "        d[target] = (ushort) ~ left;\n",
    "    }\n",
    "    else\n",
    "    {\n",
    "        if(target == \"b\")\n",
    "        {\n",
    "            left = 46065;\n",
    "        }\n",
    "        d[target] = left;\n",
    "    }\n",
    "}"
   ]
  },
  {
   "cell_type": "code",
   "execution_count": null,
   "metadata": {
    "dotnet_interactive": {
     "language": "csharp"
    }
   },
   "outputs": [
    {
     "data": {
      "text/html": [
       "<div class=\"dni-plaintext\">14134</div>"
      ]
     },
     "metadata": {},
     "output_type": "display_data"
    }
   ],
   "source": [
    "d[\"a\"]"
   ]
  },
  {
   "cell_type": "code",
   "execution_count": null,
   "metadata": {
    "dotnet_interactive": {
     "language": "csharp"
    }
   },
   "outputs": [
    {
     "data": {
      "text/html": [
       "<div class=\"dni-plaintext\">65279</div>"
      ]
     },
     "metadata": {},
     "output_type": "display_data"
    }
   ],
   "source": [
    "ushort a = 256;\n",
    "(ushort) ~a\n"
   ]
  }
 ],
 "metadata": {
  "kernelspec": {
   "display_name": ".NET (C#)",
   "language": "C#",
   "name": ".net-csharp"
  },
  "language_info": {
   "file_extension": ".cs",
   "mimetype": "text/x-csharp",
   "name": "C#",
   "pygments_lexer": "csharp",
   "version": "9.0"
  },
  "orig_nbformat": 4
 },
 "nbformat": 4,
 "nbformat_minor": 2
}
