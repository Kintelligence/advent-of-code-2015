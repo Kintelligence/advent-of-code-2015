{
 "cells": [
  {
   "cell_type": "code",
   "execution_count": null,
   "metadata": {
    "dotnet_interactive": {
     "language": "csharp"
    }
   },
   "outputs": [],
   "source": [
    "using System;\n",
    "using System.IO;\n",
    "using System.Collections.Generic;\n",
    "using System.Collections;\n",
    "using System.Threading;"
   ]
  },
  {
   "cell_type": "code",
   "execution_count": null,
   "metadata": {
    "dotnet_interactive": {
     "language": "csharp"
    }
   },
   "outputs": [],
   "source": [
    "var input = await File.ReadAllLinesAsync(\"input.txt\");"
   ]
  },
  {
   "cell_type": "code",
   "execution_count": null,
   "metadata": {
    "dotnet_interactive": {
     "language": "csharp"
    }
   },
   "outputs": [],
   "source": [
    "public string LookAndSay(string input)\n",
    "{\n",
    "    var builder = new StringBuilder();\n",
    "\n",
    "    char current = input.First();\n",
    "    int count = 0;\n",
    "    foreach(var character in input)\n",
    "    {\n",
    "        if(character != current)\n",
    "        {\n",
    "            builder.Append(count.ToString() + current);\n",
    "            current = character;\n",
    "            count = 1;\n",
    "        }\n",
    "        else{\n",
    "            count ++;\n",
    "        }\n",
    "    }\n",
    "\n",
    "    builder.Append(count.ToString() + current);\n",
    "    return builder.ToString();\n",
    "}"
   ]
  },
  {
   "cell_type": "code",
   "execution_count": null,
   "metadata": {
    "dotnet_interactive": {
     "language": "csharp"
    }
   },
   "outputs": [
    {
     "data": {
      "text/plain": [
       "312211"
      ]
     },
     "metadata": {},
     "output_type": "display_data"
    }
   ],
   "source": [
    "string a = input;\n",
    "\n",
    "for(int i = 0; i < 5; i++)\n",
    "{\n",
    "    a = LookAndSay(a);\n",
    "}\n",
    "\n",
    "a"
   ]
  }
 ],
 "metadata": {
  "kernelspec": {
   "display_name": ".NET (C#)",
   "language": "C#",
   "name": ".net-csharp"
  },
  "language_info": {
   "file_extension": ".cs",
   "mimetype": "text/x-csharp",
   "name": "C#",
   "pygments_lexer": "csharp",
   "version": "9.0"
  },
  "orig_nbformat": 4
 },
 "nbformat": 4,
 "nbformat_minor": 2
}
