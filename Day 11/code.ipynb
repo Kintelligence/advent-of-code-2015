{
 "cells": [
  {
   "cell_type": "code",
   "execution_count": null,
   "metadata": {
    "dotnet_interactive": {
     "language": "csharp"
    }
   },
   "outputs": [],
   "source": [
    "using System;\n",
    "using System.IO;\n",
    "using System.Collections.Generic;\n",
    "using System.Collections;\n",
    "using System.Threading;"
   ]
  },
  {
   "cell_type": "code",
   "execution_count": null,
   "metadata": {
    "dotnet_interactive": {
     "language": "csharp"
    }
   },
   "outputs": [],
   "source": [
    "var input = \"vzbxkghb\";\n",
    "var sample = \"abcdefgh\";"
   ]
  },
  {
   "cell_type": "code",
   "execution_count": null,
   "metadata": {
    "dotnet_interactive": {
     "language": "csharp"
    }
   },
   "outputs": [],
   "source": [
    "public string Increment(string password)\n",
    "{\n",
    "    var array = password.Reverse().ToArray();\n",
    "    for(int i = 0; i < 8; i++) \n",
    "    {\n",
    "        if(array[i] == 'z')\n",
    "        {\n",
    "            array[i] = 'a';            \n",
    "        }\n",
    "        else{\n",
    "            array[i] = (char) (array[i] + 1);\n",
    "            break;\n",
    "        }\n",
    "    }\n",
    "\n",
    "    return string.Concat(array.Reverse());\n",
    "}"
   ]
  },
  {
   "cell_type": "code",
   "execution_count": null,
   "metadata": {
    "dotnet_interactive": {
     "language": "csharp"
    }
   },
   "outputs": [
    {
     "data": {
      "text/plain": [
       "abcdefgh"
      ]
     },
     "metadata": {},
     "output_type": "display_data"
    }
   ],
   "source": [
    "Increment(sample)"
   ]
  },
  {
   "cell_type": "code",
   "execution_count": null,
   "metadata": {
    "dotnet_interactive": {
     "language": "csharp"
    }
   },
   "outputs": [],
   "source": [
    "public bool IsValid(string password)\n",
    "{\n",
    "    if(password.Contains('i') || password.Contains('o') || password.Contains('l'))\n",
    "    {\n",
    "        return false;\n",
    "    }\n",
    "\n",
    "    char p = ' ';\n",
    "\n",
    "    for(int i = 1; i < 8; i++)\n",
    "    {\n",
    "        if(password[i] == password[i - 1])\n",
    "        {\n",
    "            if(p == ' ')\n",
    "            {\n",
    "                p = password[i];\n",
    "            }\n",
    "            else if(password[i] != p)\n",
    "            {\n",
    "                p = '!';\n",
    "                break;\n",
    "            }\n",
    "        }\n",
    "    }\n",
    "\n",
    "    if(p != '!')\n",
    "    {\n",
    "        return false;\n",
    "    }\n",
    "\n",
    "    for(int i = 2; i < 8; i++)\n",
    "    {\n",
    "        if((password[i] - password[i - 1] == 1) &&\n",
    "           (password[i - 1] - password[i - 2] == 1))\n",
    "        {\n",
    "            return true;\n",
    "        }        \n",
    "    }\n",
    "\n",
    "    return false;\n",
    "}"
   ]
  },
  {
   "cell_type": "code",
   "execution_count": null,
   "metadata": {
    "dotnet_interactive": {
     "language": "csharp"
    }
   },
   "outputs": [
    {
     "data": {
      "text/plain": [
       "abcdefgh"
      ]
     },
     "metadata": {},
     "output_type": "display_data"
    },
    {
     "data": {
      "text/plain": [
       "abcdefgh"
      ]
     },
     "metadata": {},
     "output_type": "display_data"
    },
    {
     "data": {
      "text/plain": [
       "abcdefgh"
      ]
     },
     "metadata": {},
     "output_type": "display_data"
    }
   ],
   "source": [
    "var password = sample;\n",
    "password.Display();\n",
    "password = Increment(password);\n",
    "password.Display();\n",
    "Increment(password)"
   ]
  },
  {
   "cell_type": "code",
   "execution_count": null,
   "metadata": {
    "dotnet_interactive": {
     "language": "csharp"
    }
   },
   "outputs": [
    {
     "data": {
      "text/plain": [
       "abcdefgh"
      ]
     },
     "metadata": {},
     "output_type": "display_data"
    }
   ],
   "source": [
    "var password = sample;\n",
    "\n",
    "int i = 0;\n",
    "\n",
    "while(true)\n",
    "{\n",
    "    i++;\n",
    "    if(i % 10000 == 0)\n",
    "    {\n",
    "        i.Display();\n",
    "    }\n",
    "    password = Increment(password);\n",
    "    if(IsValid(password))\n",
    "    {\n",
    "        break;\n",
    "    }\n",
    "}\n",
    "\n",
    "password"
   ]
  }
 ],
 "metadata": {
  "kernelspec": {
   "display_name": ".NET (C#)",
   "language": "C#",
   "name": ".net-csharp"
  },
  "language_info": {
   "file_extension": ".cs",
   "mimetype": "text/x-csharp",
   "name": "C#",
   "pygments_lexer": "csharp",
   "version": "9.0"
  },
  "orig_nbformat": 4
 },
 "nbformat": 4,
 "nbformat_minor": 2
}
