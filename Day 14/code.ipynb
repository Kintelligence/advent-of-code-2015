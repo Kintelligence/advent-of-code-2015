{
 "cells": [
  {
   "cell_type": "code",
   "execution_count": null,
   "metadata": {
    "dotnet_interactive": {
     "language": "csharp"
    },
    "vscode": {
     "languageId": "dotnet-interactive.csharp"
    }
   },
   "outputs": [],
   "source": [
    "using System;\n",
    "using System.IO;\n",
    "using System.Collections.Generic;\n",
    "using System.Collections;\n",
    "using System.Threading;\n",
    "using System.Text.Json;"
   ]
  },
  {
   "cell_type": "code",
   "execution_count": null,
   "metadata": {
    "dotnet_interactive": {
     "language": "csharp"
    },
    "vscode": {
     "languageId": "dotnet-interactive.csharp"
    }
   },
   "outputs": [],
   "source": [
    "var input = File.ReadAllLines(\"sample.txt\");"
   ]
  },
  {
   "cell_type": "code",
   "execution_count": null,
   "metadata": {
    "dotnet_interactive": {
     "language": "csharp"
    },
    "vscode": {
     "languageId": "dotnet-interactive.csharp"
    }
   },
   "outputs": [],
   "source": [
    "public class Reindeer\n",
    "{\n",
    "    public string Name {get; init;}\n",
    "    public int Speed {get; init;}\n",
    "    public int Active {get; init;}\n",
    "    public int Rest {get; init;}\n",
    "    public int Cycle {get; init;}\n",
    "\n",
    "    public Reindeer(string input)\n",
    "    {\n",
    "        var seg = input.Trim('.').Split(' ');\n",
    "        Name = seg[0];\n",
    "        Speed = int.Parse(seg[3]);\n",
    "        Active = int.Parse(seg[6]);\n",
    "        Rest = int.Parse(seg[13]);\n",
    "        Cycle = Rest + Active;\n",
    "    }\n",
    "\n",
    "    public long CalculateDistance(long seconds)\n",
    "    {\n",
    "        var cycles = seconds / Cycle;\n",
    "        var remainder = seconds % Cycle;\n",
    "\n",
    "        return cycles * Active * Speed + Math.Min(remainder, Active) * Speed;\n",
    "    }\n",
    "}"
   ]
  },
  {
   "cell_type": "code",
   "execution_count": null,
   "metadata": {
    "dotnet_interactive": {
     "language": "csharp"
    },
    "vscode": {
     "languageId": "dotnet-interactive.csharp"
    }
   },
   "outputs": [
    {
     "data": {
      "text/html": [
       "<table><thead><tr><th><i>index</i></th><th>Name</th><th>Speed</th><th>Active</th><th>Rest</th></tr></thead><tbody><tr><td>0</td><td>Comet</td><td><div class=\"dni-plaintext\">14</div></td><td><div class=\"dni-plaintext\">10</div></td><td><div class=\"dni-plaintext\">127</div></td></tr><tr><td>1</td><td>Dancer</td><td><div class=\"dni-plaintext\">16</div></td><td><div class=\"dni-plaintext\">11</div></td><td><div class=\"dni-plaintext\">162</div></td></tr></tbody></table>"
      ]
     },
     "metadata": {},
     "output_type": "display_data"
    }
   ],
   "source": []
  }
 ],
 "metadata": {
  "kernelspec": {
   "display_name": ".NET (C#)",
   "language": "C#",
   "name": ".net-csharp"
  },
  "language_info": {
   "file_extension": ".cs",
   "mimetype": "text/x-csharp",
   "name": "C#",
   "pygments_lexer": "csharp",
   "version": "9.0"
  },
  "orig_nbformat": 4
 },
 "nbformat": 4,
 "nbformat_minor": 2
}
