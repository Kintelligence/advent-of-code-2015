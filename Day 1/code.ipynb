{
 "cells": [
  {
   "cell_type": "code",
   "execution_count": null,
   "metadata": {
    "dotnet_interactive": {
     "language": "csharp"
    }
   },
   "outputs": [],
   "source": [
    "using System;\n",
    "using System.IO;"
   ]
  },
  {
   "cell_type": "code",
   "execution_count": null,
   "metadata": {
    "dotnet_interactive": {
     "language": "csharp"
    }
   },
   "outputs": [],
   "source": [
    "var input = await File.ReadAllLinesAsync(\"input.txt\");\n",
    "var data = input.First();"
   ]
  },
  {
   "cell_type": "code",
   "execution_count": null,
   "metadata": {
    "dotnet_interactive": {
     "language": "csharp"
    }
   },
   "outputs": [
    {
     "data": {
      "text/html": [
       "<div class=\"dni-plaintext\">1795</div>"
      ]
     },
     "metadata": {},
     "output_type": "display_data"
    }
   ],
   "source": [
    "int i = 0;\n",
    "int depth = 0;\n",
    "\n",
    "foreach(var c in data)\n",
    "{\n",
    "    if(c == '(')\n",
    "    {\n",
    "        depth++;\n",
    "    }\n",
    "    else{\n",
    "        depth--;\n",
    "    }\n",
    "\n",
    "    i++;\n",
    "    \n",
    "    if(depth == -1)\n",
    "    {\n",
    "        break;\n",
    "    }    \n",
    "}\n",
    "\n",
    "i"
   ]
  }
 ],
 "metadata": {
  "kernelspec": {
   "display_name": ".NET (C#)",
   "language": "C#",
   "name": ".net-csharp"
  },
  "language_info": {
   "file_extension": ".cs",
   "mimetype": "text/x-csharp",
   "name": "C#",
   "pygments_lexer": "csharp",
   "version": "9.0"
  },
  "orig_nbformat": 4
 },
 "nbformat": 4,
 "nbformat_minor": 2
}
