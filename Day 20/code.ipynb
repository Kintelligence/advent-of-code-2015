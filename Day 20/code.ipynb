{
 "cells": [
  {
   "cell_type": "code",
   "execution_count": null,
   "metadata": {
    "dotnet_interactive": {
     "language": "csharp"
    },
    "vscode": {
     "languageId": "dotnet-interactive.csharp"
    }
   },
   "outputs": [],
   "source": [
    "using System;\n",
    "using System.IO;\n",
    "using System.Collections.Generic;\n",
    "using System.Collections;\n",
    "using System.Collections.Concurrent;\n",
    "using System.Threading;\n",
    "using System.Text.Json;"
   ]
  },
  {
   "cell_type": "code",
   "execution_count": null,
   "metadata": {
    "dotnet_interactive": {
     "language": "csharp"
    },
    "vscode": {
     "languageId": "dotnet-interactive.csharp"
    }
   },
   "outputs": [],
   "source": [
    "var dict = new ConcurrentDictionary<long, long>();\n",
    "var max = 5_000_000;\n",
    "for(long i = 1; i < max; i++)\n",
    "{\n",
    "    long x = i;\n",
    "    var c = 0;\n",
    "    while(x < max && c < 50)\n",
    "    {\n",
    "        dict.AddOrUpdate(x, (a) => i, (a, b) => b + i);\n",
    "        x += i;\n",
    "        c++;\n",
    "    }\n",
    "}"
   ]
  },
  {
   "cell_type": "code",
   "execution_count": null,
   "metadata": {
    "dotnet_interactive": {
     "language": "csharp"
    },
    "vscode": {
     "languageId": "dotnet-interactive.csharp"
    }
   },
   "outputs": [
    {
     "data": {
      "text/html": [
       "<table><thead><tr><th><i>index</i></th><th>Key</th><th>Value</th></tr></thead><tbody><tr><td>0</td><td><div class=\"dni-plaintext\">1</div></td><td><div class=\"dni-plaintext\">1</div></td></tr><tr><td>1</td><td><div class=\"dni-plaintext\">2</div></td><td><div class=\"dni-plaintext\">3</div></td></tr><tr><td>2</td><td><div class=\"dni-plaintext\">3</div></td><td><div class=\"dni-plaintext\">4</div></td></tr><tr><td>3</td><td><div class=\"dni-plaintext\">4</div></td><td><div class=\"dni-plaintext\">7</div></td></tr><tr><td>4</td><td><div class=\"dni-plaintext\">5</div></td><td><div class=\"dni-plaintext\">6</div></td></tr><tr><td>5</td><td><div class=\"dni-plaintext\">6</div></td><td><div class=\"dni-plaintext\">12</div></td></tr><tr><td>6</td><td><div class=\"dni-plaintext\">7</div></td><td><div class=\"dni-plaintext\">8</div></td></tr><tr><td>7</td><td><div class=\"dni-plaintext\">8</div></td><td><div class=\"dni-plaintext\">15</div></td></tr><tr><td>8</td><td><div class=\"dni-plaintext\">9</div></td><td><div class=\"dni-plaintext\">13</div></td></tr></tbody></table>"
      ]
     },
     "metadata": {},
     "output_type": "display_data"
    }
   ],
   "source": [
    "dict.Take(9)"
   ]
  },
  {
   "cell_type": "code",
   "execution_count": null,
   "metadata": {
    "dotnet_interactive": {
     "language": "csharp"
    },
    "vscode": {
     "languageId": "dotnet-interactive.csharp"
    }
   },
   "outputs": [
    {
     "data": {
      "text/html": [
       "<table><thead><tr><th><i>index</i></th><th>Key</th><th>Value</th></tr></thead><tbody><tr><td>0</td><td><div class=\"dni-plaintext\">786240</div></td><td><div class=\"dni-plaintext\">3014690</div></td></tr><tr><td>1</td><td><div class=\"dni-plaintext\">803880</div></td><td><div class=\"dni-plaintext\">3027045</div></td></tr><tr><td>2</td><td><div class=\"dni-plaintext\">811440</div></td><td><div class=\"dni-plaintext\">3010950</div></td></tr><tr><td>3</td><td><div class=\"dni-plaintext\">813960</div></td><td><div class=\"dni-plaintext\">3018855</div></td></tr><tr><td>4</td><td><div class=\"dni-plaintext\">816480</div></td><td><div class=\"dni-plaintext\">3015495</div></td></tr><tr><td>5</td><td><div class=\"dni-plaintext\">819000</div></td><td><div class=\"dni-plaintext\">3065265</div></td></tr><tr><td>6</td><td><div class=\"dni-plaintext\">826560</div></td><td><div class=\"dni-plaintext\">3042270</div></td></tr><tr><td>7</td><td><div class=\"dni-plaintext\">829920</div></td><td><div class=\"dni-plaintext\">3037139</div></td></tr><tr><td>8</td><td><div class=\"dni-plaintext\">831600</div></td><td><div class=\"dni-plaintext\">3252746</div></td></tr><tr><td>9</td><td><div class=\"dni-plaintext\">835380</div></td><td><div class=\"dni-plaintext\">3020983</div></td></tr><tr><td>10</td><td><div class=\"dni-plaintext\">836640</div></td><td><div class=\"dni-plaintext\">3058965</div></td></tr><tr><td>11</td><td><div class=\"dni-plaintext\">839160</div></td><td><div class=\"dni-plaintext\">3025785</div></td></tr><tr><td>12</td><td><div class=\"dni-plaintext\">840840</div></td><td><div class=\"dni-plaintext\">3090783</div></td></tr><tr><td>13</td><td><div class=\"dni-plaintext\">841680</div></td><td><div class=\"dni-plaintext\">3051090</div></td></tr><tr><td>14</td><td><div class=\"dni-plaintext\">844200</div></td><td><div class=\"dni-plaintext\">3040527</div></td></tr><tr><td>15</td><td><div class=\"dni-plaintext\">846720</div></td><td><div class=\"dni-plaintext\">3144460</div></td></tr><tr><td>16</td><td><div class=\"dni-plaintext\">850080</div></td><td><div class=\"dni-plaintext\">3140361</div></td></tr><tr><td>17</td><td><div class=\"dni-plaintext\">851760</div></td><td><div class=\"dni-plaintext\">3207750</div></td></tr><tr><td>18</td><td><div class=\"dni-plaintext\">854280</div></td><td><div class=\"dni-plaintext\">3057215</div></td></tr><tr><td>19</td><td><div class=\"dni-plaintext\">855360</div></td><td><div class=\"dni-plaintext\">3021714</div></td></tr><tr><td colspan=\"3\"><i>... (more)</i></td></tr></tbody></table>"
      ]
     },
     "metadata": {},
     "output_type": "display_data"
    }
   ],
   "source": [
    "var x = 33100000 / 11;\n",
    "dict.Where(c => c.Value > x).OrderBy(c => c.Key)"
   ]
  }
 ],
 "metadata": {
  "kernelspec": {
   "display_name": ".NET (C#)",
   "language": "C#",
   "name": ".net-csharp"
  },
  "language_info": {
   "file_extension": ".cs",
   "mimetype": "text/x-csharp",
   "name": "C#",
   "pygments_lexer": "csharp",
   "version": "9.0"
  },
  "orig_nbformat": 4
 },
 "nbformat": 4,
 "nbformat_minor": 2
}
