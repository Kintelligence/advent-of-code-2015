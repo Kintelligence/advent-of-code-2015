{
 "cells": [
  {
   "cell_type": "code",
   "execution_count": null,
   "metadata": {
    "dotnet_interactive": {
     "language": "csharp"
    },
    "vscode": {
     "languageId": "dotnet-interactive.csharp"
    }
   },
   "outputs": [],
   "source": [
    "using System;\n",
    "using System.IO;\n",
    "using System.Collections.Generic;\n",
    "using System.Collections;\n",
    "using System.Threading;\n",
    "using System.Text.Json;"
   ]
  },
  {
   "cell_type": "code",
   "execution_count": null,
   "metadata": {
    "dotnet_interactive": {
     "language": "csharp"
    },
    "vscode": {
     "languageId": "dotnet-interactive.csharp"
    }
   },
   "outputs": [],
   "source": [
    "public class Debug : IDisposable\n",
    "{\n",
    "    public static bool IsEnabled {get; private set;} = false;\n",
    "\n",
    "    public static void Print(string input)\n",
    "    {\n",
    "        if(IsEnabled)\n",
    "        {\n",
    "            Console.WriteLine(input);\n",
    "        }\n",
    "    }\n",
    "\n",
    "    public Debug(bool enable = true)\n",
    "    {\n",
    "        IsEnabled = enable;\n",
    "    }\n",
    "\n",
    "    public void Dispose()\n",
    "    {\n",
    "        IsEnabled = false;\n",
    "    }\n",
    "}"
   ]
  },
  {
   "cell_type": "code",
   "execution_count": null,
   "metadata": {
    "dotnet_interactive": {
     "language": "csharp"
    },
    "vscode": {
     "languageId": "dotnet-interactive.csharp"
    }
   },
   "outputs": [],
   "source": [
    "var input = File.ReadAllLines(\"sample.txt\");"
   ]
  },
  {
   "cell_type": "code",
   "execution_count": null,
   "metadata": {
    "dotnet_interactive": {
     "language": "csharp"
    },
    "vscode": {
     "languageId": "dotnet-interactive.csharp"
    }
   },
   "outputs": [],
   "source": [
    "public static class Mappings\n",
    "{\n",
    "    public static int i = 0;\n",
    "    public static string Fake()\n",
    "    {\n",
    "        return $\"X{i++}\";\n",
    "    }\n",
    "}"
   ]
  },
  {
   "cell_type": "code",
   "execution_count": null,
   "metadata": {
    "dotnet_interactive": {
     "language": "csharp"
    },
    "vscode": {
     "languageId": "dotnet-interactive.csharp"
    }
   },
   "outputs": [],
   "source": [
    "public record Replacement\n",
    "{\n",
    "    public string From {get; init;}\n",
    "    public string To {get; init;}\n",
    "    public bool IsReal {get; init;}\n",
    "}"
   ]
  },
  {
   "cell_type": "code",
   "execution_count": null,
   "metadata": {
    "dotnet_interactive": {
     "language": "csharp"
    },
    "vscode": {
     "languageId": "dotnet-interactive.csharp"
    }
   },
   "outputs": [],
   "source": [
    "public static IEnumerable<string> Splice(string input)\n",
    "{\n",
    "    for(int i = 0; i < input.Length; i++)\n",
    "    {        \n",
    "        if(i < input.Length - 1 && char.IsLower(input[i + 1]))\n",
    "        {\n",
    "            yield return string.Concat(input[i], input[i + 1]);\n",
    "            i++;\n",
    "        }\n",
    "        else{\n",
    "            yield return string.Concat(input[i]);\n",
    "        }\n",
    "    }\n",
    "}"
   ]
  },
  {
   "cell_type": "code",
   "execution_count": null,
   "metadata": {
    "dotnet_interactive": {
     "language": "csharp"
    },
    "vscode": {
     "languageId": "dotnet-interactive.csharp"
    }
   },
   "outputs": [],
   "source": [
    "public IEnumerable<Replacement> Parse(string input)\n",
    "{\n",
    "    var segments = input.Split(\"=>\", 2, StringSplitOptions.TrimEntries);\n",
    "    var count = segments[1].Count(c => char.IsUpper(c));\n",
    "    \n",
    "    var list = Splice(segments[1]).ToArray();\n",
    "    \n",
    "    if(list.Count() == 1)\n",
    "    {\n",
    "        yield return new Replacement\n",
    "        {\n",
    "            From = segments[0],\n",
    "            To = segments[1],\n",
    "            IsReal = true\n",
    "        };\n",
    "\n",
    "        yield break;\n",
    "    }\n",
    "\n",
    "    var from = \"\";\n",
    "    var to = list[0] + list[1];\n",
    "\n",
    "    for(int i = 2; i < count; i++)\n",
    "    {\n",
    "        from = Mappings.Fake();\n",
    "\n",
    "        yield return new Replacement\n",
    "        {\n",
    "            From = from,\n",
    "            To = to,\n",
    "            IsReal = false\n",
    "        };\n",
    "\n",
    "        to = from + list[i];\n",
    "    }\n",
    "\n",
    "    from = segments[0];\n",
    "\n",
    "    yield return new Replacement\n",
    "    {\n",
    "        From = from,\n",
    "        To = to,\n",
    "        IsReal = true\n",
    "    };\n",
    "\n",
    "    yield break;\n",
    "}"
   ]
  },
  {
   "cell_type": "code",
   "execution_count": null,
   "metadata": {
    "dotnet_interactive": {
     "language": "csharp"
    },
    "vscode": {
     "languageId": "dotnet-interactive.csharp"
    }
   },
   "outputs": [],
   "source": [
    "var replacements = new List<Replacement>();\n",
    "string target;\n",
    "\n",
    "foreach(var line in input)\n",
    "{\n",
    "    if(line.Contains(\"=>\"))\n",
    "    {\n",
    "        replacements.AddRange(Parse(line));\n",
    "    }\n",
    "    else if(!string.IsNullOrWhiteSpace(line))\n",
    "    {\n",
    "        target = line;\n",
    "    }\n",
    "}"
   ]
  },
  {
   "cell_type": "code",
   "execution_count": null,
   "metadata": {
    "dotnet_interactive": {
     "language": "csharp"
    },
    "vscode": {
     "languageId": "dotnet-interactive.csharp"
    }
   },
   "outputs": [
    {
     "data": {
      "text/html": [
       "<table><thead><tr><th><i>index</i></th><th>value</th></tr></thead><tbody><tr><td>0</td><td><div class=\"dni-plaintext\">[ { Replacement { From = Al, To = ThF, IsReal = True }: From: Al, To: ThF, IsReal: True } ]</div></td></tr><tr><td>1</td><td><div class=\"dni-plaintext\">[ { Replacement { From = X0, To = ThRn, IsReal = False }: From: X0, To: ThRn, IsReal: False } ]</div></td></tr><tr><td>2</td><td><div class=\"dni-plaintext\">[ { Replacement { From = X1, To = X0F, IsReal = False }: From: X1, To: X0F, IsReal: False } ]</div></td></tr><tr><td>3</td><td><div class=\"dni-plaintext\">[ { Replacement { From = Al, To = X1Ar, IsReal = True }: From: Al, To: X1Ar, IsReal: True } ]</div></td></tr><tr><td>4</td><td><div class=\"dni-plaintext\">[ { Replacement { From = B, To = BCa, IsReal = True }: From: B, To: BCa, IsReal: True } ]</div></td></tr><tr><td>5</td><td><div class=\"dni-plaintext\">[ { Replacement { From = B, To = TiB, IsReal = True }: From: B, To: TiB, IsReal: True } ]</div></td></tr><tr><td>6</td><td><div class=\"dni-plaintext\">[ { Replacement { From = X2, To = TiRn, IsReal = False }: From: X2, To: TiRn, IsReal: False } ]</div></td></tr><tr><td>7</td><td><div class=\"dni-plaintext\">[ { Replacement { From = X3, To = X2F, IsReal = False }: From: X3, To: X2F, IsReal: False } ]</div></td></tr><tr><td>8</td><td><div class=\"dni-plaintext\">[ { Replacement { From = B, To = X3Ar, IsReal = True }: From: B, To: X3Ar, IsReal: True } ]</div></td></tr><tr><td>9</td><td><div class=\"dni-plaintext\">[ { Replacement { From = Ca, To = CaCa, IsReal = True }: From: Ca, To: CaCa, IsReal: True } ]</div></td></tr><tr><td>10</td><td><div class=\"dni-plaintext\">[ { Replacement { From = Ca, To = PB, IsReal = True }: From: Ca, To: PB, IsReal: True } ]</div></td></tr><tr><td>11</td><td><div class=\"dni-plaintext\">[ { Replacement { From = X4, To = PRn, IsReal = False }: From: X4, To: PRn, IsReal: False } ]</div></td></tr><tr><td>12</td><td><div class=\"dni-plaintext\">[ { Replacement { From = X5, To = X4F, IsReal = False }: From: X5, To: X4F, IsReal: False } ]</div></td></tr><tr><td>13</td><td><div class=\"dni-plaintext\">[ { Replacement { From = Ca, To = X5Ar, IsReal = True }: From: Ca, To: X5Ar, IsReal: True } ]</div></td></tr><tr><td>14</td><td><div class=\"dni-plaintext\">[ { Replacement { From = X6, To = SiRn, IsReal = False }: From: X6, To: SiRn, IsReal: False }, { Replacement { From = X10, To = SiRn, IsReal = False }: From: X10, To: SiRn, IsReal: False }, { Replacement { From = X46, To = SiRn, IsReal = False }: From: X46, To: SiRn, IsReal: False } ]</div></td></tr><tr><td>15</td><td><div class=\"dni-plaintext\">[ { Replacement { From = X7, To = X6F, IsReal = False }: From: X7, To: X6F, IsReal: False } ]</div></td></tr><tr><td>16</td><td><div class=\"dni-plaintext\">[ { Replacement { From = X8, To = X7Y, IsReal = False }: From: X8, To: X7Y, IsReal: False } ]</div></td></tr><tr><td>17</td><td><div class=\"dni-plaintext\">[ { Replacement { From = X9, To = X8F, IsReal = False }: From: X9, To: X8F, IsReal: False } ]</div></td></tr><tr><td>18</td><td><div class=\"dni-plaintext\">[ { Replacement { From = Ca, To = X9Ar, IsReal = True }: From: Ca, To: X9Ar, IsReal: True } ]</div></td></tr><tr><td>19</td><td><div class=\"dni-plaintext\">[ { Replacement { From = X11, To = X10Mg, IsReal = False }: From: X11, To: X10Mg, IsReal: False } ]</div></td></tr><tr><td colspan=\"2\"><i>... (more)</i></td></tr></tbody></table>"
      ]
     },
     "metadata": {},
     "output_type": "display_data"
    }
   ],
   "source": [
    "replacements.GroupBy(c => c.To)"
   ]
  },
  {
   "cell_type": "code",
   "execution_count": null,
   "metadata": {
    "dotnet_interactive": {
     "language": "csharp"
    },
    "vscode": {
     "languageId": "dotnet-interactive.csharp"
    }
   },
   "outputs": [],
   "source": [
    "public record Match\n",
    "{\n",
    "    public int Count {get; set;}\n",
    "    public string S {get; init;}\n",
    "}"
   ]
  },
  {
   "cell_type": "code",
   "execution_count": null,
   "metadata": {
    "dotnet_interactive": {
     "language": "csharp"
    },
    "vscode": {
     "languageId": "dotnet-interactive.csharp"
    }
   },
   "outputs": [],
   "source": [
    "var s = Splice(target).ToArray();\n",
    "\n",
    "var count = s.Count();\n",
    "var layers = new List<Match>[count][];\n",
    "for(int i = 0; i < count; i++)\n",
    "{\n",
    "    layers[i] = new List<Match>[count - i];\n",
    "\n",
    "    for(int n = 0; n < count - i; n++)\n",
    "    {\n",
    "        layers[i][n] = new List<Match>();\n",
    "    }\n",
    "}\n",
    "\n",
    "for(int i = 0; i < count; i++)\n",
    "{\n",
    "    layers[0][i].Add(new Match{S = s[i], Count = 0});\n",
    "}"
   ]
  },
  {
   "cell_type": "code",
   "execution_count": null,
   "metadata": {
    "dotnet_interactive": {
     "language": "csharp"
    },
    "vscode": {
     "languageId": "dotnet-interactive.csharp"
    }
   },
   "outputs": [],
   "source": [
    "for(int i = 1; i < count; i++)\n",
    "{\n",
    "    for(int n = 0; n < count - i; n++)\n",
    "    {\n",
    "        // Console.WriteLine($\"[{i}][{n}]\");\n",
    "        var current = layers[i][n];\n",
    "\n",
    "        for(int o = 0; o < i; o++)\n",
    "        {\n",
    "            List<Match> left = null, right = null;\n",
    "\n",
    "            if(i == 1)\n",
    "            {\n",
    "                left = layers[0][n];\n",
    "                right = layers[0][n + 1];\n",
    "            }\n",
    "            else{\n",
    "                left = layers[o][n];\n",
    "                right = layers[i - 1 - o][n + 1 + o];\n",
    "            }\n",
    "\n",
    "            foreach(var l in left)\n",
    "            {\n",
    "                foreach(var r in right)\n",
    "                {\n",
    "                    var m = l.S + r.S;\n",
    "                    var candidates = replacements.Where(c => c.To == m);\n",
    "                    foreach(var replacement in candidates)\n",
    "                    {\n",
    "                        var match = new Match{S = replacement.From, Count = l.Count + r.Count + 1};                    \n",
    "                        var existing = current.FirstOrDefault(c => c.S == match.S);\n",
    "\n",
    "                        if(existing != null)\n",
    "                        {\n",
    "                            existing.Count = Math.Min(existing.Count, match.Count);\n",
    "                        }\n",
    "                        else{\n",
    "                            current.Add(match);\n",
    "                        }\n",
    "                        \n",
    "                        // Console.WriteLine($\"{replacement.From} => {replacement.To}\");\n",
    "                    }\n",
    "                }\n",
    "            }\n",
    "        }\n",
    "    }\n",
    "}"
   ]
  },
  {
   "cell_type": "code",
   "execution_count": null,
   "metadata": {
    "dotnet_interactive": {
     "language": "csharp"
    },
    "vscode": {
     "languageId": "dotnet-interactive.csharp"
    }
   },
   "outputs": [
    {
     "data": {
      "text/html": [
       "<table><thead><tr><th><i>index</i></th><th>value</th></tr></thead><tbody><tr><td>0</td><td><div class=\"dni-plaintext\">[ { Match { Count = 273, S = e }: Count: 273, S: e } ]</div></td></tr></tbody></table>"
      ]
     },
     "metadata": {},
     "output_type": "display_data"
    }
   ],
   "source": [
    "layers.Last()"
   ]
  },
  {
   "cell_type": "code",
   "execution_count": null,
   "metadata": {
    "dotnet_interactive": {
     "language": "csharp"
    },
    "vscode": {
     "languageId": "dotnet-interactive.csharp"
    }
   },
   "outputs": [],
   "source": [
    "// foreach(var n in layers.Select(d => d.Count(c => c.Any())).Reverse())\n",
    "// {\n",
    "//     Console.WriteLine(n);\n",
    "// }"
   ]
  },
  {
   "cell_type": "code",
   "execution_count": null,
   "metadata": {
    "dotnet_interactive": {
     "language": "csharp"
    },
    "vscode": {
     "languageId": "dotnet-interactive.csharp"
    }
   },
   "outputs": [],
   "source": [
    "public void Print(List<Match>[][] layers)\n",
    "{\n",
    "    foreach(var layer in layers)\n",
    "    {\n",
    "        foreach(var line in layer)\n",
    "        {\n",
    "            Console.Write(\"|\");\n",
    "            Console.Write(string.Join(';', line.Select(c => c.S)));\n",
    "            Console.Write(\"|\\t\");\n",
    "        }\n",
    "        Console.WriteLine();\n",
    "    }\n",
    "}"
   ]
  },
  {
   "cell_type": "code",
   "execution_count": null,
   "metadata": {
    "dotnet_interactive": {
     "language": "csharp"
    },
    "vscode": {
     "languageId": "dotnet-interactive.csharp"
    }
   },
   "outputs": [],
   "source": [
    "// Print(layers)"
   ]
  }
 ],
 "metadata": {
  "kernelspec": {
   "display_name": ".NET (C#)",
   "language": "C#",
   "name": ".net-csharp"
  },
  "language_info": {
   "file_extension": ".cs",
   "mimetype": "text/x-csharp",
   "name": "C#",
   "pygments_lexer": "csharp",
   "version": "9.0"
  },
  "orig_nbformat": 4
 },
 "nbformat": 4,
 "nbformat_minor": 2
}
