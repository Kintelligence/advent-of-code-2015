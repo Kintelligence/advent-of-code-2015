{
 "cells": [
  {
   "cell_type": "code",
   "execution_count": null,
   "metadata": {
    "dotnet_interactive": {
     "language": "csharp"
    }
   },
   "outputs": [],
   "source": [
    "using System;\n",
    "using System.IO;\n",
    "using System.Collections.Generic;\n",
    "using System.Collections;\n",
    "using System.Threading;\n",
    "using System.Text.Json;"
   ]
  },
  {
   "cell_type": "code",
   "execution_count": null,
   "metadata": {
    "dotnet_interactive": {
     "language": "csharp"
    }
   },
   "outputs": [],
   "source": [
    "public class Debug : IDisposable\n",
    "{\n",
    "    public static bool IsEnabled {get; private set;} = false;\n",
    "\n",
    "    public static void Print(string input)\n",
    "    {\n",
    "        if(IsEnabled)\n",
    "        {\n",
    "            Console.WriteLine(input);\n",
    "        }\n",
    "    }\n",
    "\n",
    "    public Debug(bool enable = true)\n",
    "    {\n",
    "        IsEnabled = enable;\n",
    "    }\n",
    "\n",
    "    public void Dispose()\n",
    "    {\n",
    "        IsEnabled = false;\n",
    "    }\n",
    "}"
   ]
  },
  {
   "cell_type": "code",
   "execution_count": null,
   "metadata": {
    "dotnet_interactive": {
     "language": "csharp"
    }
   },
   "outputs": [],
   "source": [
    "public interface State\n",
    "{\n",
    "    bool IsGoal {get;}\n",
    "    string Id {get;}\n",
    "    IEnumerable<(State state, long cost)> Neighbours();\n",
    "}"
   ]
  },
  {
   "cell_type": "code",
   "execution_count": null,
   "metadata": {
    "dotnet_interactive": {
     "language": "csharp"
    }
   },
   "outputs": [],
   "source": [
    "public class Dijkstra\n",
    "{\n",
    "    public Dictionary<string, long> Cost = new Dictionary<string, long>();\n",
    "    public PriorityQueue<State, long> Queue = new PriorityQueue<State, long>();\n",
    "    public int Min = int.MaxValue;\n",
    "    public State MinState = null;\n",
    "\n",
    "    public int Count = 0;\n",
    "    \n",
    "    \n",
    "    public (State s, long c) Run(State start)\n",
    "    {\n",
    "        Queue.Enqueue(start, 0);\n",
    "\n",
    "        State node;\n",
    "        long cost;\n",
    "        while(Queue.TryDequeue(out node, out cost))\n",
    "        {\n",
    "            if(node.Id.Length < Min)\n",
    "            {\n",
    "                Min = node.Id.Length;\n",
    "                MinState = node;\n",
    "            }\n",
    "            \n",
    "            Count++;\n",
    "\n",
    "            if(Count % 100000 == 0)\n",
    "            {\n",
    "                Debug.Print($\"Visited {Count} nodes. {Queue.Count} left, Current: {node.Id}, Min: {Min}\");\n",
    "            }\n",
    "\n",
    "            // if(Count % 10000000 == 0)\n",
    "            // {\n",
    "            //     Debug.Print(\"Breaking\");\n",
    "            //     break;\n",
    "            // }            \n",
    "            \n",
    "            if(node.IsGoal)\n",
    "            {\n",
    "                break;\n",
    "            }\n",
    "            \n",
    "            foreach(var n in node.Neighbours())\n",
    "            {\n",
    "                long total = n.cost + cost;\n",
    "\n",
    "                if(Cost.TryGetValue(n.state.Id, out var c))\n",
    "                {\n",
    "                    if(c <= total)\n",
    "                    {\n",
    "                        continue;\n",
    "                    }\n",
    "                }\n",
    "                Cost[n.state.Id] = total;\n",
    "                Queue.Enqueue(n.state, total);\n",
    "            }\n",
    "        }\n",
    "        Debug.Print(\"Done?\");\n",
    "\n",
    "        if(node?.IsGoal == true)\n",
    "        {\n",
    "            Debug.Print(\"YES!\");\n",
    "            return (node, cost);\n",
    "        }\n",
    "        else{\n",
    "            Debug.Print(\"NO!\");\n",
    "            return (node, -1);\n",
    "        }\n",
    "    }\n",
    "}"
   ]
  },
  {
   "cell_type": "code",
   "execution_count": null,
   "metadata": {
    "dotnet_interactive": {
     "language": "csharp"
    }
   },
   "outputs": [],
   "source": [
    "var input = File.ReadAllLines(\"input.txt\");"
   ]
  },
  {
   "cell_type": "code",
   "execution_count": null,
   "metadata": {
    "dotnet_interactive": {
     "language": "csharp"
    }
   },
   "outputs": [],
   "source": [
    "public record Replacement\n",
    "{\n",
    "    public string From {get; init;}\n",
    "    public string To {get; init;}\n",
    "\n",
    "    public Replacement(string input)\n",
    "    {\n",
    "        var segments = input.Split(\"=>\", 2, StringSplitOptions.TrimEntries);\n",
    "        From = segments[0];\n",
    "        To = segments[1];\n",
    "    }\n",
    "}"
   ]
  },
  {
   "cell_type": "code",
   "execution_count": null,
   "metadata": {
    "dotnet_interactive": {
     "language": "csharp"
    }
   },
   "outputs": [],
   "source": [
    "static var d = new Dictionary<string, List<string>>();\n",
    "static var rev = new Dictionary<string, string>();\n",
    "static var initial = \"\";\n",
    "\n",
    "foreach(var line in input)\n",
    "{\n",
    "    if(line.Contains(\"=>\"))\n",
    "    {\n",
    "        var segments = line.Split(\"=>\", 2, StringSplitOptions.TrimEntries);\n",
    "        \n",
    "        if(!d.ContainsKey(segments[0]))\n",
    "        {\n",
    "            d.Add(segments[0], new List<string>());\n",
    "        }\n",
    "        var r = string.Concat(segments[1].Reverse());\n",
    "        var rr = string.Concat(segments[0].Reverse());\n",
    "        d[rr].Add(r);\n",
    "\n",
    "        rev[r] = rr;\n",
    "    }\n",
    "    else if(!string.IsNullOrWhiteSpace(line))\n",
    "    {\n",
    "        initial = string.Concat(line.Reverse());\n",
    "    }\n",
    "}\n"
   ]
  },
  {
   "cell_type": "code",
   "execution_count": null,
   "metadata": {
    "dotnet_interactive": {
     "language": "csharp"
    }
   },
   "outputs": [
    {
     "data": {
      "text/plain": [
       "rAgMPBPnRhTiSaCrAFYFnRiSrAgMPaCaCnRPaCaCrAFBnRiSaCBPaChTiSaCrAFrAgMPnRiTnRiShTiShTrAFhTiSaCBrAFrAFYFnRiSaCaCnRiSaCaCaCaCrAFnRPaCBiTPrAFnRrAgMPnRiSaChTiSBPaChTiSrAFYFnRiSaCaCBrAFnRiSaChTiSrAFYFnRiSaCBPBPhTiSBPaChTiSaCaCaCaCBrAlAiSBPnRiSaCaCrAlAiSaCaChTiSaCaCaCaCYgMrAFnRiSBPnRiSaCaCrArAFnRaChTiSYFnRiSaCaCBPrAlAiSnRPaCrAgMiTPBPhTiSaChTiSrAFaCYFnRiSYFrAgMnRiSaCaChTiSnRiSaCaCrAFBiTiTrAFnRiSnRrAFnRiSaChTiSaCrAgMiTnRiSaCrAgMPBPBiTnRiShTiSaCBPrAFBiTiTPBiTrAFnRiSBnRiSaCnRC"
      ]
     },
     "metadata": {},
     "output_type": "display_data"
    }
   ],
   "source": [
    "initial"
   ]
  },
  {
   "cell_type": "code",
   "execution_count": null,
   "metadata": {
    "dotnet_interactive": {
     "language": "csharp"
    }
   },
   "outputs": [],
   "source": [
    "public Dictionary<string, List<int>> GetMatches(string input)\n",
    "{\n",
    "    var matches = new Dictionary<string, List<int>>();\n",
    "\n",
    "    foreach(var key in d.Keys)\n",
    "    {        \n",
    "        var index = -1;\n",
    "        while(true)\n",
    "        {\n",
    "            index = input.IndexOf(key, index + 1);\n",
    "            \n",
    "            if(index == -1)\n",
    "            {\n",
    "                break;\n",
    "            }\n",
    "\n",
    "            if(!matches.ContainsKey(key))\n",
    "            {\n",
    "                matches.Add(key, new List<int>());\n",
    "            }\n",
    "\n",
    "            matches[key].Add(index);\n",
    "        }        \n",
    "    }\n",
    "    return matches;\n",
    "}"
   ]
  },
  {
   "cell_type": "code",
   "execution_count": null,
   "metadata": {
    "dotnet_interactive": {
     "language": "csharp"
    }
   },
   "outputs": [],
   "source": [
    "public Dictionary<string, List<int>> ReverseGetMatches(string input)\n",
    "{\n",
    "    var matches = new Dictionary<string, List<int>>();\n",
    "\n",
    "    foreach(var key in rev.Keys)\n",
    "    {        \n",
    "        var index = -1;\n",
    "        while(true)\n",
    "        {\n",
    "            index = input.IndexOf(key, index + 1);\n",
    "            \n",
    "            if(index == -1)\n",
    "            {\n",
    "                break;\n",
    "            }\n",
    "\n",
    "            if(!matches.ContainsKey(key))\n",
    "            {\n",
    "                matches.Add(key, new List<int>());\n",
    "            }\n",
    "\n",
    "            matches[key].Add(index);\n",
    "        }\n",
    "    }\n",
    "    return matches;\n",
    "}"
   ]
  },
  {
   "cell_type": "code",
   "execution_count": null,
   "metadata": {
    "dotnet_interactive": {
     "language": "csharp"
    }
   },
   "outputs": [
    {
     "data": {
      "text/html": [
       "<table><thead><tr><th><i>key</i></th><th>value</th></tr></thead><tbody><tr><td>Al</td><td><div class=\"dni-plaintext\">[ 158, 225, 241 ]</div></td></tr><tr><td>B</td><td><div class=\"dni-plaintext\">[ 9, 19, 25, 30, 43, 45, 91, 143, 163, 196, 238, 245, 261, 267, 269, 294, 315, 339, 376, 417 ... (2 more) ]</div></td></tr><tr><td>Ca</td><td><div class=\"dni-plaintext\">[ 3, 31, 51, 63, 69, 95, 97, 107, 109, 127, 136, 151, 164, 166, 178, 187, 189, 207, 209, 211 ... (32 more) ]</div></td></tr><tr><td>F</td><td><div class=\"dni-plaintext\">[ 14, 26, 75, 84, 92, 119, 125, 129, 172, 182, 201, 276, 278, 291, 303, 305, 333, 345, 368, 370 ... (6 more) ]</div></td></tr><tr><td>Mg</td><td><div class=\"dni-plaintext\">[ 47, 59, 115, 147, 204, 327, 401, 440, 464 ]</div></td></tr><tr><td>P</td><td><div class=\"dni-plaintext\">[ 20, 29, 44, 46, 142, 144, 153, 162, 195, 237, 260, 266, 268, 314, 326, 336, 342, 400, 416, 432 ... (3 more) ]</div></td></tr><tr><td>Si</td><td><div class=\"dni-plaintext\">[ 5, 10, 33, 37, 53, 65, 71, 80, 99, 103, 111, 121, 132, 138, 156, 168, 174, 191, 197, 215 ... (21 more) ]</div></td></tr><tr><td>Th</td><td><div class=\"dni-plaintext\">[ 35, 67, 105, 134, 140, 176, 217, 256, 264, 283, 310, 318, 381, 386, 390, 412, 457 ]</div></td></tr><tr><td>Ti</td><td><div class=\"dni-plaintext\">[ 17, 21, 23, 41, 57, 87, 89, 145, 337, 396 ]</div></td></tr></tbody></table>"
      ]
     },
     "metadata": {},
     "output_type": "display_data"
    }
   ],
   "source": [
    "var matches = GetMatches(initial);\n",
    "\n",
    "matches.Display();"
   ]
  },
  {
   "cell_type": "code",
   "execution_count": null,
   "metadata": {
    "dotnet_interactive": {
     "language": "csharp"
    }
   },
   "outputs": [
    {
     "data": {
      "text/html": [
       "<table><thead><tr><th><i>key</i></th><th>value</th></tr></thead><tbody><tr><td>ThF</td><td><div class=\"dni-plaintext\">[ 381 ]</div></td></tr><tr><td>BCa</td><td><div class=\"dni-plaintext\">[ 30, 163, 245, 269, 294, 339, 376, 417 ]</div></td></tr><tr><td>TiB</td><td><div class=\"dni-plaintext\">[ 17, 23, 41, 89, 337 ]</div></td></tr><tr><td>CaCa</td><td><div class=\"dni-plaintext\">[ 95, 107, 164, 187, 207, 209, 211, 219, 229, 246, 248, 250, 295, 348, 350, 352, 360, 428, 435 ]</div></td></tr><tr><td>PB</td><td><div class=\"dni-plaintext\">[ 29, 44, 142, 162, 195, 237, 260, 266, 268, 314, 416, 461 ]</div></td></tr><tr><td>PRnFAr</td><td><div class=\"dni-plaintext\">[ 342 ]</div></td></tr><tr><td>SiRnFYFAr</td><td><div class=\"dni-plaintext\">[ 272, 299, 364, 444 ]</div></td></tr><tr><td>SiRnMgAr</td><td><div class=\"dni-plaintext\">[ 111 ]</div></td></tr><tr><td>SiTh</td><td><div class=\"dni-plaintext\">[ 33, 65, 103, 132, 138, 174, 215, 254, 262, 281, 308, 316, 379, 388, 410, 455 ]</div></td></tr><tr><td>CaF</td><td><div class=\"dni-plaintext\">[ 127 ]</div></td></tr><tr><td>PMg</td><td><div class=\"dni-plaintext\">[ 46, 326, 400, 439, 463 ]</div></td></tr><tr><td>SiAl</td><td><div class=\"dni-plaintext\">[ 156, 223, 239 ]</div></td></tr><tr><td>BF</td><td><div class=\"dni-plaintext\">[ 25, 91, 424 ]</div></td></tr><tr><td>TiMg</td><td><div class=\"dni-plaintext\">[ 57, 145 ]</div></td></tr><tr><td>CaP</td><td><div class=\"dni-plaintext\">[ 151, 258, 312, 340, 414, 430, 437 ]</div></td></tr><tr><td>PTi</td><td><div class=\"dni-plaintext\">[ 20, 144, 336 ]</div></td></tr><tr><td>SiRnFAr</td><td><div class=\"dni-plaintext\">[ 10, 71, 80, 197, 287 ]</div></td></tr><tr><td>CaSi</td><td><div class=\"dni-plaintext\">[ 3, 31, 51, 63, 69, 97, 109, 136, 166, 189, 213, 221, 231, 252, 270, 285, 297, 320, 354, 362 ... (4 more) ]</div></td></tr><tr><td>ThCa</td><td><div class=\"dni-plaintext\">[ 67, 105, 134, 176, 217, 256, 283, 310, 318, 412 ]</div></td></tr><tr><td>BP</td><td><div class=\"dni-plaintext\">[ 19, 43, 45, 143, 267, 462 ]</div></td></tr><tr><td colspan=\"2\"><i>(1 more)</i></td></tr></tbody></table>"
      ]
     },
     "metadata": {},
     "output_type": "display_data"
    }
   ],
   "source": [
    "ReverseGetMatches(initial).Display();"
   ]
  },
  {
   "cell_type": "code",
   "execution_count": null,
   "metadata": {
    "dotnet_interactive": {
     "language": "csharp"
    }
   },
   "outputs": [
    {
     "data": {
      "text/html": [
       "<div class=\"dni-plaintext\">203</div>"
      ]
     },
     "metadata": {},
     "output_type": "display_data"
    }
   ],
   "source": [
    "matches.Values.Select(c => c.Count()).Sum().Display();\n"
   ]
  },
  {
   "cell_type": "code",
   "execution_count": null,
   "metadata": {
    "dotnet_interactive": {
     "language": "csharp"
    }
   },
   "outputs": [],
   "source": [
    "var r = new Dictionary<int, int>();\n",
    "foreach(var match in matches)\n",
    "{\n",
    "    var length = match.Key.Length;\n",
    "    var total = initial.Length;\n",
    "    foreach(var k in d[match.Key])\n",
    "    {\n",
    "        var newLength = k.Length;\n",
    "        foreach(var v in match.Value)\n",
    "        {\n",
    "            r[(initial.Substring(0,v) + k + initial.Substring(v + length)).GetHashCode()] = 1;\n",
    "        }\n",
    "    }\n",
    "}"
   ]
  },
  {
   "cell_type": "code",
   "execution_count": null,
   "metadata": {
    "dotnet_interactive": {
     "language": "csharp"
    }
   },
   "outputs": [
    {
     "data": {
      "text/html": [
       "<div class=\"dni-plaintext\">509</div>"
      ]
     },
     "metadata": {},
     "output_type": "display_data"
    }
   ],
   "source": [
    "r.Count"
   ]
  },
  {
   "cell_type": "code",
   "execution_count": null,
   "metadata": {
    "dotnet_interactive": {
     "language": "csharp"
    }
   },
   "outputs": [],
   "source": [
    "// var r = new Dictionary<int, int>();\n",
    "\n",
    "// var target = \"CRnCaSiRnBSiRnFArTiBPTiTiBFArPBCaSiThSiRnTiBPBPMgArCaSiRnTiMgArCaSiThCaSiRnFArRnSiRnFArTiTiBFArCaCaSiRnSiThCaCaSiRnMgArFYSiRnFYCaFArSiThCaSiThPBPTiMgArCaPRnSiAlArPBCaCaSiRnFYSiThCaRnFArArCaCaSiRnPBSiRnFArMgYCaCaCaCaSiThCaCaSiAlArCaCaSiRnPBSiAlArBCaCaCaCaSiThCaPBSiThPBPBCaSiRnFYFArSiThCaSiRnFArBCaCaSiRnFYFArSiThCaPBSiThCaSiRnPMgArRnFArPTiBCaPRnFArCaCaCaCaSiRnCaCaSiRnFYFArFArBCaSiThFArThSiThSiRnTiRnPMgArFArCaSiThCaPBCaSiRnBFArCaCaPRnCaCaPMgArSiRnFYFArCaSiThRnPBPMgAr\".GetHashCode();\n",
    "// var queue = new PriorityQueue<string, int>();\n",
    "// queue.Enqueue(\"e\",0);\n",
    "// string s;\n",
    "\n",
    "// var c = 0;\n",
    "\n",
    "// var b = new StringBuilder();\n",
    "\n",
    "// while(queue.TryDequeue(out s, out int i))\n",
    "// {\n",
    "//     c++;\n",
    "//     var matches = GetMatches(s);\n",
    "//     foreach(var match in matches)\n",
    "//     {\n",
    "//         var length = match.Key.Length;\n",
    "//         var total = s.Length;\n",
    "//         foreach(var k in d[match.Key])\n",
    "//         {\n",
    "//             var newLength = k.Length;\n",
    "//             foreach(var v in match.Value)\n",
    "//             {\n",
    "//                 b.Clear();\n",
    "//                 b.Append(s,0,v);\n",
    "//                 b.Append(k);\n",
    "//                 b.Append(s.Substring(v + length));\n",
    "//                 var next = b.ToString();\n",
    "//                 var hash = next.GetHashCode();\n",
    "//                 if(hash == target)\n",
    "//                 {\n",
    "//                     Console.WriteLine($\"Found match at {i}\");\n",
    "//                 }\n",
    "//                 if(!r.ContainsKey(hash))\n",
    "//                 {\n",
    "//                     queue.Enqueue(next, i + 1);\n",
    "//                     r[hash] = 1;\n",
    "//                 }\n",
    "//             }\n",
    "//         }\n",
    "//     }\n",
    "\n",
    "//     if(c % 1000000 == 0)\n",
    "//     {\n",
    "//         s.Display();\n",
    "//         break;\n",
    "//     }\n",
    "// }"
   ]
  },
  {
   "cell_type": "code",
   "execution_count": null,
   "metadata": {
    "dotnet_interactive": {
     "language": "csharp"
    }
   },
   "outputs": [],
   "source": [
    "public class HoState : State\n",
    "{    \n",
    "    public bool IsGoal => Id == \"e\";\n",
    "    public int Operations {get; init;}\n",
    "\n",
    "    public string Id {get; init;}\n",
    "\n",
    "    static StringBuilder b = new StringBuilder();\n",
    "\n",
    "    public IEnumerable<(State state, long cost)> Neighbours()\n",
    "    {\n",
    "        var matches = ReverseGetMatches(Id);\n",
    "        var total = Id.Length;\n",
    "        foreach(var match in matches)\n",
    "        {\n",
    "            var length = match.Key.Length;            \n",
    "            var k = rev[match.Key];\n",
    "            \n",
    "            var newLength = k.Length;\n",
    "            foreach(var v in match.Value)\n",
    "            {\n",
    "                b.Clear();\n",
    "                b.Append(Id,0,v);\n",
    "                b.Append(k);\n",
    "                b.Append(Id.Substring(v + length));\n",
    "                var next = b.ToString();\n",
    "                \n",
    "                yield return (new HoState{Id = next, Operations = Operations + 1}, k.Length -length);\n",
    "            }\n",
    "        }\n",
    "    }\n",
    "\n",
    "    public Dictionary<string, List<int>> ReverseGetMatches(string input)\n",
    "    {\n",
    "        var matches = new Dictionary<string, List<int>>();\n",
    "\n",
    "        foreach(var key in rev.Keys)\n",
    "        {        \n",
    "            var index = -1;\n",
    "            while(true)\n",
    "            {\n",
    "                index = input.IndexOf(key, index + 1);\n",
    "                \n",
    "                if(index == -1)\n",
    "                {\n",
    "                    break;\n",
    "                }\n",
    "\n",
    "                if(!matches.ContainsKey(key))\n",
    "                {\n",
    "                    matches.Add(key, new List<int>());\n",
    "                }\n",
    "\n",
    "                matches[key].Add(index);\n",
    "            }\n",
    "        }\n",
    "        return matches;\n",
    "    }\n",
    "}"
   ]
  },
  {
   "cell_type": "code",
   "execution_count": null,
   "metadata": {
    "dotnet_interactive": {
     "language": "csharp"
    }
   },
   "outputs": [
    {
     "name": "stdout",
     "output_type": "stream",
     "text": [
      "Visited 100000 nodes. 10195 left, Current: CRnCaSiRnFYCaRnFArArPBPBPBPMgArThCaSiRnBFArCaRnPMgAr, Min: 23\r\n",
      "Visited 200000 nodes. 10385 left, Current: CRnSiRnFYCaRnFArArCaPBPBPBPMgArThSiRnMgArSiRnMgArCaRnFAr, Min: 23\r\n",
      "Visited 300000 nodes. 10274 left, Current: CRnCaCaSiRnFYCaRnFArArPBCaPBPBCaFArThCaSiRnMgArCaRnFAr, Min: 23\r\n",
      "Visited 400000 nodes. 10216 left, Current: CRnSiRnMgArSiRnMgArSiRnFYCaRnFArArCaCaCaPBPMgArThSiRnBFArPBCaRnPMgAr, Min: 23\r\n",
      "Visited 500000 nodes. 11303 left, Current: CRnSiRnBFArCaSiRnFYCaRnFArArCaPBPBCaPMgArThSiRnMgArPBSiRnBFArCaRnPBFAr, Min: 23\r\n",
      "Visited 600000 nodes. 10714 left, Current: CRnSiRnBFArSiRnFYCaRnFArArPBPTiTiBPTiMgArThPBRnPBFAr, Min: 23\r\n",
      "Visited 700000 nodes. 10517 left, Current: CRnSiRnMgArSiRnBFArSiRnFYCaRnFArArCaPBCaPTiTiBFArThCaRnPMgAr, Min: 23\r\n",
      "Visited 800000 nodes. 10542 left, Current: CRnSiRnBFArSiRnMgArSiRnFYCaRnFArArPBPBPBPBCaCaFArThCaPBRnPMgAr, Min: 23\r\n",
      "Visited 900000 nodes. 11152 left, Current: CRnCaSiRnMgArSiRnFYCaRnFArArPBPBPBPBPTiMgArThCaCaSiRnMgArCaRnCaFAr, Min: 23\r\n",
      "Visited 1000000 nodes. 10707 left, Current: CRnSiRnFYCaRnFArArPBCaPBCaPTiMgArThSiRnBFArSiRnMgArCaRnFAr, Min: 23\r\n",
      "Visited 1100000 nodes. 11699 left, Current: CRnSiRnBFArSiRnFYCaRnFArArPBPTiTiBCaCaFArThSiRnBFArCaSiRnBFArCaRnCaFAr, Min: 23\r\n",
      "Visited 1200000 nodes. 11250 left, Current: CRnSiRnBFArCaSiRnFYCaRnFArArPBPTiTiTiBCaFArThSiRnMgArSiRnBFArCaRnCaFAr, Min: 23\r\n",
      "Visited 1300000 nodes. 11113 left, Current: CRnSiRnMgArSiRnMgArSiRnFYCaRnFArArPBPBPBCaCaCaFArThSiRnBFArCaCaCaRnPBFAr, Min: 23\r\n",
      "Visited 1400000 nodes. 11097 left, Current: CRnSiRnMgArSiRnFYCaRnFArArCaCaPBPTiBCaPMgArAl, Min: 23\r\n",
      "Visited 1500000 nodes. 10984 left, Current: CRnSiRnBFArSiRnBFArSiRnFYCaRnFArArCaPBPBCaPBPBCaFArThCaRnFAr, Min: 23\r\n",
      "Visited 1600000 nodes. 10955 left, Current: CRnCaSiRnFYCaRnFArArCaPBPBCaPTiBPBFArThCaCaRnCaFAr, Min: 23\r\n",
      "Visited 1700000 nodes. 12278 left, Current: CRnCaSiRnFYCaRnFArArPBPBPBCaPTiBPBFArThRnPBFAr, Min: 23\r\n",
      "Visited 1800000 nodes. 12705 left, Current: CRnSiRnBFArSiRnBFArSiRnFYCaRnFArArPBPBPBPBCaPBPBFArThSiRnMgArCaRnPBFAr, Min: 23\r\n",
      "Visited 1900000 nodes. 13844 left, Current: CRnSiRnMgArSiRnMgArSiRnFYCaRnFArArPBCaPBPTiBPBPBFArThSiRnMgArCaCaRnPMgAr, Min: 23\r\n",
      "Visited 2000000 nodes. 11964 left, Current: CRnSiRnMgArSiRnBFArSiRnFYCaRnFArArPBPBPBCaCaPTiMgArThCaSiRnBFArCaRnPBFAr, Min: 23\r\n",
      "Visited 2100000 nodes. 11136 left, Current: CRnSiRnBFArSiRnBFArSiRnFYCaRnFArArPTiBPBPTiBCaPMgArThSiRnBFArSiRnBFArCaRnPBFAr, Min: 23\r\n",
      "Visited 2200000 nodes. 11352 left, Current: CRnSiRnBFArSiRnFYCaRnFArArPBCaCaPBPTiTiBFArThCaPBRnPBFAr, Min: 23\r\n",
      "Visited 2300000 nodes. 12984 left, Current: CRnSiRnBFArSiRnMgArSiRnFYCaRnFArArPBCaCaPBPBPBPMgArThSiRnBFArPBRnPMgAr, Min: 23\r\n",
      "Visited 2400000 nodes. 11157 left, Current: CRnCaSiRnFYCaRnFArArCaPTiBPBCaPBCaFArThPBCaRnPMgAr, Min: 23\r\n",
      "Visited 2500000 nodes. 12060 left, Current: CRnSiRnBFArSiRnMgArSiRnFYCaRnFArArPBPBPBPTiBCaPMgArThSiRnBFArPBCaRnPMgAr, Min: 23\r\n",
      "Visited 2600000 nodes. 10580 left, Current: CRnCaCaSiRnFYCaRnFArArCaPTiBPTiBPBPBFArThCaPBCaCaRnCaFAr, Min: 23\r\n",
      "Visited 2700000 nodes. 11426 left, Current: CRnSiRnBFArSiRnMgArSiRnFYCaRnFArArPBCaPBPBPTiTiBFArThSiRnMgArPBCaCaRnFAr, Min: 23\r\n",
      "Visited 2800000 nodes. 11773 left, Current: CRnCaSiRnMgArSiRnFYCaRnFArArPBPBPBPBPBCaPBFArThSiRnBFArCaCaCaRnPMgAr, Min: 23\r\n",
      "Visited 2900000 nodes. 11272 left, Current: CRnSiRnMgArSiRnFYCaRnFArArPBCaPTiBCaPBPBFArThPBSiRnMgArCaRnFAr, Min: 23\r\n",
      "Visited 3000000 nodes. 12074 left, Current: CRnSiRnBFArSiRnMgArSiRnFYCaRnFArArPTiBCaCaPTiBCaFArThSiRnBFArPBSiRnBFArCaRnFAr, Min: 23\r\n",
      "Visited 3100000 nodes. 12103 left, Current: CRnCaSiRnFYCaRnFArArCaCaPTiBCaCaPMgArThSiRnBFArCaSiRnMgArCaRnCaFAr, Min: 23\r\n",
      "Visited 3200000 nodes. 11475 left, Current: CRnSiRnBFArCaSiRnFYCaRnFArArCaPTiBCaPBCaPMgArThPBSiRnMgArCaRnPMgAr, Min: 23\r\n",
      "Visited 3300000 nodes. 12352 left, Current: CRnSiRnBFArSiRnBFArSiRnFYCaRnFArArPTiTiBPBPBPBCaFArThSiRnBFArPBSiRnBFArCaRnPBFAr, Min: 23\r\n",
      "Visited 3400000 nodes. 13182 left, Current: CRnCaCaSiRnFYCaRnFArArPTiBPTiTiBPBPBFArThPBSiRnBFArCaRnPBFAr, Min: 23\r\n",
      "Visited 3500000 nodes. 18850 left, Current: CRnSiRnMgArSiRnMgArSiRnFYCaRnFArArPBPTiBCaPTiTiMgArThSiRnMgArCaSiRnBFArCaRnCaFAr, Min: 23\r\n",
      "Visited 3600000 nodes. 11422 left, Current: CRnSiRnFYCaRnFArArCaPTiBCaPBCaCaPBFArThCaCaRnFAr, Min: 23\r\n",
      "Visited 3700000 nodes. 11810 left, Current: CRnSiRnMgArSiRnFYCaRnFArArCaPTiBCaPTiBPBPBFArThCaCaCaRnFAr, Min: 23\r\n",
      "Visited 3800000 nodes. 11032 left, Current: CRnCaSiRnMgArSiRnFYCaRnFArArCaCaPBPBPBPTiTiBFArThCaRnFAr, Min: 23\r\n",
      "Visited 3900000 nodes. 11850 left, Current: CRnSiRnMgArSiRnBFArSiRnFYCaRnFArArPTiBCaPBCaPBPTiMgArThCaRnFAr, Min: 23\r\n",
      "Visited 4000000 nodes. 11000 left, Current: CRnSiRnMgArSiRnBFArSiRnFYCaRnFArArPBPBPTiBPBPBPTiBFArThSiRnMgArCaCaRnFAr, Min: 23\r\n",
      "Visited 4100000 nodes. 11266 left, Current: CRnSiRnFYCaRnFArArCaPBPTiTiBCaPTiBFArThPBSiRnBFArCaRnFAr, Min: 23\r\n",
      "Visited 4200000 nodes. 12832 left, Current: CRnSiRnBFArSiRnFYCaRnFArArCaCaPBPBCaPTiBPBFArThSiRnMgArPBSiRnMgArCaRnFAr, Min: 23\r\n",
      "Visited 4300000 nodes. 11100 left, Current: CRnSiRnMgArCaSiRnFYCaRnFArArCaCaCaPTiTiTiBPMgArThSiRnMgArPBRnFAr, Min: 23\r\n",
      "Visited 4400000 nodes. 11717 left, Current: CRnSiRnBFArCaSiRnFYCaRnFArArPBCaPBPTiBPBPTiBFArThPBCaCaRnFAr, Min: 23\r\n",
      "Visited 4500000 nodes. 11273 left, Current: CRnCaCaSiRnFYCaRnFArArPTiTiTiTiBPBPTiMgArThCaPBCaRnFAr, Min: 23\r\n",
      "Visited 4600000 nodes. 11700 left, Current: CRnSiRnMgArSiRnBFArSiRnFYCaRnFArArPBPBCaPTiBCaCaCaFArThCaPBCaCaRnFAr, Min: 23\r\n",
      "Visited 4700000 nodes. 12117 left, Current: CRnSiRnBFArSiRnFYCaRnFArArPBPBPBPBPBCaCaPBFArThSiRnMgArPBCaCaRnFAr, Min: 23\r\n",
      "Visited 4800000 nodes. 11538 left, Current: CRnSiRnMgArCaSiRnFYCaRnFArArPBCaPBPTiBPBPTiBFArThSiRnMgArPBCaCaRnFAr, Min: 23\r\n",
      "Visited 4900000 nodes. 13064 left, Current: CRnSiRnBFArCaSiRnFYCaRnFArArPBPBCaCaPBCaPTiMgArThSiRnBFArCaSiRnBFArCaRnFAr, Min: 23\r\n",
      "Visited 5000000 nodes. 17881 left, Current: CRnSiRnBFArSiRnMgArSiRnFYCaRnFArArCaCaPBPBPTiTiBCaFArThSiRnBFArPBSiRnBFArCaRnFAr, Min: 23\r\n",
      "Visited 5100000 nodes. 12310 left, Current: CRnSiRnFYCaRnFArArPTiBPBPBPBPBPTiMgArThCaCaRnPBFAr, Min: 23\r\n",
      "Visited 5200000 nodes. 13380 left, Current: CRnCaSiRnFYCaRnFArArPBCaPTiBCaCaPBCaFArThSiRnMgArCaRnCaFAr, Min: 23\r\n",
      "Visited 5300000 nodes. 15838 left, Current: CRnSiRnMgArSiRnFYCaRnFArArCaPTiBPTiBCaPBCaFArThSiRnMgArPBRnCaFAr, Min: 23\r\n",
      "Visited 5400000 nodes. 12556 left, Current: CRnCaCaSiRnFYCaRnFArArPBCaPBPBPBCaPBCaFArThPBRnPMgAr, Min: 23\r\n",
      "Visited 5500000 nodes. 12987 left, Current: CRnCaSiRnMgArSiRnFYCaRnFArArPTiTiTiTiBCaPTiBFArThCaPBRnPMgAr, Min: 23\r\n",
      "Visited 5600000 nodes. 12846 left, Current: CRnSiRnBFArCaSiRnFYCaRnFArArCaPBPBCaCaCaCaCaFArThSiRnMgArCaRnCaFAr, Min: 23\r\n",
      "Visited 5700000 nodes. 12354 left, Current: CRnSiRnBFArSiRnBFArSiRnFYCaRnFArArCaCaPBCaPTiTiBPMgArThCaCaRnCaFAr, Min: 23\r\n",
      "Visited 5800000 nodes. 14632 left, Current: CRnSiRnBFArSiRnMgArSiRnFYCaRnFArArCaCaCaPBPBCaCaCaFArThCaCaRnPBFAr, Min: 23\r\n",
      "Visited 5900000 nodes. 20883 left, Current: CRnSiRnMgArSiRnBFArSiRnFYCaRnFArArPTiTiBPTiBPBPTiBFArThSiRnBFArPBRnPMgAr, Min: 23\r\n",
      "Visited 6000000 nodes. 12060 left, Current: CRnSiRnFYCaRnFArArPTiTiBCaPTiBCaPMgArThPBCaRnCaFAr, Min: 23\r\n",
      "Visited 6100000 nodes. 11732 left, Current: CRnCaSiRnFYCaRnFArArPBPBCaCaCaCaCaCaFArThSiRnBFArPBCaRnPMgAr, Min: 23\r\n",
      "Visited 6200000 nodes. 11872 left, Current: CRnSiRnBFArCaSiRnFYCaRnFArArCaCaPTiTiTiTiTiBFArThSiRnMgArCaCaRnPBFAr, Min: 23\r\n",
      "Visited 6300000 nodes. 13649 left, Current: CRnCaSiRnFYCaRnFArArPBPBPTiBCaCaPBPMgArThSiRnBFArPBCaRnCaFAr, Min: 23\r\n",
      "Visited 6400000 nodes. 14685 left, Current: CRnSiRnMgArCaSiRnFYCaRnFArArCaCaPTiTiTiBCaCaFArThCaPBCaRnCaFAr, Min: 23\r\n",
      "Visited 6500000 nodes. 20879 left, Current: CRnSiRnBFArSiRnBFArSiRnFYCaRnFArArPTiBPBPBCaCaPTiMgArThCaPBCaRnPMgAr, Min: 23\r\n",
      "Visited 6600000 nodes. 17517 left, Current: CRnSiRnMgArSiRnBFArSiRnFYCaRnFArArPTiBPTiBCaPBCaPMgArThSiRnMgArPBCaRnCaFAr, Min: 23\r\n",
      "Visited 6700000 nodes. 11698 left, Current: CRnSiRnFYCaRnFArArPTiTiBPBPBCaCaPMgArThCaPBCaCaRnPMgAr, Min: 23\r\n",
      "Visited 6800000 nodes. 12475 left, Current: CRnSiRnMgArSiRnFYCaRnFArArCaPBPBPBPTiBCaCaFArThPBCaCaRnPMgAr, Min: 23\r\n",
      "Visited 6900000 nodes. 11695 left, Current: CRnCaCaSiRnFYCaRnFArArPBPBCaCaCaCaPBCaFArThPBCaCaRnPMgAr, Min: 23\r\n",
      "Visited 7000000 nodes. 16612 left, Current: CRnCaSiRnMgArSiRnFYCaRnFArArCaCaCaPBPTiTiBCaFArThSiRnMgArCaCaCaRnPMgAr, Min: 23\r\n",
      "Visited 7100000 nodes. 12269 left, Current: CRnSiRnBFArSiRnBFArSiRnFYCaRnFArArPTiBCaPTiTiTiTiMgArThCaCaCaCaRnPBFAr, Min: 23\r\n",
      "Visited 7200000 nodes. 12910 left, Current: CRnSiRnMgArCaSiRnFYCaRnFArArPBPBPTiTiBPBPBCaFArThPBCaCaRnCaFAr, Min: 23\r\n",
      "Visited 7300000 nodes. 17401 left, Current: CRnSiRnMgArSiRnMgArSiRnFYCaRnFArArPBPBPBCaPTiTiBPBFArThSiRnMgArPBCaCaRnPMgAr, Min: 23\r\n",
      "Visited 7400000 nodes. 11572 left, Current: CRnSiRnFYCaRnFArArCaPTiTiBPBPBCaCaFArThSiRnBFArSiRnBFArCaRnCaFAr, Min: 23\r\n",
      "Visited 7500000 nodes. 12637 left, Current: CRnSiRnFYCaRnFArArCaPBPBPTiBCaPBPMgArThCaCaSiRnBFArCaRnPMgAr, Min: 23\r\n",
      "Visited 7600000 nodes. 14224 left, Current: CRnSiRnMgArSiRnFYCaRnFArArCaPTiTiBPBPBPTiMgArThSiRnMgArCaSiRnMgArCaRnCaFAr, Min: 23\r\n",
      "Visited 7700000 nodes. 11757 left, Current: CRnCaCaSiRnFYCaRnFArArCaPTiBPTiTiBCaCaFArThCaCaSiRnMgArCaRnPBFAr, Min: 23\r\n",
      "Visited 7800000 nodes. 10330 left, Current: CRnCaSiRnMgArSiRnFYCaRnFArArCaPTiTiBPTiBPBPMgArThSiRnBFArPBSiRnBFArCaRnPBFAr, Min: 23\r\n",
      "Visited 7900000 nodes. 14432 left, Current: CRnSiRnBFArSiRnBFArSiRnFYCaRnFArArCaCaPTiBCaPBPBPBFArThCaPBSiRnBFArCaRnPMgAr, Min: 23\r\n",
      "Visited 8000000 nodes. 13142 left, Current: CRnSiRnBFArSiRnMgArSiRnFYCaRnFArArCaPBPBCaPTiBCaPMgArThSiRnBFArSiRnMgArCaRnPBFAr, Min: 23\r\n",
      "Visited 8100000 nodes. 13041 left, Current: CRnSiRnMgArSiRnFYCaRnFArArPBPBPTiBPTiBPTiMgArThCaSiRnBFArCaRnPBFAr, Min: 23\r\n",
      "Visited 8200000 nodes. 14379 left, Current: CRnSiRnMgArSiRnFYCaRnFArArPBPTiTiBCaPBPBCaFArThCaCaSiRnMgArCaRnPBFAr, Min: 23\r\n",
      "Visited 8300000 nodes. 15168 left, Current: CRnSiRnFYCaRnFArArPTiTiTiBPBPBCaCaFArThSiRnBFArCaSiRnBFArCaRnPBFAr, Min: 23\r\n",
      "Visited 8400000 nodes. 17008 left, Current: CRnSiRnMgArSiRnFYCaRnFArArPTiBPBCaCaPBPBPMgArThSiRnMgArCaSiRnBFArCaRnPMgAr, Min: 23\r\n",
      "Visited 8500000 nodes. 13043 left, Current: CRnSiRnBFArCaSiRnFYCaRnFArArPTiBPTiTiBPTiBPBFArThPBSiRnBFArCaRnPMgAr, Min: 23\r\n",
      "Visited 8600000 nodes. 15710 left, Current: CRnSiRnBFArCaSiRnFYCaRnFArArPTiTiBPTiTiTiTiMgArThSiRnMgArPBSiRnMgArCaRnPMgAr, Min: 23\r\n",
      "Visited 8700000 nodes. 17546 left, Current: CRnSiRnBFArCaSiRnFYCaRnFArArPBCaCaPBPBCaCaPBFArThSiRnBFArPBSiRnMgArCaRnPMgAr, Min: 23\r\n",
      "Visited 8800000 nodes. 13576 left, Current: CRnSiRnBFArSiRnMgArSiRnFYCaRnFArArPBCaPTiTiBPBCaPBFArThCaSiRnMgArCaRnCaFAr, Min: 23\r\n",
      "Visited 8900000 nodes. 16981 left, Current: CRnSiRnBFArSiRnMgArSiRnFYCaRnFArArPTiBPTiBPTiBPBCaFArThSiRnMgArSiRnBFArCaRnPBFAr, Min: 23\r\n",
      "Visited 9000000 nodes. 13942 left, Current: CRnSiRnBFArSiRnBFArSiRnFYCaRnFArArPBPTiBPBPBPBPBPMgArThCaPBSiRnMgArCaRnPMgAr, Min: 23\r\n",
      "Visited 9100000 nodes. 20894 left, Current: CRnCaSiRnMgArSiRnFYCaRnFArArPBCaPBPTiTiBCaCaFArThPBSiRnBFArCaRnPMgAr, Min: 23\r\n",
      "Visited 9200000 nodes. 21485 left, Current: CRnSiRnMgArSiRnBFArSiRnFYCaRnFArArCaPBCaCaPTiTiTiBFArThSiRnBFArCaSiRnMgArCaRnCaFAr, Min: 23\r\n",
      "Visited 9300000 nodes. 20354 left, Current: CRnSiRnBFArSiRnBFArSiRnFYCaRnFArArCaCaCaPTiBCaPTiMgArThSiRnMgArCaSiRnBFArCaRnPMgAr, Min: 23\r\n",
      "Visited 9400000 nodes. 10721 left, Current: CRnSiRnBFArSiRnBFArSiRnFYCaRnFArArCaPBPBPTiTiBPBPBFArThSiRnMgArCaSiRnBFArCaRnPMgAr, Min: 23\r\n",
      "Visited 9500000 nodes. 10232 left, Current: CRnSiRnMgArSiRnBFArSiRnFYCaRnFArArSiRnFArBPBCaPMgArThCaPBSiRnMgArCaRnFAr, Min: 23\r\n",
      "Visited 9600000 nodes. 10485 left, Current: CRnSiRnFYCaRnFArArSiRnFArBCaPBCaPMgArThCaCaSiRnBFArCaRnPMgAr, Min: 23\r\n",
      "Visited 9700000 nodes. 10411 left, Current: CRnCaSiRnMgArSiRnFYCaRnFArArSiRnFArTiBCaCaPBFArThSiRnMgArSiRnMgArCaRnCaFAr, Min: 23\r\n",
      "Visited 9800000 nodes. 10496 left, Current: CRnSiRnMgArSiRnFYCaRnFArArSiRnFArTiBPBPTiTiBFArThSiRnMgArPBRnFAr, Min: 23\r\n",
      "Visited 9900000 nodes. 10707 left, Current: CRnCaSiRnBFArSiRnFYCaRnFArArSiRnFArBPTiBCaPBPMgArThCaRnPMgAr, Min: 23\r\n",
      "Visited 10000000 nodes. 10536 left, Current: CRnSiRnBFArSiRnFYCaRnFArArSiRnFArBCaCaPBCaPBFArThCaPBCaCaRnPBFAr, Min: 23\r\n",
      "Visited 10100000 nodes. 11129 left, Current: CRnSiRnBFArCaSiRnFYCaRnFArArSiRnFArBPBCaPBPTiMgArThSiRnBFArSiRnMgArCaRnCaFAr, Min: 23\r\n",
      "Visited 10200000 nodes. 11326 left, Current: CRnSiRnBFArSiRnMgArSiRnFYCaRnFArArSiRnFArTiBPBPBPTiMgArThSiRnBFArPBRnCaFAr, Min: 23\r\n",
      "Visited 10300000 nodes. 10267 left, Current: CRnSiRnMgArSiRnMgArSiRnFYCaRnFArArSiRnFArBCaPBCaCaPBCaFArThPBRnFAr, Min: 23\r\n",
      "Visited 10400000 nodes. 10672 left, Current: CRnSiRnFYCaRnFArArSiRnFArBCaCaPBCaPTiBFArThSiRnMgArSiRnMgArCaRnCaFAr, Min: 23\r\n",
      "Visited 10500000 nodes. 10775 left, Current: CRnSiRnMgArCaSiRnFYCaRnFArArSiRnFArBCaCaCaPBPBCaFArThSiRnMgArPBSiRnMgArCaRnCaFAr, Min: 23\r\n",
      "Visited 10600000 nodes. 11331 left, Current: CRnSiRnMgArSiRnFYCaRnFArArSiRnFArBPTiBPTiTiTiMgArThCaRnPBFAr, Min: 23\r\n",
      "Visited 10700000 nodes. 11217 left, Current: CRnCaCaSiRnFYCaRnFArArSiRnFArBPBCaPTiTiTiMgArThPBCaRnFAr, Min: 23\r\n",
      "Visited 10800000 nodes. 12372 left, Current: CRnSiRnBFArSiRnFYCaRnFArArSiRnFArBPTiTiBCaPTiBFArThPBSiRnMgArCaRnPMgAr, Min: 23\r\n",
      "Visited 10900000 nodes. 11357 left, Current: CRnCaCaSiRnFYCaRnFArArSiRnFArBPBPBPBPBPBCaFArThCaPBSiRnBFArCaRnFAr, Min: 23\r\n",
      "Visited 11000000 nodes. 13362 left, Current: CRnCaSiRnFYCaRnFArArSiRnFArTiBPBPBCaCaPBFArThCaPBRnPBFAr, Min: 23\r\n",
      "Visited 11100000 nodes. 12325 left, Current: CRnSiRnMgArSiRnFYCaRnFArArSiRnFArTiBCaPTiBCaPBFArThSiRnMgArSiRnBFArCaRnCaFAr, Min: 23\r\n",
      "Visited 11200000 nodes. 12837 left, Current: CRnCaSiRnFYCaRnFArArSiRnFArTiBCaPTiBPBPMgArThSiRnMgArPBSiRnBFArCaRnPMgAr, Min: 23\r\n",
      "Visited 11300000 nodes. 12711 left, Current: CRnSiRnBFArCaSiRnFYCaRnFArArSiRnFArTiBPBPTiBCaPBFArThSiRnBFArCaCaCaRnCaFAr, Min: 23\r\n",
      "Visited 11400000 nodes. 13213 left, Current: CRnCaSiRnBFArSiRnFYCaRnFArArSiRnFArBPBPBPBPBPBPBFArThSiRnBFArSiRnBFArCaRnCaFAr, Min: 23\r\n",
      "Visited 11500000 nodes. 12458 left, Current: CRnCaSiRnMgArSiRnFYCaRnFArArSiRnFArBPBPBPBPBCaPBFArThSiRnBFArCaCaCaRnPMgAr, Min: 23\r\n",
      "Visited 11600000 nodes. 13413 left, Current: CRnSiRnMgArSiRnBFArSiRnFYCaRnFArArSiRnFArBPBCaPBCaCaCaFArThSiRnBFArPBSiRnBFArCaRnPBFAr, Min: 23\r\n",
      "Visited 11700000 nodes. 10782 left, Current: CRnSiRnBFArSiRnFYCaRnFArArSiRnFArBCaPBPBPBPBCaPMgArThSiRnBFArCaCaRnPBFAr, Min: 23\r\n",
      "Visited 11800000 nodes. 12282 left, Current: CRnSiRnBFArSiRnFYCaRnFArArSiRnFArTiTiBPBCaPBCaPMgArThPBCaCaRnPBFAr, Min: 23\r\n",
      "Visited 11900000 nodes. 11200 left, Current: CRnSiRnFYCaRnFArArSiRnFArBPBCaCaCaPBPTiMgArThSiRnBFArPBCaRnFAr, Min: 23\r\n",
      "Visited 12000000 nodes. 13348 left, Current: CRnSiRnBFArSiRnFYCaRnFArArSiRnFArTiTiBPBPTiTiTiMgArThSiRnBFArPBSiRnMgArCaRnFAr, Min: 23\r\n",
      "Visited 12100000 nodes. 11329 left, Current: CRnSiRnBFArCaSiRnFYCaRnFArArSiRnFArBPBCaCaCaPTiTiMgArThCaCaCaRnCaFAr, Min: 23\r\n",
      "Visited 12200000 nodes. 11613 left, Current: CRnSiRnBFArCaSiRnFYCaRnFArArSiRnFArTiBPTiBPTiTiBPMgArThCaPBCaRnCaFAr, Min: 23\r\n",
      "Visited 12300000 nodes. 12409 left, Current: CRnCaCaSiRnFYCaRnFArArSiRnFArBPBPBCaPBPBPTiMgArThSiRnMgArPBSiRnBFArCaRnPMgAr, Min: 23\r\n",
      "Visited 12400000 nodes. 11138 left, Current: CRnSiRnMgArSiRnMgArSiRnFYCaRnFArArSiRnFArBCaPBPBPTiTiBPMgArThCaSiRnBFArCaRnPBFAr, Min: 23\r\n",
      "Visited 12500000 nodes. 13056 left, Current: CRnSiRnBFArSiRnBFArSiRnFYCaRnFArArSiRnFArBCaCaCaCaPTiTiMgArThPBRnPBFAr, Min: 23\r\n",
      "Visited 12600000 nodes. 12931 left, Current: CRnSiRnFYCaRnFArArSiRnFArBPBPBCaPBCaPBPBFArThCaRnFAr, Min: 23\r\n",
      "Visited 12700000 nodes. 12590 left, Current: CRnCaCaSiRnFYCaRnFArArSiRnFArBCaPTiBPBPBPBCaFArThSiRnMgArPBRnFAr, Min: 23\r\n",
      "Visited 12800000 nodes. 12656 left, Current: CRnSiRnMgArCaSiRnFYCaRnFArArSiRnFArTiTiTiTiTiBPBCaFArThSiRnBFArPBRnFAr, Min: 23\r\n",
      "Visited 12900000 nodes. 12903 left, Current: CRnSiRnMgArSiRnBFArSiRnFYCaRnFArArSiRnFArBPBPBPTiBPBPBCaFArThCaRnPBFAr, Min: 23\r\n",
      "Visited 13000000 nodes. 13586 left, Current: CRnSiRnBFArSiRnBFArSiRnFYCaRnFArArSiRnFArBPBPTiBPBCaCaPMgArThSiRnBFArPBRnPMgAr, Min: 23\r\n",
      "Visited 13100000 nodes. 11471 left, Current: CRnSiRnBFArSiRnFYCaRnFArArSiRnFArTiBPBCaCaPTiBPBFArThPBCaRnFAr, Min: 23\r\n",
      "Visited 13200000 nodes. 12763 left, Current: CRnCaSiRnFYCaRnFArArSiRnFArTiBPTiBPBPBPBCaFArThCaCaCaRnCaFAr, Min: 23\r\n",
      "Visited 13300000 nodes. 14819 left, Current: CRnCaSiRnFYCaRnFArArSiRnFArBCaPBPTiBCaCaCaFArThSiRnMgArCaCaRnPBFAr, Min: 23\r\n",
      "Visited 13400000 nodes. 18134 left, Current: CRnSiRnMgArSiRnBFArSiRnFYCaRnFArArSiRnFArBCaPTiBCaPTiBPBFArThSiRnMgArPBCaRnCaFAr, Min: 23\r\n",
      "Visited 13500000 nodes. 11837 left, Current: CRnSiRnFYCaRnFArArSiRnFArTiTiBCaCaPBPBPBFArThCaCaCaCaRnPMgAr, Min: 23\r\n",
      "Visited 13600000 nodes. 12046 left, Current: CRnCaSiRnBFArSiRnFYCaRnFArArSiRnFArBCaPTiTiBPTiTiMgArThCaCaCaCaRnPBFAr, Min: 23\r\n",
      "Visited 13700000 nodes. 11713 left, Current: CRnSiRnMgArSiRnBFArSiRnFYCaRnFArArSiRnFArBCaCaPBPTiTiTiBFArThCaCaCaCaRnFAr, Min: 23\r\n",
      "Visited 13800000 nodes. 13960 left, Current: CRnSiRnMgArCaSiRnFYCaRnFArArSiRnFArBPBCaCaCaPBPBCaFArThSiRnMgArCaCaCaRnPBFAr, Min: 23\r\n",
      "Visited 13900000 nodes. 15281 left, Current: CRnSiRnBFArSiRnBFArSiRnFYCaRnFArArSiRnFArBPBPBPBCaPBCaPMgArThSiRnBFArCaCaCaRnPMgAr, Min: 23\r\n",
      "Visited 14000000 nodes. 12558 left, Current: CRnSiRnFYCaRnFArArSiRnFArBPTiBCaCaPBPBPBFArThSiRnBFArSiRnBFArCaRnPBFAr, Min: 23\r\n",
      "Visited 14100000 nodes. 12001 left, Current: CRnCaSiRnFYCaRnFArArSiRnFArBCaCaPBPBCaPBPBFArThCaCaSiRnBFArCaRnPBFAr, Min: 23\r\n",
      "Visited 14200000 nodes. 14426 left, Current: CRnSiRnFYCaRnFArArSiRnFArBPBPBPTiTiTiBPBFArThSiRnMgArCaSiRnMgArCaRnCaFAr, Min: 23\r\n",
      "Visited 14300000 nodes. 14086 left, Current: CRnSiRnMgArCaSiRnFYCaRnFArArSiRnFArBPTiTiBPTiTiTiBFArThCaSiRnMgArCaRnPBFAr, Min: 23\r\n",
      "Visited 14400000 nodes. 11985 left, Current: CRnSiRnBFArCaSiRnFYCaRnFArArSiRnFArBPTiBPBPBCaPBCaFArThSiRnMgArCaSiRnMgArCaRnFAr, Min: 23\r\n",
      "Visited 14500000 nodes. 14973 left, Current: CRnSiRnBFArCaSiRnFYCaRnFArArSiRnFArBCaPBCaCaCaCaPBFArThSiRnBFArCaSiRnBFArCaRnCaFAr, Min: 23\r\n",
      "Visited 14600000 nodes. 13901 left, Current: CRnSiRnBFArSiRnBFArSiRnFYCaRnFArArSiRnFArBPBPTiTiTiBPTiMgArThCaPBSiRnBFArCaRnPMgAr, Min: 23\r\n",
      "Visited 14700000 nodes. 12606 left, Current: CRnCaSiRnMgArSiRnFYCaRnFArArSiRnFArTiBCaCaCaPBCaPMgArThCaCaSiRnMgArCaRnPBFAr, Min: 23\r\n",
      "Visited 14800000 nodes. 12976 left, Current: CRnCaSiRnBFArSiRnFYCaRnFArArSiRnFArTiBPBCaPBPBPTiBFArThCaCaSiRnBFArCaRnCaFAr, Min: 23\r\n",
      "Visited 14900000 nodes. 12390 left, Current: CRnSiRnMgArSiRnMgArSiRnFYCaRnFArArSiRnFArBPBCaPBPBPBPBPMgArThCaSiRnBFArCaRnFAr, Min: 23\r\n",
      "Visited 15000000 nodes. 17568 left, Current: CRnSiRnMgArSiRnMgArSiRnFYCaRnFArArSiRnFArTiBPBCaPTiBPTiMgArThSiRnMgArCaSiRnBFArCaRnCaFAr, Min: 23\r\n",
      "Visited 15100000 nodes. 17972 left, Current: CRnSiRnBFArSiRnMgArSiRnFYCaRnFArArSiRnFArBPTiBCaCaPBPBPBFArThSiRnBFArCaSiRnMgArCaRnCaFAr, Min: 23\r\n",
      "Visited 15200000 nodes. 15697 left, Current: CRnSiRnMgArSiRnBFArSiRnFYCaRnFArArSiRnFArBCaCaPBPTiBPBCaFArThSiRnMgArPBSiRnBFArCaRnPBFAr, Min: 23\r\n",
      "Visited 15300000 nodes. 10121 left, Current: CRnSiRnMgArSiRnFYCaRnFArArSiRnCaFArTiTiBCaFArThCaPBRnPBFAr, Min: 23\r\n",
      "Visited 15400000 nodes. 10431 left, Current: CRnSiRnMgArSiRnBFArSiRnFYCaRnFArArSiRnCaFArTiBCaPBPBFArThSiRnMgArCaRnFAr, Min: 23\r\n",
      "Visited 15500000 nodes. 10762 left, Current: CRnSiRnFYCaRnFArArSiRnCaFArTiBPBPTiMgArThSiRnBFArPBCaCaRnPBFAr, Min: 23\r\n",
      "Visited 15600000 nodes. 10425 left, Current: CRnSiRnFYCaRnFArArSiRnCaFArTiBPBCaCaPMgArThPBRnFAr, Min: 23\r\n",
      "Visited 15700000 nodes. 11085 left, Current: CRnCaSiRnBFArSiRnFYCaRnFArArSiRnCaFArTiBPBPBCaPBFArThCaCaRnPMgAr, Min: 23\r\n",
      "Visited 15800000 nodes. 10554 left, Current: CRnCaSiRnFYCaRnFArArSiRnCaFArTiTiTiTiBCaFArThCaCaSiRnMgArCaRnCaFAr, Min: 23\r\n",
      "Visited 15900000 nodes. 10344 left, Current: CRnSiRnMgArSiRnBFArSiRnFYCaRnFArArSiRnCaFArBCaPBPBCaPMgArThSiRnMgArPBCaCaRnPMgAr, Min: 23\r\n",
      "Visited 16000000 nodes. 10631 left, Current: CRnSiRnMgArSiRnBFArSiRnFYCaRnFArArSiRnCaFArTiTiBPBPTiBFArThSiRnBFArPBCaCaRnCaFAr, Min: 23\r\n",
      "Visited 16100000 nodes. 10492 left, Current: CRnCaSiRnFYCaRnFArArSiRnCaFArBCaCaPBPTiTiBFArThPBSiRnBFArCaRnPMgAr, Min: 23\r\n",
      "Visited 16200000 nodes. 10460 left, Current: CRnCaSiRnMgArSiRnFYCaRnFArArSiRnCaFArBCaCaCaPBPBPMgArThPBSiRnMgArCaRnPMgAr, Min: 23\r\n",
      "Visited 16300000 nodes. 11217 left, Current: CRnSiRnMgArSiRnFYCaRnFArArSiRnCaFArTiBPTiTiBCaPMgArThCaCaRnPBFAr, Min: 23\r\n",
      "Visited 16400000 nodes. 11953 left, Current: CRnSiRnMgArSiRnBFArSiRnFYCaRnFArArSiRnCaFArBCaPBPBPTiBCaFArThSiRnMgArCaRnCaFAr, Min: 23\r\n",
      "Visited 16500000 nodes. 11892 left, Current: CRnCaSiRnBFArSiRnFYCaRnFArArSiRnCaFArBPBPBPBCaPBPMgArThCaCaCaRnPMgAr, Min: 23\r\n",
      "Visited 16600000 nodes. 14194 left, Current: CRnSiRnBFArSiRnBFArSiRnFYCaRnFArArSiRnCaFArBCaCaPBPTiBPBFArThCaSiRnBFArCaRnCaFAr, Min: 23\r\n",
      "Visited 16700000 nodes. 11278 left, Current: CRnSiRnMgArCaSiRnFYCaRnFArArSiRnCaFArBPTiBPTiTiTiBFArThCaPBCaRnPMgAr, Min: 23\r\n",
      "Visited 16800000 nodes. 12461 left, Current: CRnSiRnMgArCaSiRnFYCaRnFArArSiRnCaFArTiTiBCaPTiBPMgArThCaCaSiRnBFArCaRnPBFAr, Min: 23\r\n",
      "Visited 16900000 nodes. 10553 left, Current: CRnSiRnBFArSiRnMgArSiRnFYCaRnFArArSiRnCaFArBPBCaPTiBPTiBFArThSiRnMgArPBCaRnPBFAr, Min: 23\r\n",
      "Visited 17000000 nodes. 10872 left, Current: CRnSiRnMgArSiRnBFArSiRnFYCaRnFArArSiRnCaFArBPBCaCaPTiBCaFArThSiRnMgArPBCaRnFAr, Min: 23\r\n",
      "Visited 17100000 nodes. 13178 left, Current: CRnCaCaSiRnFYCaRnFArArSiRnCaFArBPBCaPBPBCaCaFArThSiRnBFArCaCaRnCaFAr, Min: 23\r\n",
      "Visited 17200000 nodes. 13662 left, Current: CRnSiRnBFArCaSiRnFYCaRnFArArSiRnCaFArTiBPTiBPBPBPBFArThSiRnBFArCaCaCaRnPBFAr, Min: 23\r\n",
      "Visited 17300000 nodes. 13935 left, Current: CRnSiRnBFArSiRnFYCaRnFArArSiRnCaFArTiBCaCaPBPTiBFArThSiRnMgArCaSiRnMgArCaRnCaFAr, Min: 23\r\n",
      "Visited 17400000 nodes. 15003 left, Current: CRnSiRnMgArSiRnBFArSiRnFYCaRnFArArSiRnCaFArBCaPTiBPBCaCaFArThSiRnBFArPBSiRnMgArCaRnCaFAr, Min: 23\r\n",
      "Visited 17500000 nodes. 10461 left, Current: CRnSiRnBFArSiRnFYCaRnFArArSiRnPMgArTiBPBCaPMgArThCaRnPMgAr, Min: 23\r\n",
      "Visited 17600000 nodes. 10477 left, Current: CRnSiRnMgArCaSiRnFYCaRnFArArSiRnPBFArBCaCaPBPBPMgArThSiRnBFArPBRnFAr, Min: 23\r\n",
      "Visited 17700000 nodes. 12117 left, Current: CRnSiRnFYCaRnFArArSiRnPMgArBPBCaCaCaPMgArThCaRnPMgAr, Min: 23\r\n",
      "Visited 17800000 nodes. 11640 left, Current: CRnSiRnFYCaRnFArArSiRnPMgArTiBPTiBPBPBCaFArThSiRnMgArPBRnFAr, Min: 23\r\n",
      "Visited 17900000 nodes. 11609 left, Current: CRnSiRnBFArSiRnBFArSiRnFYCaRnFArArSiRnPBFArTiTiBCaPTiBPBFArThCaRnFAr, Min: 23\r\n",
      "Visited 18000000 nodes. 11144 left, Current: CRnSiRnMgArCaSiRnFYCaRnFArArSiRnPMgArBCaCaPBPBPBPMgArThCaRnPMgAr, Min: 23\r\n",
      "Visited 18100000 nodes. 12623 left, Current: CRnCaSiRnBFArSiRnFYCaRnFArArSiRnPMgArBPTiBPBPTiBCaFArThSiRnMgArPBRnCaFAr, Min: 23\r\n",
      "Visited 18200000 nodes. 13082 left, Current: CRnCaCaSiRnFYCaRnFArArSiRnPBFArBPTiBPTiBCaPMgArThSiRnBFArCaRnCaFAr, Min: 23\r\n",
      "Visited 18300000 nodes. 13483 left, Current: CRnSiRnBFArSiRnMgArSiRnFYCaRnFArArSiRnPBFArBPTiBPBCaCaPBFArThCaPBRnPMgAr, Min: 23\r\n",
      "Visited 18400000 nodes. 11824 left, Current: CRnSiRnFYCaRnFArArSiRnCaFArBPBCaPBPBCaCaPMgArThCaCaRnFAr, Min: 23\r\n",
      "Visited 18500000 nodes. 11356 left, Current: CRnSiRnMgArSiRnFYCaRnFArArSiRnCaFArBPTiTiBPBCaCaCaFArThCaPBRnFAr, Min: 23\r\n",
      "Visited 18600000 nodes. 11269 left, Current: CRnCaSiRnBFArSiRnFYCaRnFArArSiRnCaFArBPBPTiBPBPTiTiBFArThPBRnFAr, Min: 23\r\n",
      "Visited 18700000 nodes. 13312 left, Current: CRnCaSiRnMgArSiRnFYCaRnFArArSiRnPMgArBCaPBPTiBPBPBPMgArThSiRnMgArCaRnFAr, Min: 23\r\n",
      "Visited 18800000 nodes. 11570 left, Current: CRnSiRnBFArCaSiRnFYCaRnFArArSiRnPBFArBPBPTiTiTiBPTiMgArThSiRnBFArPBRnFAr, Min: 23\r\n",
      "Visited 18900000 nodes. 13878 left, Current: CRnSiRnMgArSiRnBFArSiRnFYCaRnFArArSiRnPBFArTiBPTiBPBPBCaPMgArThRnFAr, Min: 23\r\n",
      "Visited 19000000 nodes. 12241 left, Current: CRnSiRnFYCaRnFArArSiRnCaFArBCaCaPBCaPTiBCaFArThRnPMgAr, Min: 23\r\n",
      "Visited 19100000 nodes. 11984 left, Current: CRnSiRnMgArSiRnFYCaRnFArArSiRnCaFArBCaCaPTiBPBCaPBFArThCaRnPMgAr, Min: 23\r\n",
      "Visited 19200000 nodes. 12921 left, Current: CRnCaCaSiRnFYCaRnFArArSiRnCaFArTiBCaCaPBPBPBCaFArThSiRnMgArPBRnPMgAr, Min: 23\r\n",
      "Visited 19300000 nodes. 11468 left, Current: CRnCaSiRnBFArSiRnFYCaRnFArArSiRnCaFArBPTiBCaPTiTiBPMgArThSiRnBFArPBRnPBFAr, Min: 23\r\n",
      "Visited 19400000 nodes. 12492 left, Current: CRnSiRnMgArSiRnFYCaRnFArArSiRnPMgArBCaPBPBPBPBPTiBFArThSiRnBFArPBRnPBFAr, Min: 23\r\n",
      "Visited 19500000 nodes. 13039 left, Current: CRnSiRnMgArSiRnMgArSiRnFYCaRnFArArSiRnPMgArBPTiTiBPBPTiTiMgArThCaRnCaFAr, Min: 23\r\n",
      "Visited 19600000 nodes. 12871 left, Current: CRnSiRnMgArSiRnFYCaRnFArArSiRnPBFArTiTiBCaCaCaCaPBFArThSiRnMgArCaRnCaFAr, Min: 23\r\n",
      "Visited 19700000 nodes. 15574 left, Current: CRnSiRnBFArCaSiRnFYCaRnFArArSiRnPBFArTiTiBPBCaPBPTiMgArThSiRnBFArCaRnCaFAr, Min: 23\r\n",
      "Visited 19800000 nodes. 13895 left, Current: CRnSiRnMgArSiRnMgArSiRnFYCaRnFArArSiRnPBFArTiBPBCaCaPBCaPBFArThCaCaRnPBFAr, Min: 23\r\n",
      "Visited 19900000 nodes. 13794 left, Current: CRnCaSiRnMgArSiRnFYCaRnFArArSiRnPMgArBPBPTiBCaCaPBPBFArThSiRnMgArPBRnPMgAr, Min: 23\r\n",
      "Visited 20000000 nodes. 14144 left, Current: CRnSiRnBFArSiRnFYCaRnFArArSiRnPMgArTiBCaPTiBPBCaCaFArThCaPBRnPBFAr, Min: 23\r\n",
      "Visited 20100000 nodes. 15324 left, Current: CRnSiRnBFArSiRnMgArSiRnFYCaRnFArArSiRnCaFArBPBCaPTiTiBCaPBFArThCaCaRnPBFAr, Min: 23\r\n",
      "Visited 20200000 nodes. 15345 left, Current: CRnSiRnBFArSiRnMgArSiRnFYCaRnFArArSiRnCaFArBCaPTiBPTiBPBCaFArThPBRnPMgAr, Min: 23\r\n",
      "Visited 20300000 nodes. 17407 left, Current: CRnSiRnMgArCaSiRnFYCaRnFArArSiRnPMgArBPTiBPTiTiTiBPMgArThSiRnBFArCaRnCaFAr, Min: 23\r\n",
      "Visited 20400000 nodes. 15636 left, Current: CRnSiRnMgArSiRnFYCaRnFArArSiRnPBFArBCaCaPBPBPTiBPMgArThSiRnBFArPBRnPMgAr, Min: 23\r\n",
      "Visited 20500000 nodes. 21492 left, Current: CRnSiRnMgArSiRnMgArSiRnFYCaRnFArArSiRnPMgArBCaCaPTiTiBPTiBFArThSiRnBFArCaRnPBFAr, Min: 23\r\n",
      "Visited 20600000 nodes. 20734 left, Current: CRnSiRnBFArSiRnBFArSiRnFYCaRnFArArSiRnPBFArTiBPTiBCaPBCaPMgArThSiRnMgArCaRnPMgAr, Min: 23\r\n",
      "Visited 20700000 nodes. 10072 left, Current: CRnSiRnBFArSiRnBFArSiRnFYCaRnFArArSiRnPMgArBPBCaPBFArThPBCaRnPBFAr, Min: 23\r\n",
      "Visited 20800000 nodes. 10632 left, Current: CRnCaSiRnFYCaRnFArArSiRnPMgArBPBCaCaCaPMgArThPBCaRnFAr, Min: 23\r\n",
      "Visited 20900000 nodes. 11110 left, Current: CRnSiRnMgArSiRnFYCaRnFArArSiRnPMgArBPBCaPTiTiBFArThSiRnMgArPBCaRnPMgAr, Min: 23\r\n",
      "Visited 21000000 nodes. 10688 left, Current: CRnCaSiRnFYCaRnFArArSiRnPBFArBPBPBPBPTiTiBFArThPBCaRnPBFAr, Min: 23\r\n",
      "Visited 21100000 nodes. 11769 left, Current: CRnCaCaSiRnFYCaRnFArArSiRnPMgArTiBPBCaCaCaPBFArThCaCaCaRnCaFAr, Min: 23\r\n",
      "Visited 21200000 nodes. 11650 left, Current: CRnCaSiRnFYCaRnFArArSiRnPBFArTiBCaPBPTiBPMgArThSiRnBFArCaCaRnPMgAr, Min: 23\r\n",
      "Visited 21300000 nodes. 12271 left, Current: CRnCaSiRnBFArSiRnFYCaRnFArArSiRnPMgArBPBPBPBPBCaCaFArThSiRnMgArPBCaRnFAr, Min: 23\r\n",
      "Visited 21400000 nodes. 10541 left, Current: CRnSiRnMgArSiRnFYCaRnFArArSiRnPMgArTiBPTiBPBPTiBCaFArThPBCaRnFAr, Min: 23\r\n",
      "Visited 21500000 nodes. 12021 left, Current: CRnSiRnMgArSiRnFYCaRnFArArSiRnPMgArTiBCaPTiTiTiBPMgArThPBCaRnPMgAr, Min: 23\r\n",
      "Visited 21600000 nodes. 14520 left, Current: CRnSiRnMgArSiRnMgArSiRnFYCaRnFArArSiRnPMgArBPBCaPBPBPTiBCaFArThPBCaRnPMgAr, Min: 23\r\n",
      "Visited 21700000 nodes. 13722 left, Current: CRnCaSiRnBFArSiRnFYCaRnFArArSiRnCaFArTiBPTiBPTiTiBPMgArThCaCaCaRnFAr, Min: 23\r\n",
      "Visited 21800000 nodes. 12024 left, Current: CRnSiRnFYCaRnFArArSiRnPBFArBCaPBPTiTiBCaPBFArThCaPBCaRnCaFAr, Min: 23\r\n",
      "Visited 21900000 nodes. 13794 left, Current: CRnCaCaSiRnFYCaRnFArArSiRnPMgArBPTiBPBPTiTiBPMgArThCaPBCaRnCaFAr, Min: 23\r\n",
      "Visited 22000000 nodes. 13703 left, Current: CRnCaSiRnBFArSiRnFYCaRnFArArSiRnPMgArTiTiBPTiTiBCaPBFArThCaCaCaRnCaFAr, Min: 23\r\n",
      "Visited 22100000 nodes. 17866 left, Current: CRnSiRnMgArSiRnBFArSiRnFYCaRnFArArSiRnPBFArBCaPBCaPTiTiBPBFArThCaCaCaRnPBFAr, Min: 23\r\n",
      "Visited 22200000 nodes. 12883 left, Current: CRnSiRnMgArSiRnMgArSiRnFYCaRnFArArSiRnCaFArTiTiBPTiBPTiBPMgArThSiRnMgArPBCaRnFAr, Min: 23\r\n",
      "Visited 22300000 nodes. 12149 left, Current: CRnCaSiRnBFArSiRnFYCaRnFArArSiRnPMgArBPBCaPBCaPBCaPBFArThSiRnMgArPBCaRnFAr, Min: 23\r\n",
      "Visited 22400000 nodes. 11233 left, Current: CRnCaSiRnFYCaRnFArArSiRnCaFArBPTiBCaCaPBCaCaFArThSiRnMgArCaCaRnPBFAr, Min: 23\r\n",
      "Visited 22500000 nodes. 16020 left, Current: CRnSiRnMgArSiRnFYCaRnFArArSiRnCaFArTiTiBPTiBPBPBPBFArThSiRnMgArCaCaRnPBFAr, Min: 23\r\n",
      "Visited 22600000 nodes. 15499 left, Current: CRnCaSiRnFYCaRnFArArSiRnPMgArTiBPTiBPTiBPTiMgArThSiRnMgArCaCaRnPBFAr, Min: 23\r\n",
      "Visited 22700000 nodes. 13415 left, Current: CRnCaSiRnBFArSiRnFYCaRnFArArSiRnPMgArBCaPBPBPBPBPBPMgArThSiRnMgArPBCaRnPBFAr, Min: 23\r\n",
      "Visited 22800000 nodes. 16284 left, Current: CRnSiRnBFArSiRnFYCaRnFArArSiRnPBFArBCaCaPTiBCaCaPMgArThSiRnBFArCaCaRnPBFAr, Min: 23\r\n",
      "Visited 22900000 nodes. 17867 left, Current: CRnSiRnMgArSiRnMgArSiRnFYCaRnFArArSiRnPMgArBCaPTiTiBPBCaPBFArThSiRnMgArPBCaRnPBFAr, Min: 23\r\n",
      "Visited 23000000 nodes. 17831 left, Current: CRnSiRnMgArSiRnMgArSiRnFYCaRnFArArSiRnPBFArTiBCaCaCaPTiBPBFArThSiRnBFArPBCaRnCaFAr, Min: 23\r\n",
      "Visited 23100000 nodes. 16963 left, Current: CRnSiRnBFArSiRnBFArSiRnFYCaRnFArArSiRnPBFArBCaCaCaCaCaPBPMgArThSiRnBFArPBCaRnPMgAr, Min: 23\r\n",
      "Visited 23200000 nodes. 10622 left, Current: CRnCaSiRnBFArSiRnFYCaRnFArArSiRnPMgArTiBCaPTiMgArThSiRnMgArCaCaCaRnFAr, Min: 23\r\n",
      "Visited 23300000 nodes. 10459 left, Current: CRnSiRnBFArSiRnMgArSiRnFYCaRnFArArSiRnPMgArBCaPBPTiTiBFArThCaPBCaCaRnPBFAr, Min: 23\r\n",
      "Visited 23400000 nodes. 12953 left, Current: CRnSiRnMgArCaSiRnFYCaRnFArArSiRnPMgArBPBPBCaPTiBFArThSiRnMgArPBCaCaRnCaFAr, Min: 23\r\n",
      "Visited 23500000 nodes. 10694 left, Current: CRnSiRnBFArCaSiRnFYCaRnFArArSiRnPBFArBCaCaCaPBCaPBFArThSiRnMgArPBCaCaRnFAr, Min: 23\r\n",
      "Visited 23600000 nodes. 11206 left, Current: CRnCaCaSiRnFYCaRnFArArSiRnPBFArTiBPTiBPTiTiBFArThPBCaCaRnPBFAr, Min: 23\r\n",
      "Visited 23700000 nodes. 13141 left, Current: CRnSiRnMgArSiRnFYCaRnFArArSiRnPBFArBPBCaCaPBPBCaFArThSiRnMgArCaCaCaRnCaFAr, Min: 23\r\n",
      "Visited 23800000 nodes. 15236 left, Current: CRnSiRnBFArCaSiRnFYCaRnFArArSiRnPBFArTiBPBCaPBPTiMgArThSiRnMgArCaCaCaRnCaFAr, Min: 23\r\n",
      "Visited 23900000 nodes. 10793 left, Current: CRnCaSiRnFYCaRnFArArSiRnPBFArBPTiBPTiBPBPTiBFArThPBCaCaRnFAr, Min: 23\r\n",
      "Visited 24000000 nodes. 11236 left, Current: CRnCaCaSiRnFYCaRnFArArSiRnCaFArTiTiTiTiBPBPBCaFArThCaPBCaCaRnFAr, Min: 23\r\n",
      "Visited 24100000 nodes. 11236 left, Current: CRnSiRnMgArSiRnMgArSiRnFYCaRnFArArSiRnPBFArBPBPTiTiBCaPTiBFArThPBCaCaRnFAr, Min: 23\r\n",
      "Visited 24200000 nodes. 13846 left, Current: CRnSiRnMgArCaSiRnFYCaRnFArArSiRnPBFArBPBPBPTiTiBCaCaFArThSiRnMgArCaCaCaRnFAr, Min: 23\r\n",
      "Visited 24300000 nodes. 10833 left, Current: CRnSiRnFYCaRnFArArSiRnPMgArBPBPBPTiTiBPBPBFArThPBCaCaRnCaFAr, Min: 23\r\n",
      "Visited 24400000 nodes. 13687 left, Current: CRnSiRnMgArSiRnFYCaRnFArArSiRnPMgArBPTiBPTiTiBPBPBFArThSiRnBFArPBCaCaRnPBFAr, Min: 23\r\n",
      "Visited 24500000 nodes. 12255 left, Current: CRnSiRnBFArSiRnMgArSiRnFYCaRnFArArSiRnCaFArTiBCaPTiTiTiBPMgArThPBCaCaRnPBFAr, Min: 23\r\n",
      "Visited 24600000 nodes. 12485 left, Current: CRnCaSiRnFYCaRnFArArSiRnPMgArBCaPBPBCaPBPBPBFArThSiRnBFArCaCaCaRnPMgAr, Min: 23\r\n",
      "Visited 24700000 nodes. 13243 left, Current: CRnCaSiRnBFArSiRnFYCaRnFArArSiRnPBFArBPTiBPBCaPBCaPMgArThCaCaCaCaRnPMgAr, Min: 23\r\n",
      "Visited 24800000 nodes. 13497 left, Current: CRnSiRnBFArCaSiRnFYCaRnFArArSiRnPBFArTiBPTiTiBPTiBPMgArThSiRnBFArCaCaCaRnPMgAr, Min: 23\r\n",
      "Visited 24900000 nodes. 14161 left, Current: CRnCaSiRnBFArSiRnFYCaRnFArArSiRnCaFArTiBCaCaCaPTiTiMgArThSiRnBFArPBCaCaRnPBFAr, Min: 23\r\n",
      "Visited 25000000 nodes. 13618 left, Current: CRnSiRnBFArCaSiRnFYCaRnFArArSiRnPMgArBPBCaPTiTiBCaPMgArThSiRnMgArPBCaCaRnCaFAr, Min: 23\r\n",
      "Visited 25100000 nodes. 18641 left, Current: CRnSiRnBFArSiRnFYCaRnFArArSiRnCaFArTiTiBPBCaCaCaPMgArThSiRnMgArPBCaCaRnPBFAr, Min: 23\r\n",
      "Visited 25200000 nodes. 20749 left, Current: CRnSiRnMgArCaSiRnFYCaRnFArArSiRnCaFArBPBCaPTiBPBPBCaFArThSiRnMgArPBCaCaRnPMgAr, Min: 23\r\n",
      "Visited 25300000 nodes. 19481 left, Current: CRnSiRnMgArSiRnMgArSiRnFYCaRnFArArSiRnCaFArTiBPBCaPBCaPBPBFArThPBCaCaRnCaFAr, Min: 23\r\n",
      "Visited 25400000 nodes. 20150 left, Current: CRnSiRnMgArSiRnMgArSiRnFYCaRnFArArSiRnPMgArTiTiTiTiBPBCaPBFArThSiRnBFArCaCaCaRnPMgAr, Min: 23\r\n",
      "Visited 25500000 nodes. 20006 left, Current: CRnSiRnMgArSiRnBFArSiRnFYCaRnFArArSiRnPMgArBCaPTiBPBCaCaPBFArThSiRnMgArPBCaCaRnPMgAr, Min: 23\r\n",
      "Visited 25600000 nodes. 13855 left, Current: CRnSiRnBFArSiRnBFArSiRnFYCaRnFArArSiRnCaFArBPBCaPBPTiTiTiBFArThSiRnBFArPBCaCaRnPMgAr, Min: 23\r\n",
      "Visited 25700000 nodes. 10537 left, Current: CRnCaSiRnMgArSiRnFYCaRnFArArSiRnPBFArTiBPBPTiBFArThSiRnMgArSiRnMgArCaRnPBFAr, Min: 23\r\n",
      "Visited 25800000 nodes. 11684 left, Current: CRnSiRnBFArSiRnBFArSiRnFYCaRnFArArSiRnPMgArBCaPTiBPTiBFArThCaSiRnMgArCaRnPMgAr, Min: 23\r\n",
      "Visited 25900000 nodes. 11815 left, Current: CRnSiRnMgArSiRnMgArSiRnFYCaRnFArArSiRnPBFArTiBPBCaPBCaFArThSiRnMgArCaSiRnMgArCaRnFAr, Min: 23\r\n",
      "Visited 26000000 nodes. 10718 left, Current: CRnCaSiRnFYCaRnFArArSiRnPMgArTiTiBPBPBPBPBFArThCaSiRnMgArCaRnFAr, Min: 23\r\n",
      "Visited 26100000 nodes. 12154 left, Current: CRnSiRnMgArSiRnFYCaRnFArArSiRnPBFArBPTiBPBPTiTiBFArThCaCaSiRnMgArCaRnPBFAr, Min: 23\r\n",
      "Visited 26200000 nodes. 11042 left, Current: CRnSiRnBFArCaSiRnFYCaRnFArArSiRnPMgArTiTiTiTiBCaPBFArThSiRnBFArSiRnMgArCaRnFAr, Min: 23\r\n",
      "Visited 26300000 nodes. 11757 left, Current: CRnSiRnMgArCaSiRnFYCaRnFArArSiRnPBFArTiTiBCaPBPBCaFArThPBSiRnMgArCaRnCaFAr, Min: 23\r\n",
      "Visited 26400000 nodes. 12873 left, Current: CRnSiRnBFArSiRnMgArSiRnFYCaRnFArArSiRnPMgArBPTiBPBCaPBPMgArThSiRnBFArSiRnMgArCaRnCaFAr, Min: 23\r\n",
      "Visited 26500000 nodes. 12075 left, Current: CRnSiRnMgArSiRnMgArSiRnFYCaRnFArArSiRnPMgArTiBPBCaPTiBPBFArThPBSiRnMgArCaRnCaFAr, Min: 23\r\n",
      "Visited 26600000 nodes. 15498 left, Current: CRnSiRnMgArSiRnMgArSiRnFYCaRnFArArSiRnPMgArBPBPBCaPTiTiBFArThSiRnMgArPBSiRnMgArCaRnCaFAr, Min: 23\r\n",
      "Visited 26700000 nodes. 13045 left, Current: CRnSiRnFYCaRnFArArSiRnCaFArBPBPTiTiBCaCaCaFArThSiRnMgArCaSiRnBFArCaRnFAr, Min: 23\r\n",
      "Visited 26800000 nodes. 11196 left, Current: CRnCaSiRnFYCaRnFArArSiRnCaFArBPBPBCaPBCaPTiMgArThSiRnBFArPBSiRnMgArCaRnFAr, Min: 23\r\n",
      "Visited 26900000 nodes. 12407 left, Current: CRnSiRnMgArSiRnFYCaRnFArArSiRnCaFArTiBCaCaPBPTiBPBFArThPBSiRnMgArCaRnPMgAr, Min: 23\r\n"
     ]
    }
   ],
   "source": [
    "var aser = new Dijkstra();\n",
    "var start = new HoState{Id = initial};\n",
    "\n",
    "using(new Debug())\n",
    "{\n",
    "    aser.Run(start).Display();\n",
    "}\n",
    "\n",
    "aser.Count.Display();"
   ]
  },
  {
   "cell_type": "markdown",
   "metadata": {},
   "source": []
  },
  {
   "cell_type": "code",
   "execution_count": null,
   "metadata": {
    "dotnet_interactive": {
     "language": "csharp"
    }
   },
   "outputs": [
    {
     "data": {
      "text/html": [
       "<table><thead><tr><th>IsGoal</th><th>Operations</th><th>Id</th></tr></thead><tbody><tr><td><div class=\"dni-plaintext\">False</div></td><td><div class=\"dni-plaintext\">190</div></td><td><div class=\"dni-plaintext\">CRnSiRnFYCaRnFArArFArAl</div></td></tr></tbody></table>"
      ]
     },
     "metadata": {},
     "output_type": "display_data"
    }
   ],
   "source": [
    "aser.MinState"
   ]
  },
  {
   "cell_type": "code",
   "execution_count": null,
   "metadata": {
    "dotnet_interactive": {
     "language": "csharp"
    }
   },
   "outputs": [
    {
     "data": {
      "text/html": [
       "<i>(empty)</i>"
      ]
     },
     "metadata": {},
     "output_type": "display_data"
    }
   ],
   "source": [
    "aser.MinState.Neighbours()\n",
    "// aser.Cost.Display();\n",
    "// aser.Queue.Display();"
   ]
  },
  {
   "cell_type": "code",
   "execution_count": null,
   "metadata": {
    "dotnet_interactive": {
     "language": "csharp"
    }
   },
   "outputs": [],
   "source": [
    "// var r = new Dictionary<string, int>();\n",
    "\n",
    "// var target = \"CRnCaSiRnBSiRnFArTiBPTiTiBFArPBCaSiThSiRnTiBPBPMgArCaSiRnTiMgArCaSiThCaSiRnFArRnSiRnFArTiTiBFArCaCaSiRnSiThCaCaSiRnMgArFYSiRnFYCaFArSiThCaSiThPBPTiMgArCaPRnSiAlArPBCaCaSiRnFYSiThCaRnFArArCaCaSiRnPBSiRnFArMgYCaCaCaCaSiThCaCaSiAlArCaCaSiRnPBSiAlArBCaCaCaCaSiThCaPBSiThPBPBCaSiRnFYFArSiThCaSiRnFArBCaCaSiRnFYFArSiThCaPBSiThCaSiRnPMgArRnFArPTiBCaPRnFArCaCaCaCaSiRnCaCaSiRnFYFArFArBCaSiThFArThSiThSiRnTiRnPMgArFArCaSiThCaPBCaSiRnBFArCaCaPRnCaCaPMgArSiRnFYFArCaSiThRnPBPMgAr\".GetHashCode();\n",
    "// var queue = new PriorityQueue<string, int>();\n",
    "// queue.Enqueue(\"e\",0);\n",
    "// string s;\n",
    "\n",
    "// var c = 0;\n",
    "\n",
    "// var b = new StringBuilder();\n",
    "\n",
    "// while(queue.TryDequeue(out s, out int i))\n",
    "// {\n",
    "//     c++;\n",
    "//     var matches = GetMatches(s);\n",
    "//     foreach(var match in matches)\n",
    "//     {\n",
    "//         var length = match.Key.Length;\n",
    "//         var total = s.Length;\n",
    "//         foreach(var k in d[match.Key])\n",
    "//         {\n",
    "//             var newLength = k.Length;\n",
    "//             foreach(var v in match.Value)\n",
    "//             {\n",
    "//                 b.Clear();\n",
    "//                 b.Append(s,0,v);\n",
    "//                 b.Append(k);\n",
    "//                 b.Append(s.Substring(v + length));\n",
    "//                 var next = b.ToString();\n",
    "//                 var hash = next.GetHashCode();\n",
    "//                 if(hash == target)\n",
    "//                 {\n",
    "//                     Console.WriteLine($\"Found match at {i}\");\n",
    "//                 }\n",
    "//                 if(!r.ContainsKey(hash))\n",
    "//                 {\n",
    "//                     queue.Enqueue(next, i + 1);\n",
    "//                     r[hash] = 1;\n",
    "//                 }\n",
    "//             }\n",
    "//         }\n",
    "//     }\n",
    "\n",
    "//     if(c % 1000000 == 0)\n",
    "//     {\n",
    "//         s.Display();\n",
    "//         break;\n",
    "//     }\n",
    "// }"
   ]
  }
 ],
 "metadata": {
  "kernelspec": {
   "display_name": ".NET (C#)",
   "language": "C#",
   "name": ".net-csharp"
  },
  "language_info": {
   "file_extension": ".cs",
   "mimetype": "text/x-csharp",
   "name": "C#",
   "pygments_lexer": "csharp",
   "version": "9.0"
  },
  "orig_nbformat": 4
 },
 "nbformat": 4,
 "nbformat_minor": 2
}
